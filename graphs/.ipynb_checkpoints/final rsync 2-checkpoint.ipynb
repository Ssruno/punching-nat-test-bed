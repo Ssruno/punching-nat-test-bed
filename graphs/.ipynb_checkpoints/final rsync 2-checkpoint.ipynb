{
 "cells": [
  {
   "cell_type": "code",
   "execution_count": 1,
   "metadata": {},
   "outputs": [],
   "source": [
    "from plotly.subplots import make_subplots\n",
    "import pandas as pd\n",
    "import plotly.graph_objects as go\n",
    "import plotly"
   ]
  },
  {
   "cell_type": "code",
   "execution_count": 2,
   "metadata": {},
   "outputs": [],
   "source": [
    "cols = plotly.colors.DEFAULT_PLOTLY_COLORS"
   ]
  },
  {
   "cell_type": "code",
   "execution_count": 3,
   "metadata": {},
   "outputs": [],
   "source": [
    "small_filter=['1M','10M','50M']\n",
    "big_filter=['100M','500M','1000M']\n",
    "#print(small_filter)"
   ]
  },
  {
   "cell_type": "code",
   "execution_count": 4,
   "metadata": {},
   "outputs": [],
   "source": [
    "#plain netcat\n",
    "p_df = pd.read_csv('../benchmark-nebula/experiments/08_plain/results/08_plain_results.csv', sep=';')\n",
    "#ipsec netcat\n",
    "m_df = pd.read_csv('../benchmark-ipsec/experiments/06_ipsec_netcat_delay/results/06_ipsec_netcat_delay_results.csv', sep=';')\n",
    "#nebula netcat\n",
    "o_df = pd.read_csv('../benchmark-nebula/experiments/05_nebula_netcat_delay/results/05_nebula_netcat_delay_results.csv', sep=';')\n",
    "\n",
    "#plain scp\n",
    "pp_df = pd.read_csv('../benchmark-nebula/experiments/09_scp_plain/results/09_all_result.csv', sep=';')\n",
    "#ipsec scp\n",
    "mm_df = pd.read_csv('../benchmark-ipsec/experiments/10_ipsec_scp/results/10_ipsec_scp_results.csv', sep=';')\n",
    "#nebula scp\n",
    "oo_df = pd.read_csv('../benchmark-nebula/experiments/01_nebula_delay/results/01_nebula_delay_results.csv', sep=';')\n",
    "\n",
    "\n",
    "#plain rsync\n",
    "ppp_df = pd.read_csv('../benchmark-nebula/experiments/11_rsync_plain/results/11_results.csv', sep=';')\n",
    "#ipsec rsync\n",
    "mmm_df = pd.read_csv('../benchmark-ipsec/experiments/13_rsync_ipsec/results/13_results.csv', sep=';')\n",
    "#nebula rsync\n",
    "ooo_df = pd.read_csv('../benchmark-nebula/experiments/12_rsync_nebula/results/12_results.csv', sep=';')"
   ]
  },
  {
   "cell_type": "code",
   "execution_count": 5,
   "metadata": {},
   "outputs": [],
   "source": [
    "p_df['size'] = p_df['size'].str.strip()\n",
    "m_df['size'] = m_df['size'].str.strip()\n",
    "o_df['size'] = o_df['size'].str.strip()\n",
    "\n",
    "pp_df['size'] = pp_df['size'].str.strip()\n",
    "mm_df['size'] = mm_df['size'].str.strip()\n",
    "oo_df['size'] = oo_df['size'].str.strip()\n",
    "\n",
    "ppp_df['size'] = ppp_df['size'].str.strip()\n",
    "mmm_df['size'] = mmm_df['size'].str.strip()\n",
    "ooo_df['size'] = ooo_df['size'].str.strip()"
   ]
  },
  {
   "cell_type": "code",
   "execution_count": 6,
   "metadata": {},
   "outputs": [],
   "source": [
    "# i_m1_filter  = m_df[m_df['size']=='1M']\n",
    "# n_m1_filter  = o_df[o_df['size']=='1M']"
   ]
  },
  {
   "cell_type": "code",
   "execution_count": 7,
   "metadata": {},
   "outputs": [],
   "source": [
    "# M1\n",
    "p_m1_filter  = p_df[p_df['size']=='1M']\n",
    "i_m1_filter  = m_df[m_df['size']=='1M']\n",
    "n_m1_filter  = o_df[o_df['size']=='1M']\n",
    "\n",
    "pp_m1_filter  = pp_df[pp_df['size']=='1M']\n",
    "ii_m1_filter  = mm_df[mm_df['size']=='1M']\n",
    "nn_m1_filter  = oo_df[oo_df['size']=='1M']\n",
    "\n",
    "ppp_m1_filter  = ppp_df[ppp_df['size']=='1M']\n",
    "iii_m1_filter  = mmm_df[mmm_df['size']=='1M']\n",
    "nnn_m1_filter  = ooo_df[ooo_df['size']=='1M']\n",
    "\n",
    "#plain netcat\n",
    "plain_nc_m1_mean_df = p_m1_filter[['seconds', 'filename', 'size']].groupby(['size', 'filename']).agg({'seconds': 'mean'}).reset_index().sort_values('filename', ascending=True)\n",
    "plain_nc_m1_std_df  = p_m1_filter[['seconds', 'filename', 'size']].groupby(['size', 'filename']).agg({'seconds': 'std'}).reset_index().sort_values('filename', ascending=True)\n",
    "\n",
    "# plain scp\n",
    "plain_scp_m1_mean_df = pp_m1_filter[['seconds', 'filename', 'size']].groupby(['size', 'filename']).agg({'seconds': 'mean'}).reset_index().sort_values('filename', ascending=True)\n",
    "plain_scp_m1_std_df  = pp_m1_filter[['seconds', 'filename', 'size']].groupby(['size', 'filename']).agg({'seconds': 'std'}).reset_index().sort_values('filename', ascending=True)\n",
    "\n",
    "# plain rsync\n",
    "plain_rsync_m1_mean_df = ppp_m1_filter[['seconds', 'filename', 'size']].groupby(['size', 'filename']).agg({'seconds': 'mean'}).reset_index().sort_values('filename', ascending=True)\n",
    "plain_rsync_m1_std_df  = ppp_m1_filter[['seconds', 'filename', 'size']].groupby(['size', 'filename']).agg({'seconds': 'std'}).reset_index().sort_values('filename', ascending=True)\n",
    "\n",
    "# IPsec netcat\n",
    "ipsec_nc_m1_mean_df = i_m1_filter[['seconds', 'filename', 'size']].groupby(['size', 'filename']).agg({'seconds': 'mean'}).reset_index().sort_values('filename', ascending=True)\n",
    "ipsec_nc_m1_std_df  = i_m1_filter[['seconds', 'filename', 'size']].groupby(['size', 'filename']).agg({'seconds': 'std'}).reset_index().sort_values('filename', ascending=True)\n",
    "\n",
    "# ipsec scp\n",
    "ipsec_scp_m1_mean_df = ii_m1_filter[['seconds', 'filename', 'size']].groupby(['size', 'filename']).agg({'seconds': 'mean'}).reset_index().sort_values('filename', ascending=True)\n",
    "ipsec_scp_m1_std_df  = ii_m1_filter[['seconds', 'filename', 'size']].groupby(['size', 'filename']).agg({'seconds': 'std'}).reset_index().sort_values('filename', ascending=True)\n",
    "\n",
    "# ipsec rsync\n",
    "ipsec_rsync_m1_mean_df = iii_m1_filter[['seconds', 'filename', 'size']].groupby(['size', 'filename']).agg({'seconds': 'mean'}).reset_index().sort_values('filename', ascending=True)\n",
    "ipsec_rsync_m1_std_df  = iii_m1_filter[['seconds', 'filename', 'size']].groupby(['size', 'filename']).agg({'seconds': 'std'}).reset_index().sort_values('filename', ascending=True)\n",
    "\n",
    "# Nebula netcat\n",
    "nebula_nc_m1_mean_df = n_m1_filter[['seconds', 'filename', 'size']].groupby(['size', 'filename']).agg({'seconds': 'mean'}).reset_index().sort_values('filename', ascending=True)\n",
    "nebula_nc_m1_std_df  = n_m1_filter[['seconds', 'filename', 'size']].groupby(['size', 'filename']).agg({'seconds': 'std'}).reset_index().sort_values('filename', ascending=True)\n",
    "\n",
    "# nebula scp\n",
    "nebula_scp_m1_mean_df = nn_m1_filter[['seconds', 'filename', 'size']].groupby(['size', 'filename']).agg({'seconds': 'mean'}).reset_index().sort_values('filename', ascending=True)\n",
    "nebula_scp_m1_std_df  = nn_m1_filter[['seconds', 'filename', 'size']].groupby(['size', 'filename']).agg({'seconds': 'std'}).reset_index().sort_values('filename', ascending=True)\n",
    "\n",
    "# nebula rsync\n",
    "nebula_rsync_m1_mean_df = nnn_m1_filter[['seconds', 'filename', 'size']].groupby(['size', 'filename']).agg({'seconds': 'mean'}).reset_index().sort_values('filename', ascending=True)\n",
    "nebula_rsync_m1_std_df  = nnn_m1_filter[['seconds', 'filename', 'size']].groupby(['size', 'filename']).agg({'seconds': 'std'}).reset_index().sort_values('filename', ascending=True)"
   ]
  },
  {
   "cell_type": "code",
   "execution_count": 8,
   "metadata": {},
   "outputs": [],
   "source": [
    "# M10\n",
    "p_m10_filter  = p_df[p_df['size']=='10M']\n",
    "i_m10_filter  = m_df[m_df['size']=='10M']\n",
    "n_m10_filter  = o_df[o_df['size']=='10M']\n",
    "\n",
    "pp_m10_filter  = pp_df[pp_df['size']=='10M']\n",
    "ii_m10_filter  = mm_df[mm_df['size']=='10M']\n",
    "nn_m10_filter  = oo_df[oo_df['size']=='10M']\n",
    "\n",
    "ppp_m10_filter  = ppp_df[ppp_df['size']=='10M']\n",
    "iii_m10_filter  = mmm_df[mmm_df['size']=='10M']\n",
    "nnn_m10_filter  = ooo_df[ooo_df['size']=='10M']\n",
    "\n",
    "#plain netcat\n",
    "plain_nc_m10_mean_df = p_m10_filter[['seconds', 'filename', 'size']].groupby(['size', 'filename']).agg({'seconds': 'mean'}).reset_index().sort_values('filename', ascending=True)\n",
    "plain_nc_m10_std_df  = p_m10_filter[['seconds', 'filename', 'size']].groupby(['size', 'filename']).agg({'seconds': 'std'}).reset_index().sort_values('filename', ascending=True)\n",
    "\n",
    "# plain scp\n",
    "plain_scp_m10_mean_df = pp_m10_filter[['seconds', 'filename', 'size']].groupby(['size', 'filename']).agg({'seconds': 'mean'}).reset_index().sort_values('filename', ascending=True)\n",
    "plain_scp_m10_std_df  = pp_m10_filter[['seconds', 'filename', 'size']].groupby(['size', 'filename']).agg({'seconds': 'std'}).reset_index().sort_values('filename', ascending=True)\n",
    "\n",
    "# plain rsync\n",
    "plain_rsync_m10_mean_df = ppp_m10_filter[['seconds', 'filename', 'size']].groupby(['size', 'filename']).agg({'seconds': 'mean'}).reset_index().sort_values('filename', ascending=True)\n",
    "plain_rsync_m10_std_df  = ppp_m10_filter[['seconds', 'filename', 'size']].groupby(['size', 'filename']).agg({'seconds': 'std'}).reset_index().sort_values('filename', ascending=True)\n",
    "\n",
    "# IPsec netcat\n",
    "ipsec_nc_m10_mean_df = i_m10_filter[['seconds', 'filename', 'size']].groupby(['size', 'filename']).agg({'seconds': 'mean'}).reset_index().sort_values('filename', ascending=True)\n",
    "ipsec_nc_m10_std_df  = i_m10_filter[['seconds', 'filename', 'size']].groupby(['size', 'filename']).agg({'seconds': 'std'}).reset_index().sort_values('filename', ascending=True)\n",
    "\n",
    "# ipsec scp\n",
    "ipsec_scp_m10_mean_df = ii_m10_filter[['seconds', 'filename', 'size']].groupby(['size', 'filename']).agg({'seconds': 'mean'}).reset_index().sort_values('filename', ascending=True)\n",
    "ipsec_scp_m10_std_df  = ii_m10_filter[['seconds', 'filename', 'size']].groupby(['size', 'filename']).agg({'seconds': 'std'}).reset_index().sort_values('filename', ascending=True)\n",
    "\n",
    "# ipsec rsync\n",
    "ipsec_rsync_m10_mean_df = iii_m10_filter[['seconds', 'filename', 'size']].groupby(['size', 'filename']).agg({'seconds': 'mean'}).reset_index().sort_values('filename', ascending=True)\n",
    "ipsec_rsync_m10_std_df  = iii_m10_filter[['seconds', 'filename', 'size']].groupby(['size', 'filename']).agg({'seconds': 'std'}).reset_index().sort_values('filename', ascending=True)\n",
    "\n",
    "# Nebula netcat\n",
    "nebula_nc_m10_mean_df = n_m10_filter[['seconds', 'filename', 'size']].groupby(['size', 'filename']).agg({'seconds': 'mean'}).reset_index().sort_values('filename', ascending=True)\n",
    "nebula_nc_m10_std_df  = n_m10_filter[['seconds', 'filename', 'size']].groupby(['size', 'filename']).agg({'seconds': 'std'}).reset_index().sort_values('filename', ascending=True)\n",
    "\n",
    "# nebula scp\n",
    "nebula_scp_m10_mean_df = nn_m10_filter[['seconds', 'filename', 'size']].groupby(['size', 'filename']).agg({'seconds': 'mean'}).reset_index().sort_values('filename', ascending=True)\n",
    "nebula_scp_m10_std_df  = nn_m10_filter[['seconds', 'filename', 'size']].groupby(['size', 'filename']).agg({'seconds': 'std'}).reset_index().sort_values('filename', ascending=True)\n",
    "\n",
    "# nebula rsync\n",
    "nebula_rsync_m10_mean_df = nnn_m10_filter[['seconds', 'filename', 'size']].groupby(['size', 'filename']).agg({'seconds': 'mean'}).reset_index().sort_values('filename', ascending=True)\n",
    "nebula_rsync_m10_std_df  = nnn_m10_filter[['seconds', 'filename', 'size']].groupby(['size', 'filename']).agg({'seconds': 'std'}).reset_index().sort_values('filename', ascending=True)"
   ]
  },
  {
   "cell_type": "code",
   "execution_count": 9,
   "metadata": {},
   "outputs": [],
   "source": [
    "# M50\n",
    "p_m50_filter  = p_df[p_df['size']=='50M']\n",
    "i_m50_filter  = m_df[m_df['size']=='50M']\n",
    "n_m50_filter  = o_df[o_df['size']=='50M']\n",
    "\n",
    "pp_m50_filter  = pp_df[pp_df['size']=='50M']\n",
    "ii_m50_filter  = mm_df[mm_df['size']=='50M']\n",
    "nn_m50_filter  = oo_df[oo_df['size']=='50M']\n",
    "\n",
    "ppp_m50_filter  = ppp_df[ppp_df['size']=='50M']\n",
    "iii_m50_filter  = mmm_df[mmm_df['size']=='50M']\n",
    "nnn_m50_filter  = ooo_df[ooo_df['size']=='50M']\n",
    "\n",
    "#plain netcat\n",
    "plain_nc_m50_mean_df = p_m50_filter[['seconds', 'filename', 'size']].groupby(['size', 'filename']).agg({'seconds': 'mean'}).reset_index().sort_values('filename', ascending=True)\n",
    "plain_nc_m50_std_df  = p_m50_filter[['seconds', 'filename', 'size']].groupby(['size', 'filename']).agg({'seconds': 'std'}).reset_index().sort_values('filename', ascending=True)\n",
    "\n",
    "# plain scp\n",
    "plain_scp_m50_mean_df = pp_m50_filter[['seconds', 'filename', 'size']].groupby(['size', 'filename']).agg({'seconds': 'mean'}).reset_index().sort_values('filename', ascending=True)\n",
    "plain_scp_m50_std_df  = pp_m50_filter[['seconds', 'filename', 'size']].groupby(['size', 'filename']).agg({'seconds': 'std'}).reset_index().sort_values('filename', ascending=True)\n",
    "\n",
    "# plain rsync\n",
    "plain_rsync_m50_mean_df = ppp_m50_filter[['seconds', 'filename', 'size']].groupby(['size', 'filename']).agg({'seconds': 'mean'}).reset_index().sort_values('filename', ascending=True)\n",
    "plain_rsync_m50_std_df  = ppp_m50_filter[['seconds', 'filename', 'size']].groupby(['size', 'filename']).agg({'seconds': 'std'}).reset_index().sort_values('filename', ascending=True)\n",
    "\n",
    "# IPsec netcat\n",
    "ipsec_nc_m50_mean_df = i_m50_filter[['seconds', 'filename', 'size']].groupby(['size', 'filename']).agg({'seconds': 'mean'}).reset_index().sort_values('filename', ascending=True)\n",
    "ipsec_nc_m50_std_df  = i_m50_filter[['seconds', 'filename', 'size']].groupby(['size', 'filename']).agg({'seconds': 'std'}).reset_index().sort_values('filename', ascending=True)\n",
    "\n",
    "# ipsec scp\n",
    "ipsec_scp_m50_mean_df = ii_m50_filter[['seconds', 'filename', 'size']].groupby(['size', 'filename']).agg({'seconds': 'mean'}).reset_index().sort_values('filename', ascending=True)\n",
    "ipsec_scp_m50_std_df  = ii_m50_filter[['seconds', 'filename', 'size']].groupby(['size', 'filename']).agg({'seconds': 'std'}).reset_index().sort_values('filename', ascending=True)\n",
    "\n",
    "# ipsec rsync\n",
    "ipsec_rsync_m50_mean_df = iii_m50_filter[['seconds', 'filename', 'size']].groupby(['size', 'filename']).agg({'seconds': 'mean'}).reset_index().sort_values('filename', ascending=True)\n",
    "ipsec_rsync_m50_std_df  = iii_m50_filter[['seconds', 'filename', 'size']].groupby(['size', 'filename']).agg({'seconds': 'std'}).reset_index().sort_values('filename', ascending=True)\n",
    "\n",
    "\n",
    "# Nebula netcat\n",
    "nebula_nc_m50_mean_df = n_m50_filter[['seconds', 'filename', 'size']].groupby(['size', 'filename']).agg({'seconds': 'mean'}).reset_index().sort_values('filename', ascending=True)\n",
    "nebula_nc_m50_std_df  = n_m50_filter[['seconds', 'filename', 'size']].groupby(['size', 'filename']).agg({'seconds': 'std'}).reset_index().sort_values('filename', ascending=True)\n",
    "\n",
    "# nebula scp\n",
    "nebula_scp_m50_mean_df = nn_m50_filter[['seconds', 'filename', 'size']].groupby(['size', 'filename']).agg({'seconds': 'mean'}).reset_index().sort_values('filename', ascending=True)\n",
    "nebula_scp_m50_std_df  = nn_m50_filter[['seconds', 'filename', 'size']].groupby(['size', 'filename']).agg({'seconds': 'std'}).reset_index().sort_values('filename', ascending=True)\n",
    "\n",
    "\n",
    "# nebula rsync\n",
    "nebula_rsync_m50_mean_df = nnn_m50_filter[['seconds', 'filename', 'size']].groupby(['size', 'filename']).agg({'seconds': 'mean'}).reset_index().sort_values('filename', ascending=True)\n",
    "nebula_rsync_m50_std_df  = nnn_m50_filter[['seconds', 'filename', 'size']].groupby(['size', 'filename']).agg({'seconds': 'std'}).reset_index().sort_values('filename', ascending=True)"
   ]
  },
  {
   "cell_type": "code",
   "execution_count": 10,
   "metadata": {},
   "outputs": [],
   "source": [
    "# M100\n",
    "p_m100_filter  = p_df[p_df['size']=='100M']\n",
    "i_m100_filter  = m_df[m_df['size']=='100M']\n",
    "n_m100_filter  = o_df[o_df['size']=='100M']\n",
    "\n",
    "pp_m100_filter  = pp_df[pp_df['size']=='100M']\n",
    "ii_m100_filter  = mm_df[mm_df['size']=='100M']\n",
    "nn_m100_filter  = oo_df[oo_df['size']=='100M']\n",
    "\n",
    "ppp_m100_filter  = ppp_df[ppp_df['size']=='100M']\n",
    "iii_m100_filter  = mmm_df[mmm_df['size']=='100M']\n",
    "nnn_m100_filter  = ooo_df[ooo_df['size']=='100M']\n",
    "\n",
    "#plain netcat\n",
    "plain_nc_m100_mean_df = p_m100_filter[['seconds', 'filename', 'size']].groupby(['size', 'filename']).agg({'seconds': 'mean'}).reset_index().sort_values('filename', ascending=True)\n",
    "plain_nc_m100_std_df  = p_m100_filter[['seconds', 'filename', 'size']].groupby(['size', 'filename']).agg({'seconds': 'std'}).reset_index().sort_values('filename', ascending=True)\n",
    "\n",
    "# plain scp\n",
    "plain_scp_m100_mean_df = pp_m100_filter[['seconds', 'filename', 'size']].groupby(['size', 'filename']).agg({'seconds': 'mean'}).reset_index().sort_values('filename', ascending=True)\n",
    "plain_scp_m100_std_df  = pp_m100_filter[['seconds', 'filename', 'size']].groupby(['size', 'filename']).agg({'seconds': 'std'}).reset_index().sort_values('filename', ascending=True)\n",
    "\n",
    "# plain rsync\n",
    "plain_rsync_m100_mean_df = ppp_m100_filter[['seconds', 'filename', 'size']].groupby(['size', 'filename']).agg({'seconds': 'mean'}).reset_index().sort_values('filename', ascending=True)\n",
    "plain_rsync_m100_std_df  = ppp_m100_filter[['seconds', 'filename', 'size']].groupby(['size', 'filename']).agg({'seconds': 'std'}).reset_index().sort_values('filename', ascending=True)\n",
    "\n",
    "\n",
    "# IPsec netcat\n",
    "ipsec_nc_m100_mean_df = i_m100_filter[['seconds', 'filename', 'size']].groupby(['size', 'filename']).agg({'seconds': 'mean'}).reset_index().sort_values('filename', ascending=True)\n",
    "ipsec_nc_m100_std_df  = i_m100_filter[['seconds', 'filename', 'size']].groupby(['size', 'filename']).agg({'seconds': 'std'}).reset_index().sort_values('filename', ascending=True)\n",
    "\n",
    "# ipsec scp\n",
    "ipsec_scp_m100_mean_df = ii_m100_filter[['seconds', 'filename', 'size']].groupby(['size', 'filename']).agg({'seconds': 'mean'}).reset_index().sort_values('filename', ascending=True)\n",
    "ipsec_scp_m100_std_df  = ii_m100_filter[['seconds', 'filename', 'size']].groupby(['size', 'filename']).agg({'seconds': 'std'}).reset_index().sort_values('filename', ascending=True)\n",
    "\n",
    "# ipsec rsync\n",
    "ipsec_rsync_m100_mean_df = iii_m100_filter[['seconds', 'filename', 'size']].groupby(['size', 'filename']).agg({'seconds': 'mean'}).reset_index().sort_values('filename', ascending=True)\n",
    "ipsec_rsync_m100_std_df  = iii_m100_filter[['seconds', 'filename', 'size']].groupby(['size', 'filename']).agg({'seconds': 'std'}).reset_index().sort_values('filename', ascending=True)\n",
    "\n",
    "\n",
    "# Nebula netcat\n",
    "nebula_nc_m100_mean_df = n_m100_filter[['seconds', 'filename', 'size']].groupby(['size', 'filename']).agg({'seconds': 'mean'}).reset_index().sort_values('filename', ascending=True)\n",
    "nebula_nc_m100_std_df  = n_m100_filter[['seconds', 'filename', 'size']].groupby(['size', 'filename']).agg({'seconds': 'std'}).reset_index().sort_values('filename', ascending=True)\n",
    "\n",
    "# nebula scp\n",
    "nebula_scp_m100_mean_df = nn_m100_filter[['seconds', 'filename', 'size']].groupby(['size', 'filename']).agg({'seconds': 'mean'}).reset_index().sort_values('filename', ascending=True)\n",
    "nebula_scp_m100_std_df  = nn_m100_filter[['seconds', 'filename', 'size']].groupby(['size', 'filename']).agg({'seconds': 'std'}).reset_index().sort_values('filename', ascending=True)\n",
    "\n",
    "# nebula relay\n",
    "nebula_rsync_m100_mean_df = nnn_m100_filter[['seconds', 'filename', 'size']].groupby(['size', 'filename']).agg({'seconds': 'mean'}).reset_index().sort_values('filename', ascending=True)\n",
    "nebula_rsync_m100_std_df  = nnn_m100_filter[['seconds', 'filename', 'size']].groupby(['size', 'filename']).agg({'seconds': 'std'}).reset_index().sort_values('filename', ascending=True)"
   ]
  },
  {
   "cell_type": "code",
   "execution_count": 11,
   "metadata": {},
   "outputs": [],
   "source": [
    "# M500\n",
    "p_m500_filter  = p_df[p_df['size']=='500M']\n",
    "i_m500_filter  = m_df[m_df['size']=='500M']\n",
    "n_m500_filter  = o_df[o_df['size']=='500M']\n",
    "\n",
    "pp_m500_filter  = pp_df[pp_df['size']=='500M']\n",
    "ii_m500_filter  = mm_df[mm_df['size']=='500M']\n",
    "nn_m500_filter  = oo_df[oo_df['size']=='500M']\n",
    "\n",
    "ppp_m500_filter  = ppp_df[ppp_df['size']=='500M']\n",
    "iii_m500_filter  = mmm_df[mmm_df['size']=='500M']\n",
    "nnn_m500_filter  = ooo_df[ooo_df['size']=='500M']\n",
    "\n",
    "#plain netcat\n",
    "plain_nc_m500_mean_df = p_m500_filter[['seconds', 'filename', 'size']].groupby(['size', 'filename']).agg({'seconds': 'mean'}).reset_index().sort_values('filename', ascending=True)\n",
    "plain_nc_m500_std_df  = p_m500_filter[['seconds', 'filename', 'size']].groupby(['size', 'filename']).agg({'seconds': 'std'}).reset_index().sort_values('filename', ascending=True)\n",
    "\n",
    "# plain scp\n",
    "plain_scp_m500_mean_df = pp_m500_filter[['seconds', 'filename', 'size']].groupby(['size', 'filename']).agg({'seconds': 'mean'}).reset_index().sort_values('filename', ascending=True)\n",
    "plain_scp_m500_std_df  = pp_m500_filter[['seconds', 'filename', 'size']].groupby(['size', 'filename']).agg({'seconds': 'std'}).reset_index().sort_values('filename', ascending=True)\n",
    "\n",
    "# plain rsync\n",
    "plain_rsync_m500_mean_df = ppp_m500_filter[['seconds', 'filename', 'size']].groupby(['size', 'filename']).agg({'seconds': 'mean'}).reset_index().sort_values('filename', ascending=True)\n",
    "plain_rsync_m500_std_df  = ppp_m500_filter[['seconds', 'filename', 'size']].groupby(['size', 'filename']).agg({'seconds': 'std'}).reset_index().sort_values('filename', ascending=True)\n",
    "\n",
    "\n",
    "# IPsec netcat\n",
    "ipsec_nc_m500_mean_df = i_m500_filter[['seconds', 'filename', 'size']].groupby(['size', 'filename']).agg({'seconds': 'mean'}).reset_index().sort_values('filename', ascending=True)\n",
    "ipsec_nc_m500_std_df  = i_m500_filter[['seconds', 'filename', 'size']].groupby(['size', 'filename']).agg({'seconds': 'std'}).reset_index().sort_values('filename', ascending=True)\n",
    "\n",
    "# ipsec scp\n",
    "ipsec_scp_m500_mean_df = ii_m500_filter[['seconds', 'filename', 'size']].groupby(['size', 'filename']).agg({'seconds': 'mean'}).reset_index().sort_values('filename', ascending=True)\n",
    "ipsec_scp_m500_std_df  = ii_m500_filter[['seconds', 'filename', 'size']].groupby(['size', 'filename']).agg({'seconds': 'std'}).reset_index().sort_values('filename', ascending=True)\n",
    "\n",
    "# ipsec rsync\n",
    "ipsec_rsync_m500_mean_df = iii_m500_filter[['seconds', 'filename', 'size']].groupby(['size', 'filename']).agg({'seconds': 'mean'}).reset_index().sort_values('filename', ascending=True)\n",
    "ipsec_rsync_m500_std_df  = iii_m500_filter[['seconds', 'filename', 'size']].groupby(['size', 'filename']).agg({'seconds': 'std'}).reset_index().sort_values('filename', ascending=True)\n",
    "\n",
    "\n",
    "# Nebula netcat\n",
    "nebula_nc_m500_mean_df = n_m500_filter[['seconds', 'filename', 'size']].groupby(['size', 'filename']).agg({'seconds': 'mean'}).reset_index().sort_values('filename', ascending=True)\n",
    "nebula_nc_m500_std_df  = n_m500_filter[['seconds', 'filename', 'size']].groupby(['size', 'filename']).agg({'seconds': 'std'}).reset_index().sort_values('filename', ascending=True)\n",
    "\n",
    "# nebula scp\n",
    "nebula_scp_m500_mean_df = nn_m500_filter[['seconds', 'filename', 'size']].groupby(['size', 'filename']).agg({'seconds': 'mean'}).reset_index().sort_values('filename', ascending=True)\n",
    "nebula_scp_m500_std_df  = nn_m500_filter[['seconds', 'filename', 'size']].groupby(['size', 'filename']).agg({'seconds': 'std'}).reset_index().sort_values('filename', ascending=True)\n",
    "\n",
    "# nebula rsync\n",
    "nebula_rsync_m500_mean_df = nnn_m500_filter[['seconds', 'filename', 'size']].groupby(['size', 'filename']).agg({'seconds': 'mean'}).reset_index().sort_values('filename', ascending=True)\n",
    "nebula_rsync_m500_std_df  = nnn_m500_filter[['seconds', 'filename', 'size']].groupby(['size', 'filename']).agg({'seconds': 'std'}).reset_index().sort_values('filename', ascending=True)"
   ]
  },
  {
   "cell_type": "code",
   "execution_count": 12,
   "metadata": {},
   "outputs": [],
   "source": [
    "# M1000\n",
    "p_m1000_filter  = p_df[p_df['size']=='1000M']\n",
    "i_m1000_filter  = m_df[m_df['size']=='1000M']\n",
    "n_m1000_filter  = o_df[o_df['size']=='1000M']\n",
    "\n",
    "pp_m1000_filter  = pp_df[pp_df['size']=='1000M']\n",
    "ii_m1000_filter  = mm_df[mm_df['size']=='1000M']\n",
    "nn_m1000_filter  = oo_df[oo_df['size']=='1000M']\n",
    "\n",
    "ppp_m1000_filter  = ppp_df[ppp_df['size']=='1000M']\n",
    "iii_m1000_filter  = mmm_df[mmm_df['size']=='1000M']\n",
    "nnn_m1000_filter  = ooo_df[ooo_df['size']=='1000M']\n",
    "\n",
    "#plain netcat\n",
    "plain_nc_m1000_mean_df = p_m1000_filter[['seconds', 'filename', 'size']].groupby(['size', 'filename']).agg({'seconds': 'mean'}).reset_index().sort_values('filename', ascending=True)\n",
    "plain_nc_m1000_std_df  = p_m1000_filter[['seconds', 'filename', 'size']].groupby(['size', 'filename']).agg({'seconds': 'std'}).reset_index().sort_values('filename', ascending=True)\n",
    "\n",
    "# plain scp\n",
    "plain_scp_m1000_mean_df = pp_m1000_filter[['seconds', 'filename', 'size']].groupby(['size', 'filename']).agg({'seconds': 'mean'}).reset_index().sort_values('filename', ascending=True)\n",
    "plain_scp_m1000_std_df  = pp_m1000_filter[['seconds', 'filename', 'size']].groupby(['size', 'filename']).agg({'seconds': 'std'}).reset_index().sort_values('filename', ascending=True)\n",
    "\n",
    "# plain rsync\n",
    "plain_rsync_m1000_mean_df = ppp_m1000_filter[['seconds', 'filename', 'size']].groupby(['size', 'filename']).agg({'seconds': 'mean'}).reset_index().sort_values('filename', ascending=True)\n",
    "plain_rsync_m1000_std_df  = ppp_m1000_filter[['seconds', 'filename', 'size']].groupby(['size', 'filename']).agg({'seconds': 'std'}).reset_index().sort_values('filename', ascending=True)\n",
    "\n",
    "\n",
    "# IPsec netcat\n",
    "ipsec_nc_m1000_mean_df = i_m1000_filter[['seconds', 'filename', 'size']].groupby(['size', 'filename']).agg({'seconds': 'mean'}).reset_index().sort_values('filename', ascending=True)\n",
    "ipsec_nc_m1000_std_df  = i_m1000_filter[['seconds', 'filename', 'size']].groupby(['size', 'filename']).agg({'seconds': 'std'}).reset_index().sort_values('filename', ascending=True)\n",
    "\n",
    "# ipsec scp\n",
    "ipsec_scp_m1000_mean_df = ii_m1000_filter[['seconds', 'filename', 'size']].groupby(['size', 'filename']).agg({'seconds': 'mean'}).reset_index().sort_values('filename', ascending=True)\n",
    "ipsec_scp_m1000_std_df  = ii_m1000_filter[['seconds', 'filename', 'size']].groupby(['size', 'filename']).agg({'seconds': 'std'}).reset_index().sort_values('filename', ascending=True)\n",
    "\n",
    "# ipsec rsync\n",
    "ipsec_rsync_m1000_mean_df = iii_m1000_filter[['seconds', 'filename', 'size']].groupby(['size', 'filename']).agg({'seconds': 'mean'}).reset_index().sort_values('filename', ascending=True)\n",
    "ipsec_rsync_m1000_std_df  = iii_m1000_filter[['seconds', 'filename', 'size']].groupby(['size', 'filename']).agg({'seconds': 'std'}).reset_index().sort_values('filename', ascending=True)\n",
    "\n",
    "\n",
    "# Nebula netcat\n",
    "nebula_nc_m1000_mean_df = n_m1000_filter[['seconds', 'filename', 'size']].groupby(['size', 'filename']).agg({'seconds': 'mean'}).reset_index().sort_values('filename', ascending=True)\n",
    "nebula_nc_m1000_std_df  = n_m1000_filter[['seconds', 'filename', 'size']].groupby(['size', 'filename']).agg({'seconds': 'std'}).reset_index().sort_values('filename', ascending=True)\n",
    "\n",
    "# nebula scp\n",
    "nebula_scp_m1000_mean_df = nn_m1000_filter[['seconds', 'filename', 'size']].groupby(['size', 'filename']).agg({'seconds': 'mean'}).reset_index().sort_values('filename', ascending=True)\n",
    "nebula_scp_m1000_std_df  = nn_m1000_filter[['seconds', 'filename', 'size']].groupby(['size', 'filename']).agg({'seconds': 'std'}).reset_index().sort_values('filename', ascending=True)\n",
    "\n",
    "\n",
    "# nebula rsync\n",
    "nebula_rsync_m1000_mean_df = nnn_m1000_filter[['seconds', 'filename', 'size']].groupby(['size', 'filename']).agg({'seconds': 'mean'}).reset_index().sort_values('filename', ascending=True)\n",
    "nebula_rsync_m1000_std_df  = nnn_m1000_filter[['seconds', 'filename', 'size']].groupby(['size', 'filename']).agg({'seconds': 'std'}).reset_index().sort_values('filename', ascending=True)"
   ]
  },
  {
   "cell_type": "code",
   "execution_count": 34,
   "metadata": {},
   "outputs": [
    {
     "data": {
      "application/vnd.plotly.v1+json": {
       "config": {
        "plotlyServerURL": "https://plot.ly"
       },
       "data": [
        {
         "error_y": {
          "array": [
           0.02478644420024692
          ],
          "color": "#000000",
          "thickness": 1.5,
          "type": "data",
          "visible": true
         },
         "marker": {
          "color": "#DCE775"
         },
         "name": "Plain rsync",
         "showlegend": true,
         "type": "bar",
         "x": [
          "Plain rsync"
         ],
         "xaxis": "x",
         "y": [
          0.2116666666666667
         ],
         "yaxis": "y"
        },
        {
         "error_y": {
          "array": [
           0.05769918025673197
          ],
          "color": "#000000",
          "thickness": 1.5,
          "type": "data",
          "visible": true
         },
         "marker": {
          "color": "#8BC34A"
         },
         "name": "Plain scp",
         "showlegend": true,
         "type": "bar",
         "x": [
          "Plain scp"
         ],
         "xaxis": "x",
         "y": [
          0.3846666666666667
         ],
         "yaxis": "y"
        },
        {
         "error_y": {
          "array": [
           0.1650945392693281
          ],
          "color": "#000000",
          "thickness": 1.5,
          "type": "data",
          "visible": true
         },
         "marker": {
          "color": "#388E3C"
         },
         "name": "Plain nc",
         "showlegend": true,
         "type": "bar",
         "x": [
          "Plain nc"
         ],
         "xaxis": "x",
         "y": [
          0.193
         ],
         "yaxis": "y"
        },
        {
         "error_y": {
          "array": [
           0.21463173486042453
          ],
          "color": "#000000",
          "thickness": 1.5,
          "type": "data",
          "visible": true
         },
         "marker": {
          "color": "#92D0FF"
         },
         "name": "IPsec rsync",
         "showlegend": true,
         "type": "bar",
         "x": [
          "IPsec rsync"
         ],
         "xaxis": "x",
         "y": [
          10.41433333333333
         ],
         "yaxis": "y"
        },
        {
         "error_y": {
          "array": [
           0.20681048018087403
          ],
          "color": "#000000",
          "thickness": 1.5,
          "type": "data",
          "visible": true
         },
         "marker": {
          "color": "#30ADE5"
         },
         "name": "IPsec scp",
         "showlegend": true,
         "type": "bar",
         "x": [
          "IPsec scp"
         ],
         "xaxis": "x",
         "y": [
          1.0013333333333332
         ],
         "yaxis": "y"
        },
        {
         "error_y": {
          "array": [
           0.037575976673780626
          ],
          "color": "#000000",
          "thickness": 1.5,
          "type": "data",
          "visible": true
         },
         "marker": {
          "color": "#1373C7"
         },
         "name": "IPsec nc",
         "showlegend": true,
         "type": "bar",
         "x": [
          "IPsec nc"
         ],
         "xaxis": "x",
         "y": [
          0.06533333333333337
         ],
         "yaxis": "y"
        },
        {
         "error_y": {
          "array": [
           0.42558195450465236
          ],
          "color": "#000000",
          "thickness": 1.5,
          "type": "data",
          "visible": true
         },
         "marker": {
          "color": "#FFD0C2"
         },
         "name": "Nebula rsync",
         "showlegend": true,
         "type": "bar",
         "x": [
          "Nebula rsync"
         ],
         "xaxis": "x",
         "y": [
          0.508
         ],
         "yaxis": "y"
        },
        {
         "error_y": {
          "array": [
           0.10490060977436919
          ],
          "color": "#000000",
          "thickness": 1.5,
          "type": "data",
          "visible": true
         },
         "marker": {
          "color": "#FF8A83"
         },
         "name": "Nebula scp",
         "showlegend": true,
         "type": "bar",
         "x": [
          "Nebula scp"
         ],
         "xaxis": "x",
         "y": [
          0.544
         ],
         "yaxis": "y"
        },
        {
         "error_y": {
          "array": [
           0.23053760258772654
          ],
          "color": "#000000",
          "thickness": 1.5,
          "type": "data",
          "visible": true
         },
         "marker": {
          "color": "#C23210"
         },
         "name": "Nebula nc",
         "showlegend": true,
         "type": "bar",
         "x": [
          "Nebula nc"
         ],
         "xaxis": "x",
         "y": [
          0.12799999999999997
         ],
         "yaxis": "y"
        },
        {
         "error_y": {
          "array": [
           0.02919612633729769
          ],
          "color": "#000000",
          "thickness": 1.5,
          "type": "data",
          "visible": true
         },
         "marker": {
          "color": "#DCE775"
         },
         "name": "Plain rsync",
         "showlegend": false,
         "type": "bar",
         "x": [
          "Plain rsync"
         ],
         "xaxis": "x2",
         "y": [
          0.28599999999999987
         ],
         "yaxis": "y2"
        },
        {
         "error_y": {
          "array": [
           0.043210258466961395
          ],
          "color": "#000000",
          "thickness": 1.5,
          "type": "data",
          "visible": true
         },
         "marker": {
          "color": "#8BC34A"
         },
         "name": "Plain scp",
         "showlegend": false,
         "type": "bar",
         "x": [
          "Plain scp"
         ],
         "xaxis": "x2",
         "y": [
          0.4846666666666667
         ],
         "yaxis": "y2"
        },
        {
         "error_y": {
          "array": [
           0.673875052370168
          ],
          "color": "#000000",
          "thickness": 1.5,
          "type": "data",
          "visible": true
         },
         "marker": {
          "color": "#388E3C"
         },
         "name": "Plain nc",
         "showlegend": false,
         "type": "bar",
         "x": [
          "Plain nc"
         ],
         "xaxis": "x2",
         "y": [
          1.344
         ],
         "yaxis": "y2"
        },
        {
         "error_y": {
          "array": [
           0.31541634590548406
          ],
          "color": "#000000",
          "thickness": 1.5,
          "type": "data",
          "visible": true
         },
         "marker": {
          "color": "#92D0FF"
         },
         "name": "IPsec rsync",
         "showlegend": false,
         "type": "bar",
         "x": [
          "IPsec rsync"
         ],
         "xaxis": "x2",
         "y": [
          10.865666666666664
         ],
         "yaxis": "y2"
        },
        {
         "error_y": {
          "array": [
           0.1671123924912151
          ],
          "color": "#000000",
          "thickness": 1.5,
          "type": "data",
          "visible": true
         },
         "marker": {
          "color": "#30ADE5"
         },
         "name": "IPsec scp",
         "showlegend": false,
         "type": "bar",
         "x": [
          "IPsec scp"
         ],
         "xaxis": "x2",
         "y": [
          1.3110000000000002
         ],
         "yaxis": "y2"
        },
        {
         "error_y": {
          "array": [
           0.10150363789415197
          ],
          "color": "#000000",
          "thickness": 1.5,
          "type": "data",
          "visible": true
         },
         "marker": {
          "color": "#1373C7"
         },
         "name": "IPsec nc",
         "showlegend": false,
         "type": "bar",
         "x": [
          "IPsec nc"
         ],
         "xaxis": "x2",
         "y": [
          0.3993333333333334
         ],
         "yaxis": "y2"
        },
        {
         "error_y": {
          "array": [
           0.6093803145951566
          ],
          "color": "#000000",
          "thickness": 1.5,
          "type": "data",
          "visible": true
         },
         "marker": {
          "color": "#FFD0C2"
         },
         "name": "Nebula rsync",
         "showlegend": false,
         "type": "bar",
         "x": [
          "Nebula rsync"
         ],
         "xaxis": "x2",
         "y": [
          1.1393333333333335
         ],
         "yaxis": "y2"
        },
        {
         "error_y": {
          "array": [
           0.08876159467728807
          ],
          "color": "#000000",
          "thickness": 1.5,
          "type": "data",
          "visible": true
         },
         "marker": {
          "color": "#FF8A83"
         },
         "name": "Nebula scp",
         "showlegend": false,
         "type": "bar",
         "x": [
          "Nebula scp"
         ],
         "xaxis": "x2",
         "y": [
          0.8119999999999999
         ],
         "yaxis": "y2"
        },
        {
         "error_y": {
          "array": [
           1.1451730281349697
          ],
          "color": "#000000",
          "thickness": 1.5,
          "type": "data",
          "visible": true
         },
         "marker": {
          "color": "#C23210"
         },
         "name": "Nebula nc",
         "showlegend": false,
         "type": "bar",
         "x": [
          "Nebula nc"
         ],
         "xaxis": "x2",
         "y": [
          1.3083333333333333
         ],
         "yaxis": "y2"
        },
        {
         "error_y": {
          "array": [
           0.12274120049457954
          ],
          "color": "#000000",
          "thickness": 1.5,
          "type": "data",
          "visible": true
         },
         "marker": {
          "color": "#DCE775"
         },
         "name": "Plain rsync",
         "showlegend": false,
         "type": "bar",
         "x": [
          "Plain rsync"
         ],
         "xaxis": "x3",
         "y": [
          0.6696666666666666
         ],
         "yaxis": "y3"
        },
        {
         "error_y": {
          "array": [
           0.22326624485567453
          ],
          "color": "#000000",
          "thickness": 1.5,
          "type": "data",
          "visible": true
         },
         "marker": {
          "color": "#8BC34A"
         },
         "name": "Plain scp",
         "showlegend": false,
         "type": "bar",
         "x": [
          "Plain scp"
         ],
         "xaxis": "x3",
         "y": [
          1.2226666666666666
         ],
         "yaxis": "y3"
        },
        {
         "error_y": {
          "array": [
           2.178173045488341
          ],
          "color": "#000000",
          "thickness": 1.5,
          "type": "data",
          "visible": true
         },
         "marker": {
          "color": "#388E3C"
         },
         "name": "Plain nc",
         "showlegend": false,
         "type": "bar",
         "x": [
          "Plain nc"
         ],
         "xaxis": "x3",
         "y": [
          5.523666666666668
         ],
         "yaxis": "y3"
        },
        {
         "error_y": {
          "array": [
           1.117301192169322
          ],
          "color": "#000000",
          "thickness": 1.5,
          "type": "data",
          "visible": true
         },
         "marker": {
          "color": "#92D0FF"
         },
         "name": "IPsec rsync",
         "showlegend": false,
         "type": "bar",
         "x": [
          "IPsec rsync"
         ],
         "xaxis": "x3",
         "y": [
          12.676333333333332
         ],
         "yaxis": "y3"
        },
        {
         "error_y": {
          "array": [
           0.3432475062905957
          ],
          "color": "#000000",
          "thickness": 1.5,
          "type": "data",
          "visible": true
         },
         "marker": {
          "color": "#30ADE5"
         },
         "name": "IPsec scp",
         "showlegend": false,
         "type": "bar",
         "x": [
          "IPsec scp"
         ],
         "xaxis": "x3",
         "y": [
          3.038666666666666
         ],
         "yaxis": "y3"
        },
        {
         "error_y": {
          "array": [
           0.3280131760740122
          ],
          "color": "#000000",
          "thickness": 1.5,
          "type": "data",
          "visible": true
         },
         "marker": {
          "color": "#1373C7"
         },
         "name": "IPsec nc",
         "showlegend": false,
         "type": "bar",
         "x": [
          "IPsec nc"
         ],
         "xaxis": "x3",
         "y": [
          2.1473333333333335
         ],
         "yaxis": "y3"
        },
        {
         "error_y": {
          "array": [
           3.0525065825943125
          ],
          "color": "#000000",
          "thickness": 1.5,
          "type": "data",
          "visible": true
         },
         "marker": {
          "color": "#FFD0C2"
         },
         "name": "Nebula rsync",
         "showlegend": false,
         "type": "bar",
         "x": [
          "Nebula rsync"
         ],
         "xaxis": "x3",
         "y": [
          5.589666666666665
         ],
         "yaxis": "y3"
        },
        {
         "error_y": {
          "array": [
           0.3072160870428681
          ],
          "color": "#000000",
          "thickness": 1.5,
          "type": "data",
          "visible": true
         },
         "marker": {
          "color": "#FF8A83"
         },
         "name": "Nebula scp",
         "showlegend": false,
         "type": "bar",
         "x": [
          "Nebula scp"
         ],
         "xaxis": "x3",
         "y": [
          3.141
         ],
         "yaxis": "y3"
        },
        {
         "error_y": {
          "array": [
           3.1730717015202328
          ],
          "color": "#000000",
          "thickness": 1.5,
          "type": "data",
          "visible": true
         },
         "marker": {
          "color": "#C23210"
         },
         "name": "Nebula nc",
         "showlegend": false,
         "type": "bar",
         "x": [
          "Nebula nc"
         ],
         "xaxis": "x3",
         "y": [
          5.874333333333334
         ],
         "yaxis": "y3"
        },
        {
         "error_y": {
          "array": [
           0.2049154577565738
          ],
          "color": "#000000",
          "thickness": 1.5,
          "type": "data",
          "visible": true
         },
         "marker": {
          "color": "#DCE775"
         },
         "name": "Plain rsync",
         "showlegend": false,
         "type": "bar",
         "x": [
          "Plain rsync"
         ],
         "xaxis": "x4",
         "y": [
          1.4460000000000004
         ],
         "yaxis": "y4"
        },
        {
         "error_y": {
          "array": [
           0.4162719049498472
          ],
          "color": "#000000",
          "thickness": 1.5,
          "type": "data",
          "visible": true
         },
         "marker": {
          "color": "#8BC34A"
         },
         "name": "Plain scp",
         "showlegend": false,
         "type": "bar",
         "x": [
          "Plain scp"
         ],
         "xaxis": "x4",
         "y": [
          2.3393333333333333
         ],
         "yaxis": "y4"
        },
        {
         "error_y": {
          "array": [
           3.3334269412143698
          ],
          "color": "#000000",
          "thickness": 1.5,
          "type": "data",
          "visible": true
         },
         "marker": {
          "color": "#388E3C"
         },
         "name": "Plain nc",
         "showlegend": false,
         "type": "bar",
         "x": [
          "Plain nc"
         ],
         "xaxis": "x4",
         "y": [
          12.226000000000004
         ],
         "yaxis": "y4"
        },
        {
         "error_y": {
          "array": [
           1.372058441836969
          ],
          "color": "#000000",
          "thickness": 1.5,
          "type": "data",
          "visible": true
         },
         "marker": {
          "color": "#92D0FF"
         },
         "name": "IPsec rsync",
         "showlegend": false,
         "type": "bar",
         "x": [
          "IPsec rsync"
         ],
         "xaxis": "x4",
         "y": [
          16.029333333333334
         ],
         "yaxis": "y4"
        },
        {
         "error_y": {
          "array": [
           0.3729786903407161
          ],
          "color": "#000000",
          "thickness": 1.5,
          "type": "data",
          "visible": true
         },
         "marker": {
          "color": "#30ADE5"
         },
         "name": "IPsec scp",
         "showlegend": false,
         "type": "bar",
         "x": [
          "IPsec scp"
         ],
         "xaxis": "x4",
         "y": [
          4.9319999999999995
         ],
         "yaxis": "y4"
        },
        {
         "error_y": {
          "array": [
           0.4476020399941185
          ],
          "color": "#000000",
          "thickness": 1.5,
          "type": "data",
          "visible": true
         },
         "marker": {
          "color": "#1373C7"
         },
         "name": "IPsec nc",
         "showlegend": false,
         "type": "bar",
         "x": [
          "IPsec nc"
         ],
         "xaxis": "x4",
         "y": [
          4.478
         ],
         "yaxis": "y4"
        },
        {
         "error_y": {
          "array": [
           1.901662944378679
          ],
          "color": "#000000",
          "thickness": 1.5,
          "type": "data",
          "visible": true
         },
         "marker": {
          "color": "#FFD0C2"
         },
         "name": "Nebula rsync",
         "showlegend": false,
         "type": "bar",
         "x": [
          "Nebula rsync"
         ],
         "xaxis": "x4",
         "y": [
          9.985666666666667
         ],
         "yaxis": "y4"
        },
        {
         "error_y": {
          "array": [
           0.7013747584024805
          ],
          "color": "#000000",
          "thickness": 1.5,
          "type": "data",
          "visible": true
         },
         "marker": {
          "color": "#FF8A83"
         },
         "name": "Nebula scp",
         "showlegend": false,
         "type": "bar",
         "x": [
          "Nebula scp"
         ],
         "xaxis": "x4",
         "y": [
          8.581
         ],
         "yaxis": "y4"
        },
        {
         "error_y": {
          "array": [
           5.531663184450666
          ],
          "color": "#000000",
          "thickness": 1.5,
          "type": "data",
          "visible": true
         },
         "marker": {
          "color": "#C23210"
         },
         "name": "Nebula nc",
         "showlegend": false,
         "type": "bar",
         "x": [
          "Nebula nc"
         ],
         "xaxis": "x4",
         "y": [
          13.507000000000001
         ],
         "yaxis": "y4"
        },
        {
         "error_y": {
          "array": [
           0.5520599875783948
          ],
          "color": "#000000",
          "thickness": 1.5,
          "type": "data",
          "visible": true
         },
         "marker": {
          "color": "#DCE775"
         },
         "name": "Plain rsync",
         "showlegend": false,
         "type": "bar",
         "x": [
          "Plain rsync"
         ],
         "xaxis": "x5",
         "y": [
          8.175666666666666
         ],
         "yaxis": "y5"
        },
        {
         "error_y": {
          "array": [
           0.4647333928574334
          ],
          "color": "#000000",
          "thickness": 1.5,
          "type": "data",
          "visible": true
         },
         "marker": {
          "color": "#8BC34A"
         },
         "name": "Plain scp",
         "showlegend": false,
         "type": "bar",
         "x": [
          "Plain scp"
         ],
         "xaxis": "x5",
         "y": [
          9.704333333333333
         ],
         "yaxis": "y5"
        },
        {
         "error_y": {
          "array": [
           19.9359255483979
          ],
          "color": "#000000",
          "thickness": 1.5,
          "type": "data",
          "visible": true
         },
         "marker": {
          "color": "#388E3C"
         },
         "name": "Plain nc",
         "showlegend": false,
         "type": "bar",
         "x": [
          "Plain nc"
         ],
         "xaxis": "x5",
         "y": [
          50.96366666666665
         ],
         "yaxis": "y5"
        },
        {
         "error_y": {
          "array": [
           6.218578246054224
          ],
          "color": "#000000",
          "thickness": 1.5,
          "type": "data",
          "visible": true
         },
         "marker": {
          "color": "#92D0FF"
         },
         "name": "IPsec rsync",
         "showlegend": false,
         "type": "bar",
         "x": [
          "IPsec rsync"
         ],
         "xaxis": "x5",
         "y": [
          34.45533333333333
         ],
         "yaxis": "y5"
        },
        {
         "error_y": {
          "array": [
           1.1007285466150738
          ],
          "color": "#000000",
          "thickness": 1.5,
          "type": "data",
          "visible": true
         },
         "marker": {
          "color": "#30ADE5"
         },
         "name": "IPsec scp",
         "showlegend": false,
         "type": "bar",
         "x": [
          "IPsec scp"
         ],
         "xaxis": "x5",
         "y": [
          20.616333333333326
         ],
         "yaxis": "y5"
        },
        {
         "error_y": {
          "array": [
           1.5952076577249636
          ],
          "color": "#000000",
          "thickness": 1.5,
          "type": "data",
          "visible": true
         },
         "marker": {
          "color": "#1373C7"
         },
         "name": "IPsec nc",
         "showlegend": false,
         "type": "bar",
         "x": [
          "IPsec nc"
         ],
         "xaxis": "x5",
         "y": [
          22.824333333333325
         ],
         "yaxis": "y5"
        },
        {
         "error_y": {
          "array": [
           5.468488790806141
          ],
          "color": "#000000",
          "thickness": 1.5,
          "type": "data",
          "visible": true
         },
         "marker": {
          "color": "#FFD0C2"
         },
         "name": "Nebula rsync",
         "showlegend": false,
         "type": "bar",
         "x": [
          "Nebula rsync"
         ],
         "xaxis": "x5",
         "y": [
          50.254
         ],
         "yaxis": "y5"
        },
        {
         "error_y": {
          "array": [
           3.2211325201928083
          ],
          "color": "#000000",
          "thickness": 1.5,
          "type": "data",
          "visible": true
         },
         "marker": {
          "color": "#FF8A83"
         },
         "name": "Nebula scp",
         "showlegend": false,
         "type": "bar",
         "x": [
          "Nebula scp"
         ],
         "xaxis": "x5",
         "y": [
          44.42466666666666
         ],
         "yaxis": "y5"
        },
        {
         "error_y": {
          "array": [
           7.1352470093934
          ],
          "color": "#000000",
          "thickness": 1.5,
          "type": "data",
          "visible": true
         },
         "marker": {
          "color": "#C23210"
         },
         "name": "Nebula nc",
         "showlegend": false,
         "type": "bar",
         "x": [
          "Nebula nc"
         ],
         "xaxis": "x5",
         "y": [
          63.265333333333345
         ],
         "yaxis": "y5"
        },
        {
         "error_y": {
          "array": [
           1.1851334373680522
          ],
          "color": "#000000",
          "thickness": 1.5,
          "type": "data",
          "visible": true
         },
         "marker": {
          "color": "#DCE775"
         },
         "name": "Plain rsync",
         "showlegend": false,
         "type": "bar",
         "x": [
          "Plain rsync"
         ],
         "xaxis": "x6",
         "y": [
          16.98366666666667
         ],
         "yaxis": "y6"
        },
        {
         "error_y": {
          "array": [
           0.7465673168714868
          ],
          "color": "#000000",
          "thickness": 1.5,
          "type": "data",
          "visible": true
         },
         "marker": {
          "color": "#8BC34A"
         },
         "name": "Plain scp",
         "showlegend": false,
         "type": "bar",
         "x": [
          "Plain scp"
         ],
         "xaxis": "x6",
         "y": [
          19.124
         ],
         "yaxis": "y6"
        },
        {
         "error_y": {
          "array": [
           11.364346045174916
          ],
          "color": "#000000",
          "thickness": 1.5,
          "type": "data",
          "visible": true
         },
         "marker": {
          "color": "#388E3C"
         },
         "name": "Plain nc",
         "showlegend": false,
         "type": "bar",
         "x": [
          "Plain nc"
         ],
         "xaxis": "x6",
         "y": [
          74.729
         ],
         "yaxis": "y6"
        },
        {
         "error_y": {
          "array": [
           5.223497628147673
          ],
          "color": "#000000",
          "thickness": 1.5,
          "type": "data",
          "visible": true
         },
         "marker": {
          "color": "#92D0FF"
         },
         "name": "IPsec rsync",
         "showlegend": false,
         "type": "bar",
         "x": [
          "IPsec rsync"
         ],
         "xaxis": "x6",
         "y": [
          55.62966666666668
         ],
         "yaxis": "y6"
        },
        {
         "error_y": {
          "array": [
           1.1947456325246737
          ],
          "color": "#000000",
          "thickness": 1.5,
          "type": "data",
          "visible": true
         },
         "marker": {
          "color": "#30ADE5"
         },
         "name": "IPsec scp",
         "showlegend": false,
         "type": "bar",
         "x": [
          "IPsec scp"
         ],
         "xaxis": "x6",
         "y": [
          40.029666666666664
         ],
         "yaxis": "y6"
        },
        {
         "error_y": {
          "array": [
           6.5607185704707325
          ],
          "color": "#000000",
          "thickness": 1.5,
          "type": "data",
          "visible": true
         },
         "marker": {
          "color": "#1373C7"
         },
         "name": "IPsec nc",
         "showlegend": false,
         "type": "bar",
         "x": [
          "IPsec nc"
         ],
         "xaxis": "x6",
         "y": [
          54.32833333333335
         ],
         "yaxis": "y6"
        },
        {
         "error_y": {
          "array": [
           6.012069431616263
          ],
          "color": "#000000",
          "thickness": 1.5,
          "type": "data",
          "visible": true
         },
         "marker": {
          "color": "#FFD0C2"
         },
         "name": "Nebula rsync",
         "showlegend": false,
         "type": "bar",
         "x": [
          "Nebula rsync"
         ],
         "xaxis": "x6",
         "y": [
          96.16066666666669
         ],
         "yaxis": "y6"
        },
        {
         "error_y": {
          "array": [
           2.4524180888989253
          ],
          "color": "#000000",
          "thickness": 1.5,
          "type": "data",
          "visible": true
         },
         "marker": {
          "color": "#FF8A83"
         },
         "name": "Nebula scp",
         "showlegend": false,
         "type": "bar",
         "x": [
          "Nebula scp"
         ],
         "xaxis": "x6",
         "y": [
          87.06800000000001
         ],
         "yaxis": "y6"
        },
        {
         "error_y": {
          "array": [
           15.286532668806316
          ],
          "color": "#000000",
          "thickness": 1.5,
          "type": "data",
          "visible": true
         },
         "marker": {
          "color": "#C23210"
         },
         "name": "Nebula nc",
         "showlegend": false,
         "type": "bar",
         "x": [
          "Nebula nc"
         ],
         "xaxis": "x6",
         "y": [
          119.13499999999999
         ],
         "yaxis": "y6"
        }
       ],
       "layout": {
        "annotations": [
         {
          "font": {
           "size": 16
          },
          "showarrow": false,
          "text": "Transferring 1 Megabyte",
          "x": 0.225,
          "xanchor": "center",
          "xref": "paper",
          "y": 1,
          "yanchor": "bottom",
          "yref": "paper"
         },
         {
          "font": {
           "size": 16
          },
          "showarrow": false,
          "text": "Transferring 10 Megabytes",
          "x": 0.775,
          "xanchor": "center",
          "xref": "paper",
          "y": 1,
          "yanchor": "bottom",
          "yref": "paper"
         },
         {
          "font": {
           "size": 16
          },
          "showarrow": false,
          "text": "Transferring 50 Megabytes",
          "x": 0.225,
          "xanchor": "center",
          "xref": "paper",
          "y": 0.6111111111111112,
          "yanchor": "bottom",
          "yref": "paper"
         },
         {
          "font": {
           "size": 16
          },
          "showarrow": false,
          "text": "Transferring 100 Megabytes",
          "x": 0.775,
          "xanchor": "center",
          "xref": "paper",
          "y": 0.6111111111111112,
          "yanchor": "bottom",
          "yref": "paper"
         },
         {
          "font": {
           "size": 16
          },
          "showarrow": false,
          "text": "Transferring 500 Megabytes",
          "x": 0.225,
          "xanchor": "center",
          "xref": "paper",
          "y": 0.22222222222222224,
          "yanchor": "bottom",
          "yref": "paper"
         },
         {
          "font": {
           "size": 16
          },
          "showarrow": false,
          "text": "Transferring 1000 Megabytes",
          "x": 0.775,
          "xanchor": "center",
          "xref": "paper",
          "y": 0.22222222222222224,
          "yanchor": "bottom",
          "yref": "paper"
         }
        ],
        "legend": {
         "orientation": "h",
         "x": 1,
         "xanchor": "right",
         "y": 1.05,
         "yanchor": "bottom"
        },
        "template": {
         "data": {
          "bar": [
           {
            "error_x": {
             "color": "#2a3f5f"
            },
            "error_y": {
             "color": "#2a3f5f"
            },
            "marker": {
             "line": {
              "color": "#E5ECF6",
              "width": 0.5
             }
            },
            "type": "bar"
           }
          ],
          "barpolar": [
           {
            "marker": {
             "line": {
              "color": "#E5ECF6",
              "width": 0.5
             }
            },
            "type": "barpolar"
           }
          ],
          "carpet": [
           {
            "aaxis": {
             "endlinecolor": "#2a3f5f",
             "gridcolor": "white",
             "linecolor": "white",
             "minorgridcolor": "white",
             "startlinecolor": "#2a3f5f"
            },
            "baxis": {
             "endlinecolor": "#2a3f5f",
             "gridcolor": "white",
             "linecolor": "white",
             "minorgridcolor": "white",
             "startlinecolor": "#2a3f5f"
            },
            "type": "carpet"
           }
          ],
          "choropleth": [
           {
            "colorbar": {
             "outlinewidth": 0,
             "ticks": ""
            },
            "type": "choropleth"
           }
          ],
          "contour": [
           {
            "colorbar": {
             "outlinewidth": 0,
             "ticks": ""
            },
            "colorscale": [
             [
              0,
              "#0d0887"
             ],
             [
              0.1111111111111111,
              "#46039f"
             ],
             [
              0.2222222222222222,
              "#7201a8"
             ],
             [
              0.3333333333333333,
              "#9c179e"
             ],
             [
              0.4444444444444444,
              "#bd3786"
             ],
             [
              0.5555555555555556,
              "#d8576b"
             ],
             [
              0.6666666666666666,
              "#ed7953"
             ],
             [
              0.7777777777777778,
              "#fb9f3a"
             ],
             [
              0.8888888888888888,
              "#fdca26"
             ],
             [
              1,
              "#f0f921"
             ]
            ],
            "type": "contour"
           }
          ],
          "contourcarpet": [
           {
            "colorbar": {
             "outlinewidth": 0,
             "ticks": ""
            },
            "type": "contourcarpet"
           }
          ],
          "heatmap": [
           {
            "colorbar": {
             "outlinewidth": 0,
             "ticks": ""
            },
            "colorscale": [
             [
              0,
              "#0d0887"
             ],
             [
              0.1111111111111111,
              "#46039f"
             ],
             [
              0.2222222222222222,
              "#7201a8"
             ],
             [
              0.3333333333333333,
              "#9c179e"
             ],
             [
              0.4444444444444444,
              "#bd3786"
             ],
             [
              0.5555555555555556,
              "#d8576b"
             ],
             [
              0.6666666666666666,
              "#ed7953"
             ],
             [
              0.7777777777777778,
              "#fb9f3a"
             ],
             [
              0.8888888888888888,
              "#fdca26"
             ],
             [
              1,
              "#f0f921"
             ]
            ],
            "type": "heatmap"
           }
          ],
          "heatmapgl": [
           {
            "colorbar": {
             "outlinewidth": 0,
             "ticks": ""
            },
            "colorscale": [
             [
              0,
              "#0d0887"
             ],
             [
              0.1111111111111111,
              "#46039f"
             ],
             [
              0.2222222222222222,
              "#7201a8"
             ],
             [
              0.3333333333333333,
              "#9c179e"
             ],
             [
              0.4444444444444444,
              "#bd3786"
             ],
             [
              0.5555555555555556,
              "#d8576b"
             ],
             [
              0.6666666666666666,
              "#ed7953"
             ],
             [
              0.7777777777777778,
              "#fb9f3a"
             ],
             [
              0.8888888888888888,
              "#fdca26"
             ],
             [
              1,
              "#f0f921"
             ]
            ],
            "type": "heatmapgl"
           }
          ],
          "histogram": [
           {
            "marker": {
             "colorbar": {
              "outlinewidth": 0,
              "ticks": ""
             }
            },
            "type": "histogram"
           }
          ],
          "histogram2d": [
           {
            "colorbar": {
             "outlinewidth": 0,
             "ticks": ""
            },
            "colorscale": [
             [
              0,
              "#0d0887"
             ],
             [
              0.1111111111111111,
              "#46039f"
             ],
             [
              0.2222222222222222,
              "#7201a8"
             ],
             [
              0.3333333333333333,
              "#9c179e"
             ],
             [
              0.4444444444444444,
              "#bd3786"
             ],
             [
              0.5555555555555556,
              "#d8576b"
             ],
             [
              0.6666666666666666,
              "#ed7953"
             ],
             [
              0.7777777777777778,
              "#fb9f3a"
             ],
             [
              0.8888888888888888,
              "#fdca26"
             ],
             [
              1,
              "#f0f921"
             ]
            ],
            "type": "histogram2d"
           }
          ],
          "histogram2dcontour": [
           {
            "colorbar": {
             "outlinewidth": 0,
             "ticks": ""
            },
            "colorscale": [
             [
              0,
              "#0d0887"
             ],
             [
              0.1111111111111111,
              "#46039f"
             ],
             [
              0.2222222222222222,
              "#7201a8"
             ],
             [
              0.3333333333333333,
              "#9c179e"
             ],
             [
              0.4444444444444444,
              "#bd3786"
             ],
             [
              0.5555555555555556,
              "#d8576b"
             ],
             [
              0.6666666666666666,
              "#ed7953"
             ],
             [
              0.7777777777777778,
              "#fb9f3a"
             ],
             [
              0.8888888888888888,
              "#fdca26"
             ],
             [
              1,
              "#f0f921"
             ]
            ],
            "type": "histogram2dcontour"
           }
          ],
          "mesh3d": [
           {
            "colorbar": {
             "outlinewidth": 0,
             "ticks": ""
            },
            "type": "mesh3d"
           }
          ],
          "parcoords": [
           {
            "line": {
             "colorbar": {
              "outlinewidth": 0,
              "ticks": ""
             }
            },
            "type": "parcoords"
           }
          ],
          "pie": [
           {
            "automargin": true,
            "type": "pie"
           }
          ],
          "scatter": [
           {
            "marker": {
             "colorbar": {
              "outlinewidth": 0,
              "ticks": ""
             }
            },
            "type": "scatter"
           }
          ],
          "scatter3d": [
           {
            "line": {
             "colorbar": {
              "outlinewidth": 0,
              "ticks": ""
             }
            },
            "marker": {
             "colorbar": {
              "outlinewidth": 0,
              "ticks": ""
             }
            },
            "type": "scatter3d"
           }
          ],
          "scattercarpet": [
           {
            "marker": {
             "colorbar": {
              "outlinewidth": 0,
              "ticks": ""
             }
            },
            "type": "scattercarpet"
           }
          ],
          "scattergeo": [
           {
            "marker": {
             "colorbar": {
              "outlinewidth": 0,
              "ticks": ""
             }
            },
            "type": "scattergeo"
           }
          ],
          "scattergl": [
           {
            "marker": {
             "colorbar": {
              "outlinewidth": 0,
              "ticks": ""
             }
            },
            "type": "scattergl"
           }
          ],
          "scattermapbox": [
           {
            "marker": {
             "colorbar": {
              "outlinewidth": 0,
              "ticks": ""
             }
            },
            "type": "scattermapbox"
           }
          ],
          "scatterpolar": [
           {
            "marker": {
             "colorbar": {
              "outlinewidth": 0,
              "ticks": ""
             }
            },
            "type": "scatterpolar"
           }
          ],
          "scatterpolargl": [
           {
            "marker": {
             "colorbar": {
              "outlinewidth": 0,
              "ticks": ""
             }
            },
            "type": "scatterpolargl"
           }
          ],
          "scatterternary": [
           {
            "marker": {
             "colorbar": {
              "outlinewidth": 0,
              "ticks": ""
             }
            },
            "type": "scatterternary"
           }
          ],
          "surface": [
           {
            "colorbar": {
             "outlinewidth": 0,
             "ticks": ""
            },
            "colorscale": [
             [
              0,
              "#0d0887"
             ],
             [
              0.1111111111111111,
              "#46039f"
             ],
             [
              0.2222222222222222,
              "#7201a8"
             ],
             [
              0.3333333333333333,
              "#9c179e"
             ],
             [
              0.4444444444444444,
              "#bd3786"
             ],
             [
              0.5555555555555556,
              "#d8576b"
             ],
             [
              0.6666666666666666,
              "#ed7953"
             ],
             [
              0.7777777777777778,
              "#fb9f3a"
             ],
             [
              0.8888888888888888,
              "#fdca26"
             ],
             [
              1,
              "#f0f921"
             ]
            ],
            "type": "surface"
           }
          ],
          "table": [
           {
            "cells": {
             "fill": {
              "color": "#EBF0F8"
             },
             "line": {
              "color": "white"
             }
            },
            "header": {
             "fill": {
              "color": "#C8D4E3"
             },
             "line": {
              "color": "white"
             }
            },
            "type": "table"
           }
          ]
         },
         "layout": {
          "annotationdefaults": {
           "arrowcolor": "#2a3f5f",
           "arrowhead": 0,
           "arrowwidth": 1
          },
          "coloraxis": {
           "colorbar": {
            "outlinewidth": 0,
            "ticks": ""
           }
          },
          "colorscale": {
           "diverging": [
            [
             0,
             "#8e0152"
            ],
            [
             0.1,
             "#c51b7d"
            ],
            [
             0.2,
             "#de77ae"
            ],
            [
             0.3,
             "#f1b6da"
            ],
            [
             0.4,
             "#fde0ef"
            ],
            [
             0.5,
             "#f7f7f7"
            ],
            [
             0.6,
             "#e6f5d0"
            ],
            [
             0.7,
             "#b8e186"
            ],
            [
             0.8,
             "#7fbc41"
            ],
            [
             0.9,
             "#4d9221"
            ],
            [
             1,
             "#276419"
            ]
           ],
           "sequential": [
            [
             0,
             "#0d0887"
            ],
            [
             0.1111111111111111,
             "#46039f"
            ],
            [
             0.2222222222222222,
             "#7201a8"
            ],
            [
             0.3333333333333333,
             "#9c179e"
            ],
            [
             0.4444444444444444,
             "#bd3786"
            ],
            [
             0.5555555555555556,
             "#d8576b"
            ],
            [
             0.6666666666666666,
             "#ed7953"
            ],
            [
             0.7777777777777778,
             "#fb9f3a"
            ],
            [
             0.8888888888888888,
             "#fdca26"
            ],
            [
             1,
             "#f0f921"
            ]
           ],
           "sequentialminus": [
            [
             0,
             "#0d0887"
            ],
            [
             0.1111111111111111,
             "#46039f"
            ],
            [
             0.2222222222222222,
             "#7201a8"
            ],
            [
             0.3333333333333333,
             "#9c179e"
            ],
            [
             0.4444444444444444,
             "#bd3786"
            ],
            [
             0.5555555555555556,
             "#d8576b"
            ],
            [
             0.6666666666666666,
             "#ed7953"
            ],
            [
             0.7777777777777778,
             "#fb9f3a"
            ],
            [
             0.8888888888888888,
             "#fdca26"
            ],
            [
             1,
             "#f0f921"
            ]
           ]
          },
          "colorway": [
           "#636efa",
           "#EF553B",
           "#00cc96",
           "#ab63fa",
           "#FFA15A",
           "#19d3f3",
           "#FF6692",
           "#B6E880",
           "#FF97FF",
           "#FECB52"
          ],
          "font": {
           "color": "#2a3f5f"
          },
          "geo": {
           "bgcolor": "white",
           "lakecolor": "white",
           "landcolor": "#E5ECF6",
           "showlakes": true,
           "showland": true,
           "subunitcolor": "white"
          },
          "hoverlabel": {
           "align": "left"
          },
          "hovermode": "closest",
          "mapbox": {
           "style": "light"
          },
          "paper_bgcolor": "white",
          "plot_bgcolor": "#E5ECF6",
          "polar": {
           "angularaxis": {
            "gridcolor": "white",
            "linecolor": "white",
            "ticks": ""
           },
           "bgcolor": "#E5ECF6",
           "radialaxis": {
            "gridcolor": "white",
            "linecolor": "white",
            "ticks": ""
           }
          },
          "scene": {
           "xaxis": {
            "backgroundcolor": "#E5ECF6",
            "gridcolor": "white",
            "gridwidth": 2,
            "linecolor": "white",
            "showbackground": true,
            "ticks": "",
            "zerolinecolor": "white"
           },
           "yaxis": {
            "backgroundcolor": "#E5ECF6",
            "gridcolor": "white",
            "gridwidth": 2,
            "linecolor": "white",
            "showbackground": true,
            "ticks": "",
            "zerolinecolor": "white"
           },
           "zaxis": {
            "backgroundcolor": "#E5ECF6",
            "gridcolor": "white",
            "gridwidth": 2,
            "linecolor": "white",
            "showbackground": true,
            "ticks": "",
            "zerolinecolor": "white"
           }
          },
          "shapedefaults": {
           "line": {
            "color": "#2a3f5f"
           }
          },
          "ternary": {
           "aaxis": {
            "gridcolor": "white",
            "linecolor": "white",
            "ticks": ""
           },
           "baxis": {
            "gridcolor": "white",
            "linecolor": "white",
            "ticks": ""
           },
           "bgcolor": "#E5ECF6",
           "caxis": {
            "gridcolor": "white",
            "linecolor": "white",
            "ticks": ""
           }
          },
          "title": {
           "x": 0.05
          },
          "xaxis": {
           "automargin": true,
           "gridcolor": "white",
           "linecolor": "white",
           "ticks": "",
           "title": {
            "standoff": 15
           },
           "zerolinecolor": "white",
           "zerolinewidth": 2
          },
          "yaxis": {
           "automargin": true,
           "gridcolor": "white",
           "linecolor": "white",
           "ticks": "",
           "title": {
            "standoff": 15
           },
           "zerolinecolor": "white",
           "zerolinewidth": 2
          }
         }
        },
        "xaxis": {
         "anchor": "y",
         "domain": [
          0,
          0.45
         ],
         "tickangle": 45
        },
        "xaxis2": {
         "anchor": "y2",
         "domain": [
          0.55,
          1
         ],
         "tickangle": 45
        },
        "xaxis3": {
         "anchor": "y3",
         "domain": [
          0,
          0.45
         ],
         "tickangle": 45
        },
        "xaxis4": {
         "anchor": "y4",
         "domain": [
          0.55,
          1
         ],
         "tickangle": 45
        },
        "xaxis5": {
         "anchor": "y5",
         "domain": [
          0,
          0.45
         ],
         "tickangle": 45
        },
        "xaxis6": {
         "anchor": "y6",
         "domain": [
          0.55,
          1
         ],
         "tickangle": 45
        },
        "yaxis": {
         "anchor": "x",
         "domain": [
          0.7777777777777778,
          1
         ],
         "dtick": 1,
         "title": {
          "text": "Time (seconds)"
         },
         "type": "log"
        },
        "yaxis2": {
         "anchor": "x2",
         "domain": [
          0.7777777777777778,
          1
         ],
         "dtick": 1,
         "type": "log"
        },
        "yaxis3": {
         "anchor": "x3",
         "autorange": true,
         "domain": [
          0.3888888888888889,
          0.6111111111111112
         ],
         "dtick": 2,
         "title": {
          "text": "Time (seconds)"
         }
        },
        "yaxis4": {
         "anchor": "x4",
         "autorange": true,
         "domain": [
          0.3888888888888889,
          0.6111111111111112
         ],
         "dtick": 2
        },
        "yaxis5": {
         "anchor": "x5",
         "autorange": true,
         "domain": [
          0,
          0.22222222222222224
         ],
         "dtick": 10,
         "title": {
          "text": "Time (seconds)"
         }
        },
        "yaxis6": {
         "anchor": "x6",
         "autorange": true,
         "domain": [
          0,
          0.22222222222222224
         ],
         "dtick": 20
        }
       }
      },
      "text/html": [
       "<div>\n",
       "        \n",
       "        \n",
       "            <div id=\"242b4280-03f9-43a6-b0f1-b9ef02ee2106\" class=\"plotly-graph-div\" style=\"height:525px; width:100%;\"></div>\n",
       "            <script type=\"text/javascript\">\n",
       "                require([\"plotly\"], function(Plotly) {\n",
       "                    window.PLOTLYENV=window.PLOTLYENV || {};\n",
       "                    \n",
       "                if (document.getElementById(\"242b4280-03f9-43a6-b0f1-b9ef02ee2106\")) {\n",
       "                    Plotly.newPlot(\n",
       "                        '242b4280-03f9-43a6-b0f1-b9ef02ee2106',\n",
       "                        [{\"error_y\": {\"array\": [0.02478644420024692], \"color\": \"#000000\", \"thickness\": 1.5, \"type\": \"data\", \"visible\": true}, \"marker\": {\"color\": \"#DCE775\"}, \"name\": \"Plain rsync\", \"showlegend\": true, \"type\": \"bar\", \"x\": [\"Plain rsync\"], \"xaxis\": \"x\", \"y\": [0.2116666666666667], \"yaxis\": \"y\"}, {\"error_y\": {\"array\": [0.05769918025673197], \"color\": \"#000000\", \"thickness\": 1.5, \"type\": \"data\", \"visible\": true}, \"marker\": {\"color\": \"#8BC34A\"}, \"name\": \"Plain scp\", \"showlegend\": true, \"type\": \"bar\", \"x\": [\"Plain scp\"], \"xaxis\": \"x\", \"y\": [0.3846666666666667], \"yaxis\": \"y\"}, {\"error_y\": {\"array\": [0.1650945392693281], \"color\": \"#000000\", \"thickness\": 1.5, \"type\": \"data\", \"visible\": true}, \"marker\": {\"color\": \"#388E3C\"}, \"name\": \"Plain nc\", \"showlegend\": true, \"type\": \"bar\", \"x\": [\"Plain nc\"], \"xaxis\": \"x\", \"y\": [0.193], \"yaxis\": \"y\"}, {\"error_y\": {\"array\": [0.21463173486042453], \"color\": \"#000000\", \"thickness\": 1.5, \"type\": \"data\", \"visible\": true}, \"marker\": {\"color\": \"#92D0FF\"}, \"name\": \"IPsec rsync\", \"showlegend\": true, \"type\": \"bar\", \"x\": [\"IPsec rsync\"], \"xaxis\": \"x\", \"y\": [10.41433333333333], \"yaxis\": \"y\"}, {\"error_y\": {\"array\": [0.20681048018087403], \"color\": \"#000000\", \"thickness\": 1.5, \"type\": \"data\", \"visible\": true}, \"marker\": {\"color\": \"#30ADE5\"}, \"name\": \"IPsec scp\", \"showlegend\": true, \"type\": \"bar\", \"x\": [\"IPsec scp\"], \"xaxis\": \"x\", \"y\": [1.0013333333333332], \"yaxis\": \"y\"}, {\"error_y\": {\"array\": [0.037575976673780626], \"color\": \"#000000\", \"thickness\": 1.5, \"type\": \"data\", \"visible\": true}, \"marker\": {\"color\": \"#1373C7\"}, \"name\": \"IPsec nc\", \"showlegend\": true, \"type\": \"bar\", \"x\": [\"IPsec nc\"], \"xaxis\": \"x\", \"y\": [0.06533333333333337], \"yaxis\": \"y\"}, {\"error_y\": {\"array\": [0.42558195450465236], \"color\": \"#000000\", \"thickness\": 1.5, \"type\": \"data\", \"visible\": true}, \"marker\": {\"color\": \"#FFD0C2\"}, \"name\": \"Nebula rsync\", \"showlegend\": true, \"type\": \"bar\", \"x\": [\"Nebula rsync\"], \"xaxis\": \"x\", \"y\": [0.508], \"yaxis\": \"y\"}, {\"error_y\": {\"array\": [0.10490060977436919], \"color\": \"#000000\", \"thickness\": 1.5, \"type\": \"data\", \"visible\": true}, \"marker\": {\"color\": \"#FF8A83\"}, \"name\": \"Nebula scp\", \"showlegend\": true, \"type\": \"bar\", \"x\": [\"Nebula scp\"], \"xaxis\": \"x\", \"y\": [0.544], \"yaxis\": \"y\"}, {\"error_y\": {\"array\": [0.23053760258772654], \"color\": \"#000000\", \"thickness\": 1.5, \"type\": \"data\", \"visible\": true}, \"marker\": {\"color\": \"#C23210\"}, \"name\": \"Nebula nc\", \"showlegend\": true, \"type\": \"bar\", \"x\": [\"Nebula nc\"], \"xaxis\": \"x\", \"y\": [0.12799999999999997], \"yaxis\": \"y\"}, {\"error_y\": {\"array\": [0.02919612633729769], \"color\": \"#000000\", \"thickness\": 1.5, \"type\": \"data\", \"visible\": true}, \"marker\": {\"color\": \"#DCE775\"}, \"name\": \"Plain rsync\", \"showlegend\": false, \"type\": \"bar\", \"x\": [\"Plain rsync\"], \"xaxis\": \"x2\", \"y\": [0.28599999999999987], \"yaxis\": \"y2\"}, {\"error_y\": {\"array\": [0.043210258466961395], \"color\": \"#000000\", \"thickness\": 1.5, \"type\": \"data\", \"visible\": true}, \"marker\": {\"color\": \"#8BC34A\"}, \"name\": \"Plain scp\", \"showlegend\": false, \"type\": \"bar\", \"x\": [\"Plain scp\"], \"xaxis\": \"x2\", \"y\": [0.4846666666666667], \"yaxis\": \"y2\"}, {\"error_y\": {\"array\": [0.673875052370168], \"color\": \"#000000\", \"thickness\": 1.5, \"type\": \"data\", \"visible\": true}, \"marker\": {\"color\": \"#388E3C\"}, \"name\": \"Plain nc\", \"showlegend\": false, \"type\": \"bar\", \"x\": [\"Plain nc\"], \"xaxis\": \"x2\", \"y\": [1.344], \"yaxis\": \"y2\"}, {\"error_y\": {\"array\": [0.31541634590548406], \"color\": \"#000000\", \"thickness\": 1.5, \"type\": \"data\", \"visible\": true}, \"marker\": {\"color\": \"#92D0FF\"}, \"name\": \"IPsec rsync\", \"showlegend\": false, \"type\": \"bar\", \"x\": [\"IPsec rsync\"], \"xaxis\": \"x2\", \"y\": [10.865666666666664], \"yaxis\": \"y2\"}, {\"error_y\": {\"array\": [0.1671123924912151], \"color\": \"#000000\", \"thickness\": 1.5, \"type\": \"data\", \"visible\": true}, \"marker\": {\"color\": \"#30ADE5\"}, \"name\": \"IPsec scp\", \"showlegend\": false, \"type\": \"bar\", \"x\": [\"IPsec scp\"], \"xaxis\": \"x2\", \"y\": [1.3110000000000002], \"yaxis\": \"y2\"}, {\"error_y\": {\"array\": [0.10150363789415197], \"color\": \"#000000\", \"thickness\": 1.5, \"type\": \"data\", \"visible\": true}, \"marker\": {\"color\": \"#1373C7\"}, \"name\": \"IPsec nc\", \"showlegend\": false, \"type\": \"bar\", \"x\": [\"IPsec nc\"], \"xaxis\": \"x2\", \"y\": [0.3993333333333334], \"yaxis\": \"y2\"}, {\"error_y\": {\"array\": [0.6093803145951566], \"color\": \"#000000\", \"thickness\": 1.5, \"type\": \"data\", \"visible\": true}, \"marker\": {\"color\": \"#FFD0C2\"}, \"name\": \"Nebula rsync\", \"showlegend\": false, \"type\": \"bar\", \"x\": [\"Nebula rsync\"], \"xaxis\": \"x2\", \"y\": [1.1393333333333335], \"yaxis\": \"y2\"}, {\"error_y\": {\"array\": [0.08876159467728807], \"color\": \"#000000\", \"thickness\": 1.5, \"type\": \"data\", \"visible\": true}, \"marker\": {\"color\": \"#FF8A83\"}, \"name\": \"Nebula scp\", \"showlegend\": false, \"type\": \"bar\", \"x\": [\"Nebula scp\"], \"xaxis\": \"x2\", \"y\": [0.8119999999999999], \"yaxis\": \"y2\"}, {\"error_y\": {\"array\": [1.1451730281349697], \"color\": \"#000000\", \"thickness\": 1.5, \"type\": \"data\", \"visible\": true}, \"marker\": {\"color\": \"#C23210\"}, \"name\": \"Nebula nc\", \"showlegend\": false, \"type\": \"bar\", \"x\": [\"Nebula nc\"], \"xaxis\": \"x2\", \"y\": [1.3083333333333333], \"yaxis\": \"y2\"}, {\"error_y\": {\"array\": [0.12274120049457954], \"color\": \"#000000\", \"thickness\": 1.5, \"type\": \"data\", \"visible\": true}, \"marker\": {\"color\": \"#DCE775\"}, \"name\": \"Plain rsync\", \"showlegend\": false, \"type\": \"bar\", \"x\": [\"Plain rsync\"], \"xaxis\": \"x3\", \"y\": [0.6696666666666666], \"yaxis\": \"y3\"}, {\"error_y\": {\"array\": [0.22326624485567453], \"color\": \"#000000\", \"thickness\": 1.5, \"type\": \"data\", \"visible\": true}, \"marker\": {\"color\": \"#8BC34A\"}, \"name\": \"Plain scp\", \"showlegend\": false, \"type\": \"bar\", \"x\": [\"Plain scp\"], \"xaxis\": \"x3\", \"y\": [1.2226666666666666], \"yaxis\": \"y3\"}, {\"error_y\": {\"array\": [2.178173045488341], \"color\": \"#000000\", \"thickness\": 1.5, \"type\": \"data\", \"visible\": true}, \"marker\": {\"color\": \"#388E3C\"}, \"name\": \"Plain nc\", \"showlegend\": false, \"type\": \"bar\", \"x\": [\"Plain nc\"], \"xaxis\": \"x3\", \"y\": [5.523666666666668], \"yaxis\": \"y3\"}, {\"error_y\": {\"array\": [1.117301192169322], \"color\": \"#000000\", \"thickness\": 1.5, \"type\": \"data\", \"visible\": true}, \"marker\": {\"color\": \"#92D0FF\"}, \"name\": \"IPsec rsync\", \"showlegend\": false, \"type\": \"bar\", \"x\": [\"IPsec rsync\"], \"xaxis\": \"x3\", \"y\": [12.676333333333332], \"yaxis\": \"y3\"}, {\"error_y\": {\"array\": [0.3432475062905957], \"color\": \"#000000\", \"thickness\": 1.5, \"type\": \"data\", \"visible\": true}, \"marker\": {\"color\": \"#30ADE5\"}, \"name\": \"IPsec scp\", \"showlegend\": false, \"type\": \"bar\", \"x\": [\"IPsec scp\"], \"xaxis\": \"x3\", \"y\": [3.038666666666666], \"yaxis\": \"y3\"}, {\"error_y\": {\"array\": [0.3280131760740122], \"color\": \"#000000\", \"thickness\": 1.5, \"type\": \"data\", \"visible\": true}, \"marker\": {\"color\": \"#1373C7\"}, \"name\": \"IPsec nc\", \"showlegend\": false, \"type\": \"bar\", \"x\": [\"IPsec nc\"], \"xaxis\": \"x3\", \"y\": [2.1473333333333335], \"yaxis\": \"y3\"}, {\"error_y\": {\"array\": [3.0525065825943125], \"color\": \"#000000\", \"thickness\": 1.5, \"type\": \"data\", \"visible\": true}, \"marker\": {\"color\": \"#FFD0C2\"}, \"name\": \"Nebula rsync\", \"showlegend\": false, \"type\": \"bar\", \"x\": [\"Nebula rsync\"], \"xaxis\": \"x3\", \"y\": [5.589666666666665], \"yaxis\": \"y3\"}, {\"error_y\": {\"array\": [0.3072160870428681], \"color\": \"#000000\", \"thickness\": 1.5, \"type\": \"data\", \"visible\": true}, \"marker\": {\"color\": \"#FF8A83\"}, \"name\": \"Nebula scp\", \"showlegend\": false, \"type\": \"bar\", \"x\": [\"Nebula scp\"], \"xaxis\": \"x3\", \"y\": [3.141], \"yaxis\": \"y3\"}, {\"error_y\": {\"array\": [3.1730717015202328], \"color\": \"#000000\", \"thickness\": 1.5, \"type\": \"data\", \"visible\": true}, \"marker\": {\"color\": \"#C23210\"}, \"name\": \"Nebula nc\", \"showlegend\": false, \"type\": \"bar\", \"x\": [\"Nebula nc\"], \"xaxis\": \"x3\", \"y\": [5.874333333333334], \"yaxis\": \"y3\"}, {\"error_y\": {\"array\": [0.2049154577565738], \"color\": \"#000000\", \"thickness\": 1.5, \"type\": \"data\", \"visible\": true}, \"marker\": {\"color\": \"#DCE775\"}, \"name\": \"Plain rsync\", \"showlegend\": false, \"type\": \"bar\", \"x\": [\"Plain rsync\"], \"xaxis\": \"x4\", \"y\": [1.4460000000000004], \"yaxis\": \"y4\"}, {\"error_y\": {\"array\": [0.4162719049498472], \"color\": \"#000000\", \"thickness\": 1.5, \"type\": \"data\", \"visible\": true}, \"marker\": {\"color\": \"#8BC34A\"}, \"name\": \"Plain scp\", \"showlegend\": false, \"type\": \"bar\", \"x\": [\"Plain scp\"], \"xaxis\": \"x4\", \"y\": [2.3393333333333333], \"yaxis\": \"y4\"}, {\"error_y\": {\"array\": [3.3334269412143698], \"color\": \"#000000\", \"thickness\": 1.5, \"type\": \"data\", \"visible\": true}, \"marker\": {\"color\": \"#388E3C\"}, \"name\": \"Plain nc\", \"showlegend\": false, \"type\": \"bar\", \"x\": [\"Plain nc\"], \"xaxis\": \"x4\", \"y\": [12.226000000000004], \"yaxis\": \"y4\"}, {\"error_y\": {\"array\": [1.372058441836969], \"color\": \"#000000\", \"thickness\": 1.5, \"type\": \"data\", \"visible\": true}, \"marker\": {\"color\": \"#92D0FF\"}, \"name\": \"IPsec rsync\", \"showlegend\": false, \"type\": \"bar\", \"x\": [\"IPsec rsync\"], \"xaxis\": \"x4\", \"y\": [16.029333333333334], \"yaxis\": \"y4\"}, {\"error_y\": {\"array\": [0.3729786903407161], \"color\": \"#000000\", \"thickness\": 1.5, \"type\": \"data\", \"visible\": true}, \"marker\": {\"color\": \"#30ADE5\"}, \"name\": \"IPsec scp\", \"showlegend\": false, \"type\": \"bar\", \"x\": [\"IPsec scp\"], \"xaxis\": \"x4\", \"y\": [4.9319999999999995], \"yaxis\": \"y4\"}, {\"error_y\": {\"array\": [0.4476020399941185], \"color\": \"#000000\", \"thickness\": 1.5, \"type\": \"data\", \"visible\": true}, \"marker\": {\"color\": \"#1373C7\"}, \"name\": \"IPsec nc\", \"showlegend\": false, \"type\": \"bar\", \"x\": [\"IPsec nc\"], \"xaxis\": \"x4\", \"y\": [4.478], \"yaxis\": \"y4\"}, {\"error_y\": {\"array\": [1.901662944378679], \"color\": \"#000000\", \"thickness\": 1.5, \"type\": \"data\", \"visible\": true}, \"marker\": {\"color\": \"#FFD0C2\"}, \"name\": \"Nebula rsync\", \"showlegend\": false, \"type\": \"bar\", \"x\": [\"Nebula rsync\"], \"xaxis\": \"x4\", \"y\": [9.985666666666667], \"yaxis\": \"y4\"}, {\"error_y\": {\"array\": [0.7013747584024805], \"color\": \"#000000\", \"thickness\": 1.5, \"type\": \"data\", \"visible\": true}, \"marker\": {\"color\": \"#FF8A83\"}, \"name\": \"Nebula scp\", \"showlegend\": false, \"type\": \"bar\", \"x\": [\"Nebula scp\"], \"xaxis\": \"x4\", \"y\": [8.581], \"yaxis\": \"y4\"}, {\"error_y\": {\"array\": [5.531663184450666], \"color\": \"#000000\", \"thickness\": 1.5, \"type\": \"data\", \"visible\": true}, \"marker\": {\"color\": \"#C23210\"}, \"name\": \"Nebula nc\", \"showlegend\": false, \"type\": \"bar\", \"x\": [\"Nebula nc\"], \"xaxis\": \"x4\", \"y\": [13.507000000000001], \"yaxis\": \"y4\"}, {\"error_y\": {\"array\": [0.5520599875783948], \"color\": \"#000000\", \"thickness\": 1.5, \"type\": \"data\", \"visible\": true}, \"marker\": {\"color\": \"#DCE775\"}, \"name\": \"Plain rsync\", \"showlegend\": false, \"type\": \"bar\", \"x\": [\"Plain rsync\"], \"xaxis\": \"x5\", \"y\": [8.175666666666666], \"yaxis\": \"y5\"}, {\"error_y\": {\"array\": [0.4647333928574334], \"color\": \"#000000\", \"thickness\": 1.5, \"type\": \"data\", \"visible\": true}, \"marker\": {\"color\": \"#8BC34A\"}, \"name\": \"Plain scp\", \"showlegend\": false, \"type\": \"bar\", \"x\": [\"Plain scp\"], \"xaxis\": \"x5\", \"y\": [9.704333333333333], \"yaxis\": \"y5\"}, {\"error_y\": {\"array\": [19.9359255483979], \"color\": \"#000000\", \"thickness\": 1.5, \"type\": \"data\", \"visible\": true}, \"marker\": {\"color\": \"#388E3C\"}, \"name\": \"Plain nc\", \"showlegend\": false, \"type\": \"bar\", \"x\": [\"Plain nc\"], \"xaxis\": \"x5\", \"y\": [50.96366666666665], \"yaxis\": \"y5\"}, {\"error_y\": {\"array\": [6.218578246054224], \"color\": \"#000000\", \"thickness\": 1.5, \"type\": \"data\", \"visible\": true}, \"marker\": {\"color\": \"#92D0FF\"}, \"name\": \"IPsec rsync\", \"showlegend\": false, \"type\": \"bar\", \"x\": [\"IPsec rsync\"], \"xaxis\": \"x5\", \"y\": [34.45533333333333], \"yaxis\": \"y5\"}, {\"error_y\": {\"array\": [1.1007285466150738], \"color\": \"#000000\", \"thickness\": 1.5, \"type\": \"data\", \"visible\": true}, \"marker\": {\"color\": \"#30ADE5\"}, \"name\": \"IPsec scp\", \"showlegend\": false, \"type\": \"bar\", \"x\": [\"IPsec scp\"], \"xaxis\": \"x5\", \"y\": [20.616333333333326], \"yaxis\": \"y5\"}, {\"error_y\": {\"array\": [1.5952076577249636], \"color\": \"#000000\", \"thickness\": 1.5, \"type\": \"data\", \"visible\": true}, \"marker\": {\"color\": \"#1373C7\"}, \"name\": \"IPsec nc\", \"showlegend\": false, \"type\": \"bar\", \"x\": [\"IPsec nc\"], \"xaxis\": \"x5\", \"y\": [22.824333333333325], \"yaxis\": \"y5\"}, {\"error_y\": {\"array\": [5.468488790806141], \"color\": \"#000000\", \"thickness\": 1.5, \"type\": \"data\", \"visible\": true}, \"marker\": {\"color\": \"#FFD0C2\"}, \"name\": \"Nebula rsync\", \"showlegend\": false, \"type\": \"bar\", \"x\": [\"Nebula rsync\"], \"xaxis\": \"x5\", \"y\": [50.254], \"yaxis\": \"y5\"}, {\"error_y\": {\"array\": [3.2211325201928083], \"color\": \"#000000\", \"thickness\": 1.5, \"type\": \"data\", \"visible\": true}, \"marker\": {\"color\": \"#FF8A83\"}, \"name\": \"Nebula scp\", \"showlegend\": false, \"type\": \"bar\", \"x\": [\"Nebula scp\"], \"xaxis\": \"x5\", \"y\": [44.42466666666666], \"yaxis\": \"y5\"}, {\"error_y\": {\"array\": [7.1352470093934], \"color\": \"#000000\", \"thickness\": 1.5, \"type\": \"data\", \"visible\": true}, \"marker\": {\"color\": \"#C23210\"}, \"name\": \"Nebula nc\", \"showlegend\": false, \"type\": \"bar\", \"x\": [\"Nebula nc\"], \"xaxis\": \"x5\", \"y\": [63.265333333333345], \"yaxis\": \"y5\"}, {\"error_y\": {\"array\": [1.1851334373680522], \"color\": \"#000000\", \"thickness\": 1.5, \"type\": \"data\", \"visible\": true}, \"marker\": {\"color\": \"#DCE775\"}, \"name\": \"Plain rsync\", \"showlegend\": false, \"type\": \"bar\", \"x\": [\"Plain rsync\"], \"xaxis\": \"x6\", \"y\": [16.98366666666667], \"yaxis\": \"y6\"}, {\"error_y\": {\"array\": [0.7465673168714868], \"color\": \"#000000\", \"thickness\": 1.5, \"type\": \"data\", \"visible\": true}, \"marker\": {\"color\": \"#8BC34A\"}, \"name\": \"Plain scp\", \"showlegend\": false, \"type\": \"bar\", \"x\": [\"Plain scp\"], \"xaxis\": \"x6\", \"y\": [19.124], \"yaxis\": \"y6\"}, {\"error_y\": {\"array\": [11.364346045174916], \"color\": \"#000000\", \"thickness\": 1.5, \"type\": \"data\", \"visible\": true}, \"marker\": {\"color\": \"#388E3C\"}, \"name\": \"Plain nc\", \"showlegend\": false, \"type\": \"bar\", \"x\": [\"Plain nc\"], \"xaxis\": \"x6\", \"y\": [74.729], \"yaxis\": \"y6\"}, {\"error_y\": {\"array\": [5.223497628147673], \"color\": \"#000000\", \"thickness\": 1.5, \"type\": \"data\", \"visible\": true}, \"marker\": {\"color\": \"#92D0FF\"}, \"name\": \"IPsec rsync\", \"showlegend\": false, \"type\": \"bar\", \"x\": [\"IPsec rsync\"], \"xaxis\": \"x6\", \"y\": [55.62966666666668], \"yaxis\": \"y6\"}, {\"error_y\": {\"array\": [1.1947456325246737], \"color\": \"#000000\", \"thickness\": 1.5, \"type\": \"data\", \"visible\": true}, \"marker\": {\"color\": \"#30ADE5\"}, \"name\": \"IPsec scp\", \"showlegend\": false, \"type\": \"bar\", \"x\": [\"IPsec scp\"], \"xaxis\": \"x6\", \"y\": [40.029666666666664], \"yaxis\": \"y6\"}, {\"error_y\": {\"array\": [6.5607185704707325], \"color\": \"#000000\", \"thickness\": 1.5, \"type\": \"data\", \"visible\": true}, \"marker\": {\"color\": \"#1373C7\"}, \"name\": \"IPsec nc\", \"showlegend\": false, \"type\": \"bar\", \"x\": [\"IPsec nc\"], \"xaxis\": \"x6\", \"y\": [54.32833333333335], \"yaxis\": \"y6\"}, {\"error_y\": {\"array\": [6.012069431616263], \"color\": \"#000000\", \"thickness\": 1.5, \"type\": \"data\", \"visible\": true}, \"marker\": {\"color\": \"#FFD0C2\"}, \"name\": \"Nebula rsync\", \"showlegend\": false, \"type\": \"bar\", \"x\": [\"Nebula rsync\"], \"xaxis\": \"x6\", \"y\": [96.16066666666669], \"yaxis\": \"y6\"}, {\"error_y\": {\"array\": [2.4524180888989253], \"color\": \"#000000\", \"thickness\": 1.5, \"type\": \"data\", \"visible\": true}, \"marker\": {\"color\": \"#FF8A83\"}, \"name\": \"Nebula scp\", \"showlegend\": false, \"type\": \"bar\", \"x\": [\"Nebula scp\"], \"xaxis\": \"x6\", \"y\": [87.06800000000001], \"yaxis\": \"y6\"}, {\"error_y\": {\"array\": [15.286532668806316], \"color\": \"#000000\", \"thickness\": 1.5, \"type\": \"data\", \"visible\": true}, \"marker\": {\"color\": \"#C23210\"}, \"name\": \"Nebula nc\", \"showlegend\": false, \"type\": \"bar\", \"x\": [\"Nebula nc\"], \"xaxis\": \"x6\", \"y\": [119.13499999999999], \"yaxis\": \"y6\"}],\n",
       "                        {\"annotations\": [{\"font\": {\"size\": 16}, \"showarrow\": false, \"text\": \"Transferring 1 Megabyte\", \"x\": 0.225, \"xanchor\": \"center\", \"xref\": \"paper\", \"y\": 1.0, \"yanchor\": \"bottom\", \"yref\": \"paper\"}, {\"font\": {\"size\": 16}, \"showarrow\": false, \"text\": \"Transferring 10 Megabytes\", \"x\": 0.775, \"xanchor\": \"center\", \"xref\": \"paper\", \"y\": 1.0, \"yanchor\": \"bottom\", \"yref\": \"paper\"}, {\"font\": {\"size\": 16}, \"showarrow\": false, \"text\": \"Transferring 50 Megabytes\", \"x\": 0.225, \"xanchor\": \"center\", \"xref\": \"paper\", \"y\": 0.6111111111111112, \"yanchor\": \"bottom\", \"yref\": \"paper\"}, {\"font\": {\"size\": 16}, \"showarrow\": false, \"text\": \"Transferring 100 Megabytes\", \"x\": 0.775, \"xanchor\": \"center\", \"xref\": \"paper\", \"y\": 0.6111111111111112, \"yanchor\": \"bottom\", \"yref\": \"paper\"}, {\"font\": {\"size\": 16}, \"showarrow\": false, \"text\": \"Transferring 500 Megabytes\", \"x\": 0.225, \"xanchor\": \"center\", \"xref\": \"paper\", \"y\": 0.22222222222222224, \"yanchor\": \"bottom\", \"yref\": \"paper\"}, {\"font\": {\"size\": 16}, \"showarrow\": false, \"text\": \"Transferring 1000 Megabytes\", \"x\": 0.775, \"xanchor\": \"center\", \"xref\": \"paper\", \"y\": 0.22222222222222224, \"yanchor\": \"bottom\", \"yref\": \"paper\"}], \"legend\": {\"orientation\": \"h\", \"x\": 1, \"xanchor\": \"right\", \"y\": 1.05, \"yanchor\": \"bottom\"}, \"template\": {\"data\": {\"bar\": [{\"error_x\": {\"color\": \"#2a3f5f\"}, \"error_y\": {\"color\": \"#2a3f5f\"}, \"marker\": {\"line\": {\"color\": \"#E5ECF6\", \"width\": 0.5}}, \"type\": \"bar\"}], \"barpolar\": [{\"marker\": {\"line\": {\"color\": \"#E5ECF6\", \"width\": 0.5}}, \"type\": \"barpolar\"}], \"carpet\": [{\"aaxis\": {\"endlinecolor\": \"#2a3f5f\", \"gridcolor\": \"white\", \"linecolor\": \"white\", \"minorgridcolor\": \"white\", \"startlinecolor\": \"#2a3f5f\"}, \"baxis\": {\"endlinecolor\": \"#2a3f5f\", \"gridcolor\": \"white\", \"linecolor\": \"white\", \"minorgridcolor\": \"white\", \"startlinecolor\": \"#2a3f5f\"}, \"type\": \"carpet\"}], \"choropleth\": [{\"colorbar\": {\"outlinewidth\": 0, \"ticks\": \"\"}, \"type\": \"choropleth\"}], \"contour\": [{\"colorbar\": {\"outlinewidth\": 0, \"ticks\": \"\"}, \"colorscale\": [[0.0, \"#0d0887\"], [0.1111111111111111, \"#46039f\"], [0.2222222222222222, \"#7201a8\"], [0.3333333333333333, \"#9c179e\"], [0.4444444444444444, \"#bd3786\"], [0.5555555555555556, \"#d8576b\"], [0.6666666666666666, \"#ed7953\"], [0.7777777777777778, \"#fb9f3a\"], [0.8888888888888888, \"#fdca26\"], [1.0, \"#f0f921\"]], \"type\": \"contour\"}], \"contourcarpet\": [{\"colorbar\": {\"outlinewidth\": 0, \"ticks\": \"\"}, \"type\": \"contourcarpet\"}], \"heatmap\": [{\"colorbar\": {\"outlinewidth\": 0, \"ticks\": \"\"}, \"colorscale\": [[0.0, \"#0d0887\"], [0.1111111111111111, \"#46039f\"], [0.2222222222222222, \"#7201a8\"], [0.3333333333333333, \"#9c179e\"], [0.4444444444444444, \"#bd3786\"], [0.5555555555555556, \"#d8576b\"], [0.6666666666666666, \"#ed7953\"], [0.7777777777777778, \"#fb9f3a\"], [0.8888888888888888, \"#fdca26\"], [1.0, \"#f0f921\"]], \"type\": \"heatmap\"}], \"heatmapgl\": [{\"colorbar\": {\"outlinewidth\": 0, \"ticks\": \"\"}, \"colorscale\": [[0.0, \"#0d0887\"], [0.1111111111111111, \"#46039f\"], [0.2222222222222222, \"#7201a8\"], [0.3333333333333333, \"#9c179e\"], [0.4444444444444444, \"#bd3786\"], [0.5555555555555556, \"#d8576b\"], [0.6666666666666666, \"#ed7953\"], [0.7777777777777778, \"#fb9f3a\"], [0.8888888888888888, \"#fdca26\"], [1.0, \"#f0f921\"]], \"type\": \"heatmapgl\"}], \"histogram\": [{\"marker\": {\"colorbar\": {\"outlinewidth\": 0, \"ticks\": \"\"}}, \"type\": \"histogram\"}], \"histogram2d\": [{\"colorbar\": {\"outlinewidth\": 0, \"ticks\": \"\"}, \"colorscale\": [[0.0, \"#0d0887\"], [0.1111111111111111, \"#46039f\"], [0.2222222222222222, \"#7201a8\"], [0.3333333333333333, \"#9c179e\"], [0.4444444444444444, \"#bd3786\"], [0.5555555555555556, \"#d8576b\"], [0.6666666666666666, \"#ed7953\"], [0.7777777777777778, \"#fb9f3a\"], [0.8888888888888888, \"#fdca26\"], [1.0, \"#f0f921\"]], \"type\": \"histogram2d\"}], \"histogram2dcontour\": [{\"colorbar\": {\"outlinewidth\": 0, \"ticks\": \"\"}, \"colorscale\": [[0.0, \"#0d0887\"], [0.1111111111111111, \"#46039f\"], [0.2222222222222222, \"#7201a8\"], [0.3333333333333333, \"#9c179e\"], [0.4444444444444444, \"#bd3786\"], [0.5555555555555556, \"#d8576b\"], [0.6666666666666666, \"#ed7953\"], [0.7777777777777778, \"#fb9f3a\"], [0.8888888888888888, \"#fdca26\"], [1.0, \"#f0f921\"]], \"type\": \"histogram2dcontour\"}], \"mesh3d\": [{\"colorbar\": {\"outlinewidth\": 0, \"ticks\": \"\"}, \"type\": \"mesh3d\"}], \"parcoords\": [{\"line\": {\"colorbar\": {\"outlinewidth\": 0, \"ticks\": \"\"}}, \"type\": \"parcoords\"}], \"pie\": [{\"automargin\": true, \"type\": \"pie\"}], \"scatter\": [{\"marker\": {\"colorbar\": {\"outlinewidth\": 0, \"ticks\": \"\"}}, \"type\": \"scatter\"}], \"scatter3d\": [{\"line\": {\"colorbar\": {\"outlinewidth\": 0, \"ticks\": \"\"}}, \"marker\": {\"colorbar\": {\"outlinewidth\": 0, \"ticks\": \"\"}}, \"type\": \"scatter3d\"}], \"scattercarpet\": [{\"marker\": {\"colorbar\": {\"outlinewidth\": 0, \"ticks\": \"\"}}, \"type\": \"scattercarpet\"}], \"scattergeo\": [{\"marker\": {\"colorbar\": {\"outlinewidth\": 0, \"ticks\": \"\"}}, \"type\": \"scattergeo\"}], \"scattergl\": [{\"marker\": {\"colorbar\": {\"outlinewidth\": 0, \"ticks\": \"\"}}, \"type\": \"scattergl\"}], \"scattermapbox\": [{\"marker\": {\"colorbar\": {\"outlinewidth\": 0, \"ticks\": \"\"}}, \"type\": \"scattermapbox\"}], \"scatterpolar\": [{\"marker\": {\"colorbar\": {\"outlinewidth\": 0, \"ticks\": \"\"}}, \"type\": \"scatterpolar\"}], \"scatterpolargl\": [{\"marker\": {\"colorbar\": {\"outlinewidth\": 0, \"ticks\": \"\"}}, \"type\": \"scatterpolargl\"}], \"scatterternary\": [{\"marker\": {\"colorbar\": {\"outlinewidth\": 0, \"ticks\": \"\"}}, \"type\": \"scatterternary\"}], \"surface\": [{\"colorbar\": {\"outlinewidth\": 0, \"ticks\": \"\"}, \"colorscale\": [[0.0, \"#0d0887\"], [0.1111111111111111, \"#46039f\"], [0.2222222222222222, \"#7201a8\"], [0.3333333333333333, \"#9c179e\"], [0.4444444444444444, \"#bd3786\"], [0.5555555555555556, \"#d8576b\"], [0.6666666666666666, \"#ed7953\"], [0.7777777777777778, \"#fb9f3a\"], [0.8888888888888888, \"#fdca26\"], [1.0, \"#f0f921\"]], \"type\": \"surface\"}], \"table\": [{\"cells\": {\"fill\": {\"color\": \"#EBF0F8\"}, \"line\": {\"color\": \"white\"}}, \"header\": {\"fill\": {\"color\": \"#C8D4E3\"}, \"line\": {\"color\": \"white\"}}, \"type\": \"table\"}]}, \"layout\": {\"annotationdefaults\": {\"arrowcolor\": \"#2a3f5f\", \"arrowhead\": 0, \"arrowwidth\": 1}, \"coloraxis\": {\"colorbar\": {\"outlinewidth\": 0, \"ticks\": \"\"}}, \"colorscale\": {\"diverging\": [[0, \"#8e0152\"], [0.1, \"#c51b7d\"], [0.2, \"#de77ae\"], [0.3, \"#f1b6da\"], [0.4, \"#fde0ef\"], [0.5, \"#f7f7f7\"], [0.6, \"#e6f5d0\"], [0.7, \"#b8e186\"], [0.8, \"#7fbc41\"], [0.9, \"#4d9221\"], [1, \"#276419\"]], \"sequential\": [[0.0, \"#0d0887\"], [0.1111111111111111, \"#46039f\"], [0.2222222222222222, \"#7201a8\"], [0.3333333333333333, \"#9c179e\"], [0.4444444444444444, \"#bd3786\"], [0.5555555555555556, \"#d8576b\"], [0.6666666666666666, \"#ed7953\"], [0.7777777777777778, \"#fb9f3a\"], [0.8888888888888888, \"#fdca26\"], [1.0, \"#f0f921\"]], \"sequentialminus\": [[0.0, \"#0d0887\"], [0.1111111111111111, \"#46039f\"], [0.2222222222222222, \"#7201a8\"], [0.3333333333333333, \"#9c179e\"], [0.4444444444444444, \"#bd3786\"], [0.5555555555555556, \"#d8576b\"], [0.6666666666666666, \"#ed7953\"], [0.7777777777777778, \"#fb9f3a\"], [0.8888888888888888, \"#fdca26\"], [1.0, \"#f0f921\"]]}, \"colorway\": [\"#636efa\", \"#EF553B\", \"#00cc96\", \"#ab63fa\", \"#FFA15A\", \"#19d3f3\", \"#FF6692\", \"#B6E880\", \"#FF97FF\", \"#FECB52\"], \"font\": {\"color\": \"#2a3f5f\"}, \"geo\": {\"bgcolor\": \"white\", \"lakecolor\": \"white\", \"landcolor\": \"#E5ECF6\", \"showlakes\": true, \"showland\": true, \"subunitcolor\": \"white\"}, \"hoverlabel\": {\"align\": \"left\"}, \"hovermode\": \"closest\", \"mapbox\": {\"style\": \"light\"}, \"paper_bgcolor\": \"white\", \"plot_bgcolor\": \"#E5ECF6\", \"polar\": {\"angularaxis\": {\"gridcolor\": \"white\", \"linecolor\": \"white\", \"ticks\": \"\"}, \"bgcolor\": \"#E5ECF6\", \"radialaxis\": {\"gridcolor\": \"white\", \"linecolor\": \"white\", \"ticks\": \"\"}}, \"scene\": {\"xaxis\": {\"backgroundcolor\": \"#E5ECF6\", \"gridcolor\": \"white\", \"gridwidth\": 2, \"linecolor\": \"white\", \"showbackground\": true, \"ticks\": \"\", \"zerolinecolor\": \"white\"}, \"yaxis\": {\"backgroundcolor\": \"#E5ECF6\", \"gridcolor\": \"white\", \"gridwidth\": 2, \"linecolor\": \"white\", \"showbackground\": true, \"ticks\": \"\", \"zerolinecolor\": \"white\"}, \"zaxis\": {\"backgroundcolor\": \"#E5ECF6\", \"gridcolor\": \"white\", \"gridwidth\": 2, \"linecolor\": \"white\", \"showbackground\": true, \"ticks\": \"\", \"zerolinecolor\": \"white\"}}, \"shapedefaults\": {\"line\": {\"color\": \"#2a3f5f\"}}, \"ternary\": {\"aaxis\": {\"gridcolor\": \"white\", \"linecolor\": \"white\", \"ticks\": \"\"}, \"baxis\": {\"gridcolor\": \"white\", \"linecolor\": \"white\", \"ticks\": \"\"}, \"bgcolor\": \"#E5ECF6\", \"caxis\": {\"gridcolor\": \"white\", \"linecolor\": \"white\", \"ticks\": \"\"}}, \"title\": {\"x\": 0.05}, \"xaxis\": {\"automargin\": true, \"gridcolor\": \"white\", \"linecolor\": \"white\", \"ticks\": \"\", \"title\": {\"standoff\": 15}, \"zerolinecolor\": \"white\", \"zerolinewidth\": 2}, \"yaxis\": {\"automargin\": true, \"gridcolor\": \"white\", \"linecolor\": \"white\", \"ticks\": \"\", \"title\": {\"standoff\": 15}, \"zerolinecolor\": \"white\", \"zerolinewidth\": 2}}}, \"xaxis\": {\"anchor\": \"y\", \"domain\": [0.0, 0.45], \"tickangle\": 45}, \"xaxis2\": {\"anchor\": \"y2\", \"domain\": [0.55, 1.0], \"tickangle\": 45}, \"xaxis3\": {\"anchor\": \"y3\", \"domain\": [0.0, 0.45], \"tickangle\": 45}, \"xaxis4\": {\"anchor\": \"y4\", \"domain\": [0.55, 1.0], \"tickangle\": 45}, \"xaxis5\": {\"anchor\": \"y5\", \"domain\": [0.0, 0.45], \"tickangle\": 45}, \"xaxis6\": {\"anchor\": \"y6\", \"domain\": [0.55, 1.0], \"tickangle\": 45}, \"yaxis\": {\"anchor\": \"x\", \"domain\": [0.7777777777777778, 1.0], \"dtick\": 1, \"title\": {\"text\": \"Time (seconds)\"}, \"type\": \"log\"}, \"yaxis2\": {\"anchor\": \"x2\", \"domain\": [0.7777777777777778, 1.0], \"dtick\": 1, \"type\": \"log\"}, \"yaxis3\": {\"anchor\": \"x3\", \"autorange\": true, \"domain\": [0.3888888888888889, 0.6111111111111112], \"dtick\": 2, \"title\": {\"text\": \"Time (seconds)\"}}, \"yaxis4\": {\"anchor\": \"x4\", \"autorange\": true, \"domain\": [0.3888888888888889, 0.6111111111111112], \"dtick\": 2}, \"yaxis5\": {\"anchor\": \"x5\", \"autorange\": true, \"domain\": [0.0, 0.22222222222222224], \"dtick\": 10, \"title\": {\"text\": \"Time (seconds)\"}}, \"yaxis6\": {\"anchor\": \"x6\", \"autorange\": true, \"domain\": [0.0, 0.22222222222222224], \"dtick\": 20}},\n",
       "                        {\"responsive\": true}\n",
       "                    ).then(function(){\n",
       "                            \n",
       "var gd = document.getElementById('242b4280-03f9-43a6-b0f1-b9ef02ee2106');\n",
       "var x = new MutationObserver(function (mutations, observer) {{\n",
       "        var display = window.getComputedStyle(gd).display;\n",
       "        if (!display || display === 'none') {{\n",
       "            console.log([gd, 'removed!']);\n",
       "            Plotly.purge(gd);\n",
       "            observer.disconnect();\n",
       "        }}\n",
       "}});\n",
       "\n",
       "// Listen for the removal of the full notebook cells\n",
       "var notebookContainer = gd.closest('#notebook-container');\n",
       "if (notebookContainer) {{\n",
       "    x.observe(notebookContainer, {childList: true});\n",
       "}}\n",
       "\n",
       "// Listen for the clearing of the current output cell\n",
       "var outputEl = gd.closest('.output');\n",
       "if (outputEl) {{\n",
       "    x.observe(outputEl, {childList: true});\n",
       "}}\n",
       "\n",
       "                        })\n",
       "                };\n",
       "                });\n",
       "            </script>\n",
       "        </div>"
      ]
     },
     "metadata": {},
     "output_type": "display_data"
    }
   ],
   "source": [
    "# fig = go.Figure()\n",
    "\n",
    "fig = make_subplots(rows=3, cols=2,\n",
    "                   subplot_titles=(\"Transferring 1 Megabyte\", \n",
    "                                   \"Transferring 10 Megabytes\",\n",
    "                                  \"Transferring 50 Megabytes\",\n",
    "                                  \"Transferring 100 Megabytes\",\n",
    "                                  \"Transferring 500 Megabytes\",\n",
    "                                  \"Transferring 1000 Megabytes\")\n",
    "                   )\n",
    "\n",
    "# 1M plain rsync\n",
    "fig.add_trace(\n",
    "    go.Bar(\n",
    "        name='Plain rsync',\n",
    "#         x=plain_rsync_m1_mean_df['size'],\n",
    "        x=['Plain rsync'],\n",
    "        y=plain_rsync_m1_mean_df.seconds,\n",
    "        marker=dict(color=\"#DCE775\"),showlegend=True,\n",
    "        error_y=dict(type='data', array=plain_rsync_m1_std_df.seconds, visible=True, thickness=1.5, color='#000000')\n",
    "    ), row=1, col=1\n",
    ")\n",
    "\n",
    "# 1M plain scp\n",
    "fig.add_trace(\n",
    "    go.Bar(\n",
    "        name='Plain scp',\n",
    "#         x=plain_scp_m1_mean_df['size'],\n",
    "        x=['Plain scp'],\n",
    "        y=plain_scp_m1_mean_df.seconds,\n",
    "        marker=dict(color=\"#8BC34A\"),showlegend=True,\n",
    "        error_y=dict(type='data', array=plain_scp_m1_std_df.seconds, visible=True, thickness=1.5, color='#000000')\n",
    "    ), row=1, col=1\n",
    ")\n",
    "# 1M Plain netcat\n",
    "fig.add_trace(\n",
    "    go.Bar(\n",
    "        name='Plain nc',\n",
    "#         x=plain_nc_m1_mean_df['size'],\n",
    "        x=['Plain nc'],\n",
    "        y=plain_nc_m1_mean_df.seconds,\n",
    "        marker=dict(color=\"#388E3C\"),showlegend=True,\n",
    "        error_y=dict(type='data', array=plain_nc_m1_std_df.seconds, visible=True, thickness=1.5, color='#000000')\n",
    "    ), row=1, col=1\n",
    ")\n",
    "\n",
    "# 1M IPsec rsync\n",
    "fig.add_trace(\n",
    "    go.Bar(\n",
    "        name='IPsec rsync',\n",
    "#         x=ipsec_rsync_m1_mean_df['size'],\n",
    "        x=['IPsec rsync'],\n",
    "        y=ipsec_rsync_m1_mean_df.seconds,\n",
    "        marker=dict(color=\"#92D0FF\"),showlegend=True,\n",
    "        error_y=dict(type='data', array=ipsec_rsync_m1_std_df.seconds, visible=True, thickness=1.5, color='#000000')\n",
    "    ), row=1, col=1\n",
    ")\n",
    "\n",
    "# 1M IPsec scp\n",
    "fig.add_trace(\n",
    "    go.Bar(\n",
    "        name='IPsec scp',\n",
    "#         x=ipsec_scp_m1_mean_df['size'],\n",
    "        x=['IPsec scp'],\n",
    "        y=ipsec_scp_m1_mean_df.seconds,\n",
    "        marker=dict(color=\"#30ADE5\"),showlegend=True,\n",
    "        error_y=dict(type='data', array=ipsec_scp_m1_std_df.seconds, visible=True, thickness=1.5, color='#000000')\n",
    "    ), row=1, col=1\n",
    ")\n",
    "\n",
    "# 1M IPsec netcat\n",
    "fig.add_trace(\n",
    "    go.Bar(\n",
    "        name='IPsec nc',\n",
    "#         x=ipsec_nc_m1_mean_df['size'],\n",
    "        x=['IPsec nc'],\n",
    "        y=ipsec_nc_m1_mean_df.seconds,\n",
    "        marker=dict(color=\"#1373C7\"),showlegend=True,\n",
    "        error_y=dict(type='data', array=ipsec_nc_m1_std_df.seconds, visible=True, thickness=1.5, color='#000000')\n",
    "    ), row=1, col=1\n",
    ")\n",
    "\n",
    "# 1M Nebula rsync\n",
    "fig.add_trace(\n",
    "    go.Bar(\n",
    "        name='Nebula rsync',\n",
    "#         x=nebula_rsync_m1_mean_df['size'],\n",
    "        x=['Nebula rsync'],\n",
    "        y=nebula_rsync_m1_mean_df.seconds,\n",
    "        marker=dict(color=\"#FFD0C2\"),showlegend=True,\n",
    "        error_y=dict(type='data', array=nebula_rsync_m1_std_df.seconds, visible=True, thickness=1.5, color='#000000'),\n",
    "    ), row=1, col=1\n",
    ")\n",
    "\n",
    "# 1M Nebula scp\n",
    "fig.add_trace(\n",
    "    go.Bar(\n",
    "        name='Nebula scp',\n",
    "#         x=nebula_scp_m1_mean_df['size'],\n",
    "        x=['Nebula scp'],\n",
    "        y=nebula_scp_m1_mean_df.seconds,\n",
    "        marker=dict(color=\"#FF8A83\"),showlegend=True,\n",
    "        error_y=dict(type='data', array=nebula_scp_m1_std_df.seconds, visible=True, thickness=1.5, color='#000000'),\n",
    "    ), row=1, col=1\n",
    ")\n",
    "# 1M Nebula netcat\n",
    "fig.add_trace(\n",
    "    go.Bar(\n",
    "        name='Nebula nc',\n",
    "#         x=nebula_nc_m1_mean_df['size'],\n",
    "        x=['Nebula nc'],\n",
    "        y=nebula_nc_m1_mean_df.seconds,\n",
    "        marker=dict(color=\"#C23210\"),showlegend=True,\n",
    "        error_y=dict(type='data', array=nebula_nc_m1_std_df.seconds, visible=True, thickness=1.5, color='#000000'),\n",
    "    ), row=1, col=1\n",
    ")\n",
    "#---------------------------------------------------\n",
    "\n",
    "\n",
    "# 10M plain rsync\n",
    "fig.add_trace(\n",
    "    go.Bar(\n",
    "        name='Plain rsync',\n",
    "#         x=plain_rsync_m10_mean_df['size'],\n",
    "        x=['Plain rsync'],\n",
    "        y=plain_rsync_m10_mean_df.seconds,\n",
    "        marker=dict(color=\"#DCE775\"),showlegend=False,\n",
    "        error_y=dict(type='data', array=plain_rsync_m10_std_df.seconds, visible=True, thickness=1.5, color='#000000')\n",
    "    ), row=1, col=2\n",
    ")\n",
    "\n",
    "# 10M plain scp\n",
    "fig.add_trace(\n",
    "    go.Bar(\n",
    "        name='Plain scp',\n",
    "#         x=plain_scp_m10_mean_df['size'],\n",
    "        x=['Plain scp'],\n",
    "        y=plain_scp_m10_mean_df.seconds,\n",
    "        marker=dict(color=\"#8BC34A\"),showlegend=False,\n",
    "        error_y=dict(type='data', array=plain_scp_m10_std_df.seconds, visible=True, thickness=1.5, color='#000000')\n",
    "    ), row=1, col=2\n",
    ")\n",
    "# 10M Plain netcat\n",
    "fig.add_trace(\n",
    "    go.Bar(\n",
    "        name='Plain nc',\n",
    "#         x=plain_nc_m10_mean_df['size'],\n",
    "        x=['Plain nc'],\n",
    "        y=plain_nc_m10_mean_df.seconds,\n",
    "        marker=dict(color=\"#388E3C\"),showlegend=False,\n",
    "        error_y=dict(type='data', array=plain_nc_m10_std_df.seconds, visible=True, thickness=1.5, color='#000000')\n",
    "    ), row=1, col=2\n",
    ")\n",
    "\n",
    "\n",
    "# 10M IPsec rsync\n",
    "fig.add_trace(\n",
    "    go.Bar(\n",
    "        name='IPsec rsync',\n",
    "#         x=ipsec_rsync_m10_mean_df['size'],\n",
    "        x=['IPsec rsync'],\n",
    "        y=ipsec_rsync_m10_mean_df.seconds,\n",
    "        marker=dict(color=\"#92D0FF\"),showlegend=False,\n",
    "        error_y=dict(type='data', array=ipsec_rsync_m10_std_df.seconds, visible=True, thickness=1.5, color='#000000')\n",
    "    ), row=1, col=2\n",
    ")\n",
    "\n",
    "# 10M IPsec scp\n",
    "fig.add_trace(\n",
    "    go.Bar(\n",
    "        name='IPsec scp',\n",
    "#         x=ipsec_scp_m10_mean_df['size'],\n",
    "        x=['IPsec scp'],\n",
    "        y=ipsec_scp_m10_mean_df.seconds,\n",
    "        marker=dict(color=\"#30ADE5\"),showlegend=False,\n",
    "        error_y=dict(type='data', array=ipsec_scp_m10_std_df.seconds, visible=True, thickness=1.5, color='#000000')\n",
    "    ), row=1, col=2\n",
    ")\n",
    "\n",
    "# 10M IPsec netcat\n",
    "fig.add_trace(\n",
    "    go.Bar(\n",
    "        name='IPsec nc',\n",
    "#         x=ipsec_nc_m10_mean_df['size'],\n",
    "        x=['IPsec nc'],\n",
    "        y=ipsec_nc_m10_mean_df.seconds,\n",
    "        marker=dict(color=\"#1373C7\"),showlegend=False,\n",
    "        error_y=dict(type='data', array=ipsec_nc_m10_std_df.seconds, visible=True, thickness=1.5, color='#000000')\n",
    "    ), row=1, col=2\n",
    ")\n",
    "\n",
    "# 10M Nebula rsync\n",
    "fig.add_trace(\n",
    "    go.Bar(\n",
    "        name='Nebula rsync',\n",
    "#         x=nebula_rsync_m10_mean_df['size'],\n",
    "        x=['Nebula rsync'],\n",
    "        y=nebula_rsync_m10_mean_df.seconds,\n",
    "        marker=dict(color=\"#FFD0C2\"),showlegend=False,\n",
    "        error_y=dict(type='data', array=nebula_rsync_m10_std_df.seconds, visible=True, thickness=1.5, color='#000000'),\n",
    "    ), row=1, col=2\n",
    ")\n",
    "\n",
    "# 10M Nebula scp\n",
    "fig.add_trace(\n",
    "    go.Bar(\n",
    "        name='Nebula scp',\n",
    "#         x=nebula_scp_m10_mean_df['size'],\n",
    "        x=['Nebula scp'],\n",
    "        y=nebula_scp_m10_mean_df.seconds,\n",
    "        marker=dict(color=\"#FF8A83\"),showlegend=False,\n",
    "        error_y=dict(type='data', array=nebula_scp_m10_std_df.seconds, visible=True, thickness=1.5, color='#000000'),\n",
    "    ), row=1, col=2\n",
    ")\n",
    "# 10M Nebula netcat\n",
    "fig.add_trace(\n",
    "    go.Bar(\n",
    "        name='Nebula nc',\n",
    "#         x=nebula_nc_m10_mean_df['size'],\n",
    "        x=['Nebula nc'],\n",
    "        y=nebula_nc_m10_mean_df.seconds,\n",
    "        marker=dict(color=\"#C23210\"),showlegend=False,\n",
    "        error_y=dict(type='data', array=nebula_nc_m10_std_df.seconds, visible=True, thickness=1.5, color='#000000'),\n",
    "    ), row=1, col=2\n",
    ")\n",
    "\n",
    "#------------------------------------\n",
    "\n",
    "# 50M plain rsync\n",
    "fig.add_trace(\n",
    "    go.Bar(\n",
    "        name='Plain rsync',\n",
    "#         x=plain_rsync_m50_mean_df['size'],\n",
    "        x=['Plain rsync'],\n",
    "        y=plain_rsync_m50_mean_df.seconds,\n",
    "        marker=dict(color=\"#DCE775\"),showlegend=False,\n",
    "        error_y=dict(type='data', array=plain_rsync_m50_std_df.seconds, visible=True, thickness=1.5, color='#000000')\n",
    "    ), row=2, col=1\n",
    ")\n",
    "\n",
    "# 50M plain scp\n",
    "fig.add_trace(\n",
    "    go.Bar(\n",
    "        name='Plain scp',\n",
    "#         x=plain_scp_m50_mean_df['size'],\n",
    "        x=['Plain scp'],\n",
    "        y=plain_scp_m50_mean_df.seconds,\n",
    "        marker=dict(color=\"#8BC34A\"),showlegend=False,\n",
    "        error_y=dict(type='data', array=plain_scp_m50_std_df.seconds, visible=True, thickness=1.5, color='#000000')\n",
    "    ), row=2, col=1\n",
    ")\n",
    "# 50M Plain netcat\n",
    "fig.add_trace(\n",
    "    go.Bar(\n",
    "        name='Plain nc',\n",
    "#         x=plain_nc_m50_mean_df['size'],\n",
    "        x=['Plain nc'],\n",
    "        y=plain_nc_m50_mean_df.seconds,\n",
    "        marker=dict(color=\"#388E3C\"),showlegend=False,\n",
    "        error_y=dict(type='data', array=plain_nc_m50_std_df.seconds, visible=True, thickness=1.5, color='#000000')\n",
    "    ), row=2, col=1\n",
    ")\n",
    "\n",
    "\n",
    "# 50M IPsec rsync\n",
    "fig.add_trace(\n",
    "    go.Bar(\n",
    "        name='IPsec rsync',\n",
    "#         x=ipsec_rsync_m50_mean_df['size'],\n",
    "        x=['IPsec rsync'],\n",
    "        y=ipsec_rsync_m50_mean_df.seconds,\n",
    "        marker=dict(color=\"#92D0FF\"),showlegend=False,\n",
    "        error_y=dict(type='data', array=ipsec_rsync_m50_std_df.seconds, visible=True, thickness=1.5, color='#000000')\n",
    "    ), row=2, col=1\n",
    ")\n",
    "# 50M IPsec scp\n",
    "fig.add_trace(\n",
    "    go.Bar(\n",
    "        name='IPsec scp',\n",
    "#         x=ipsec_scp_m50_mean_df['size'],\n",
    "        x=['IPsec scp'],\n",
    "        y=ipsec_scp_m50_mean_df.seconds,\n",
    "        marker=dict(color=\"#30ADE5\"),showlegend=False,\n",
    "        error_y=dict(type='data', array=ipsec_scp_m50_std_df.seconds, visible=True, thickness=1.5, color='#000000')\n",
    "    ), row=2, col=1\n",
    ")\n",
    "\n",
    "# 50M IPsec netcat\n",
    "fig.add_trace(\n",
    "    go.Bar(\n",
    "        name='IPsec nc',\n",
    "#         x=ipsec_nc_m50_mean_df['size'],\n",
    "        x=['IPsec nc'],\n",
    "        y=ipsec_nc_m50_mean_df.seconds,\n",
    "        marker=dict(color=\"#1373C7\"),showlegend=False,\n",
    "        error_y=dict(type='data', array=ipsec_nc_m50_std_df.seconds, visible=True, thickness=1.5, color='#000000')\n",
    "    ), row=2, col=1\n",
    ")\n",
    "\n",
    "# 50M Nebula rsync\n",
    "fig.add_trace(\n",
    "    go.Bar(\n",
    "        name='Nebula rsync',\n",
    "#         x=nebula_rsync_m50_mean_df['size'],\n",
    "        x=['Nebula rsync'],\n",
    "        y=nebula_rsync_m50_mean_df.seconds,\n",
    "        marker=dict(color=\"#FFD0C2\"),showlegend=False,\n",
    "        error_y=dict(type='data', array=nebula_rsync_m50_std_df.seconds, visible=True, thickness=1.5, color='#000000'),\n",
    "    ), row=2, col=1\n",
    ")\n",
    "\n",
    "# 50M Nebula scp\n",
    "fig.add_trace(\n",
    "    go.Bar(\n",
    "        name='Nebula scp',\n",
    "#         x=nebula_scp_m50_mean_df['size'],\n",
    "        x=['Nebula scp'],\n",
    "        y=nebula_scp_m50_mean_df.seconds,\n",
    "        marker=dict(color=\"#FF8A83\"),showlegend=False,\n",
    "        error_y=dict(type='data', array=nebula_scp_m50_std_df.seconds, visible=True, thickness=1.5, color='#000000'),\n",
    "    ), row=2, col=1\n",
    ")\n",
    "# 50M Nebula netcat\n",
    "fig.add_trace(\n",
    "    go.Bar(\n",
    "        name='Nebula nc',\n",
    "#         x=nebula_nc_m50_mean_df['size'],\n",
    "        x=['Nebula nc'],\n",
    "        y=nebula_nc_m50_mean_df.seconds,\n",
    "        marker=dict(color=\"#C23210\"),showlegend=False,\n",
    "        error_y=dict(type='data', array=nebula_nc_m50_std_df.seconds, visible=True, thickness=1.5, color='#000000'),\n",
    "    ), row=2, col=1\n",
    ")\n",
    "\n",
    "#---------------------------------------------------\n",
    "\n",
    "# 100M plain rsync\n",
    "fig.add_trace(\n",
    "    go.Bar(\n",
    "        name='Plain rsync',\n",
    "#         x=plain_rsync_m100_mean_df['size'],\n",
    "        x=['Plain rsync'],\n",
    "        y=plain_rsync_m100_mean_df.seconds,\n",
    "        marker=dict(color=\"#DCE775\"),showlegend=False,\n",
    "        error_y=dict(type='data', array=plain_rsync_m100_std_df.seconds, visible=True, thickness=1.5, color='#000000')\n",
    "    ), row=2, col=2\n",
    ")\n",
    "# 100M plain scp\n",
    "fig.add_trace(\n",
    "    go.Bar(\n",
    "        name='Plain scp',\n",
    "#         x=plain_scp_m100_mean_df['size'],\n",
    "        x=['Plain scp'],\n",
    "        y=plain_scp_m100_mean_df.seconds,\n",
    "        marker=dict(color=\"#8BC34A\"),showlegend=False,\n",
    "        error_y=dict(type='data', array=plain_scp_m100_std_df.seconds, visible=True, thickness=1.5, color='#000000')\n",
    "    ), row=2, col=2\n",
    ")\n",
    "# 100M Plain netcat\n",
    "fig.add_trace(\n",
    "    go.Bar(\n",
    "        name='Plain nc',\n",
    "#         x=plain_nc_m100_mean_df['size'],\n",
    "        x=['Plain nc'],\n",
    "        y=plain_nc_m100_mean_df.seconds,\n",
    "        marker=dict(color=\"#388E3C\"),showlegend=False,\n",
    "        error_y=dict(type='data', array=plain_nc_m100_std_df.seconds, visible=True, thickness=1.5, color='#000000')\n",
    "    ), row=2, col=2\n",
    ")\n",
    "\n",
    "# 100M IPsec rsync\n",
    "fig.add_trace(\n",
    "    go.Bar(\n",
    "        name='IPsec rsync',\n",
    "#         x=ipsec_rsync_m100_mean_df['size'],\n",
    "        x=['IPsec rsync'],\n",
    "        y=ipsec_rsync_m100_mean_df.seconds,\n",
    "        marker=dict(color=\"#92D0FF\"),showlegend=False,\n",
    "        error_y=dict(type='data', array=ipsec_rsync_m100_std_df.seconds, visible=True, thickness=1.5, color='#000000')\n",
    "    ), row=2, col=2\n",
    ")\n",
    "\n",
    "# 100M IPsec scp\n",
    "fig.add_trace(\n",
    "    go.Bar(\n",
    "        name='IPsec scp',\n",
    "#         x=ipsec_scp_m100_mean_df['size'],\n",
    "        x=['IPsec scp'],\n",
    "        y=ipsec_scp_m100_mean_df.seconds,\n",
    "        marker=dict(color=\"#30ADE5\"),showlegend=False,\n",
    "        error_y=dict(type='data', array=ipsec_scp_m100_std_df.seconds, visible=True, thickness=1.5, color='#000000')\n",
    "    ), row=2, col=2\n",
    ")\n",
    "\n",
    "# 100M IPsec netcat\n",
    "fig.add_trace(\n",
    "    go.Bar(\n",
    "        name='IPsec nc',\n",
    "#         x=ipsec_nc_m100_mean_df['size'],\n",
    "        x=['IPsec nc'],\n",
    "        y=ipsec_nc_m100_mean_df.seconds,\n",
    "        marker=dict(color=\"#1373C7\"),showlegend=False,\n",
    "        error_y=dict(type='data', array=ipsec_nc_m100_std_df.seconds, visible=True, thickness=1.5, color='#000000')\n",
    "    ), row=2, col=2\n",
    ")\n",
    "\n",
    "# 100M Nebula rsync\n",
    "fig.add_trace(\n",
    "    go.Bar(\n",
    "        name='Nebula rsync',\n",
    "#         x=nebula_rsync_m100_mean_df['size'],\n",
    "        x=['Nebula rsync'],\n",
    "        y=nebula_rsync_m100_mean_df.seconds,\n",
    "        marker=dict(color=\"#FFD0C2\"),showlegend=False,\n",
    "        error_y=dict(type='data', array=nebula_rsync_m100_std_df.seconds, visible=True, thickness=1.5, color='#000000'),\n",
    "    ), row=2, col=2\n",
    ")\n",
    "\n",
    "# 100M Nebula scp\n",
    "fig.add_trace(\n",
    "    go.Bar(\n",
    "        name='Nebula scp',\n",
    "#         x=nebula_scp_m100_mean_df['size'],\n",
    "        x=['Nebula scp'],\n",
    "        y=nebula_scp_m100_mean_df.seconds,\n",
    "        marker=dict(color=\"#FF8A83\"),showlegend=False,\n",
    "        error_y=dict(type='data', array=nebula_scp_m100_std_df.seconds, visible=True, thickness=1.5, color='#000000'),\n",
    "    ), row=2, col=2\n",
    ")\n",
    "# 100M Nebula netcat\n",
    "fig.add_trace(\n",
    "    go.Bar(\n",
    "        name='Nebula nc',\n",
    "#         x=nebula_nc_m100_mean_df['size'],\n",
    "        x=['Nebula nc'],\n",
    "        y=nebula_nc_m100_mean_df.seconds,\n",
    "        marker=dict(color=\"#C23210\"),showlegend=False,\n",
    "        error_y=dict(type='data', array=nebula_nc_m100_std_df.seconds, visible=True, thickness=1.5, color='#000000'),\n",
    "    ), row=2, col=2\n",
    ")\n",
    "\n",
    "#------------------------------------------------\n",
    "\n",
    "# 500M plain rsync\n",
    "fig.add_trace(\n",
    "    go.Bar(\n",
    "        name='Plain rsync',\n",
    "#         x=plain_rsync_m500_mean_df['size'],\n",
    "        x=['Plain rsync'],\n",
    "        y=plain_rsync_m500_mean_df.seconds,\n",
    "        marker=dict(color=\"#DCE775\"),showlegend=False,\n",
    "        error_y=dict(type='data', array=plain_rsync_m500_std_df.seconds, visible=True, thickness=1.5, color='#000000')\n",
    "    ), row=3, col=1\n",
    ")\n",
    "# 500M plain scp\n",
    "fig.add_trace(\n",
    "    go.Bar(\n",
    "        name='Plain scp',\n",
    "#         x=plain_scp_m500_mean_df['size'],\n",
    "        x=['Plain scp'],\n",
    "        y=plain_scp_m500_mean_df.seconds,\n",
    "        marker=dict(color=\"#8BC34A\"),showlegend=False,\n",
    "        error_y=dict(type='data', array=plain_scp_m500_std_df.seconds, visible=True, thickness=1.5, color='#000000')\n",
    "    ), row=3, col=1\n",
    ")\n",
    "# 500M Plain netcat\n",
    "fig.add_trace(\n",
    "    go.Bar(\n",
    "        name='Plain nc',\n",
    "#         x=plain_nc_m500_mean_df['size'],\n",
    "        x=['Plain nc'],\n",
    "        y=plain_nc_m500_mean_df.seconds,\n",
    "        marker=dict(color=\"#388E3C\"),showlegend=False,\n",
    "        error_y=dict(type='data', array=plain_nc_m500_std_df.seconds, visible=True, thickness=1.5, color='#000000')\n",
    "    ), row=3, col=1\n",
    ")\n",
    "\n",
    "# 500M IPsec rsync\n",
    "fig.add_trace(\n",
    "    go.Bar(\n",
    "        name='IPsec rsync',\n",
    "#         x=ipsec_rsync_m500_mean_df['size'],\n",
    "        x=['IPsec rsync'],\n",
    "        y=ipsec_rsync_m500_mean_df.seconds,\n",
    "        marker=dict(color=\"#92D0FF\"),showlegend=False,\n",
    "        error_y=dict(type='data', array=ipsec_rsync_m500_std_df.seconds, visible=True, thickness=1.5, color='#000000')\n",
    "    ), row=3, col=1\n",
    ")\n",
    "# 500M IPsec scp\n",
    "fig.add_trace(\n",
    "    go.Bar(\n",
    "        name='IPsec scp',\n",
    "#         x=ipsec_scp_m500_mean_df['size'],\n",
    "        x=['IPsec scp'],\n",
    "        y=ipsec_scp_m500_mean_df.seconds,\n",
    "        marker=dict(color=\"#30ADE5\"),showlegend=False,\n",
    "        error_y=dict(type='data', array=ipsec_scp_m500_std_df.seconds, visible=True, thickness=1.5, color='#000000')\n",
    "    ), row=3, col=1\n",
    ")\n",
    "\n",
    "# 500M IPsec netcat\n",
    "fig.add_trace(\n",
    "    go.Bar(\n",
    "        name='IPsec nc',\n",
    "#         x=ipsec_nc_m500_mean_df['size'],\n",
    "        x=['IPsec nc'],\n",
    "        y=ipsec_nc_m500_mean_df.seconds,\n",
    "        marker=dict(color=\"#1373C7\"),showlegend=False,\n",
    "        error_y=dict(type='data', array=ipsec_nc_m500_std_df.seconds, visible=True, thickness=1.5, color='#000000')\n",
    "    ), row=3, col=1\n",
    ")\n",
    "# 500M Nebula rsync\n",
    "fig.add_trace(\n",
    "    go.Bar(\n",
    "        name='Nebula rsync',\n",
    "#         x=nebula_rsync_m500_mean_df['size'],\n",
    "        x=['Nebula rsync'],\n",
    "        y=nebula_rsync_m500_mean_df.seconds,\n",
    "        marker=dict(color=\"#FFD0C2\"),showlegend=False,\n",
    "        error_y=dict(type='data', array=nebula_rsync_m500_std_df.seconds, visible=True, thickness=1.5, color='#000000'),\n",
    "    ), row=3, col=1\n",
    ")\n",
    "# 500M Nebula scp\n",
    "fig.add_trace(\n",
    "    go.Bar(\n",
    "        name='Nebula scp',\n",
    "#         x=nebula_scp_m500_mean_df['size'],\n",
    "        x=['Nebula scp'],\n",
    "        y=nebula_scp_m500_mean_df.seconds,\n",
    "        marker=dict(color=\"#FF8A83\"),showlegend=False,\n",
    "        error_y=dict(type='data', array=nebula_scp_m500_std_df.seconds, visible=True, thickness=1.5, color='#000000'),\n",
    "    ), row=3, col=1\n",
    ")\n",
    "# 500M Nebula netcat\n",
    "fig.add_trace(\n",
    "    go.Bar(\n",
    "        name='Nebula nc',\n",
    "#         x=nebula_nc_m500_mean_df['size'],\n",
    "        x=['Nebula nc'],\n",
    "        y=nebula_nc_m500_mean_df.seconds,\n",
    "        marker=dict(color=\"#C23210\"),showlegend=False,\n",
    "        error_y=dict(type='data', array=nebula_nc_m500_std_df.seconds, visible=True, thickness=1.5, color='#000000'),\n",
    "    ), row=3, col=1\n",
    ")\n",
    "\n",
    "#--------------------------------------------------------\n",
    "\n",
    "# 1000M plain rsync\n",
    "fig.add_trace(\n",
    "    go.Bar(\n",
    "        name='Plain rsync',\n",
    "#         x=plain_rsync_m1000_mean_df['size'],\n",
    "        x=['Plain rsync'],\n",
    "        y=plain_rsync_m1000_mean_df.seconds,\n",
    "        marker=dict(color=\"#DCE775\"),showlegend=False,\n",
    "        error_y=dict(type='data', array=plain_rsync_m1000_std_df.seconds, visible=True, thickness=1.5, color='#000000')\n",
    "    ), row=3, col=2\n",
    ")\n",
    "\n",
    "# 1000M plain scp\n",
    "fig.add_trace(\n",
    "    go.Bar(\n",
    "        name='Plain scp',\n",
    "#         x=plain_scp_m1000_mean_df['size'],\n",
    "        x=['Plain scp'],\n",
    "        y=plain_scp_m1000_mean_df.seconds,\n",
    "        marker=dict(color=\"#8BC34A\"),showlegend=False,\n",
    "        error_y=dict(type='data', array=plain_scp_m1000_std_df.seconds, visible=True, thickness=1.5, color='#000000')\n",
    "    ), row=3, col=2\n",
    ")\n",
    "# 1000M Plain netcat\n",
    "fig.add_trace(\n",
    "    go.Bar(\n",
    "        name='Plain nc',\n",
    "#         x=plain_nc_m1000_mean_df['size'],\n",
    "        x=['Plain nc'],\n",
    "        y=plain_nc_m1000_mean_df.seconds,\n",
    "        marker=dict(color=\"#388E3C\"),showlegend=False,\n",
    "        error_y=dict(type='data', array=plain_nc_m1000_std_df.seconds, visible=True, thickness=1.5, color='#000000')\n",
    "    ), row=3, col=2\n",
    ")\n",
    "\n",
    "# 1000M IPsec rsync\n",
    "fig.add_trace(\n",
    "    go.Bar(\n",
    "        name='IPsec rsync',\n",
    "#         x=ipsec_rsync_m1000_mean_df['size'],\n",
    "        x=['IPsec rsync'],\n",
    "        y=ipsec_rsync_m1000_mean_df.seconds,\n",
    "        marker=dict(color=\"#92D0FF\"),showlegend=False,\n",
    "        error_y=dict(type='data', array=ipsec_rsync_m1000_std_df.seconds, visible=True, thickness=1.5, color='#000000')\n",
    "    ), row=3, col=2\n",
    ")\n",
    "# 1000M IPsec scp\n",
    "fig.add_trace(\n",
    "    go.Bar(\n",
    "        name='IPsec scp',\n",
    "#         x=ipsec_scp_m1000_mean_df['size'],\n",
    "        x=['IPsec scp'],\n",
    "        y=ipsec_scp_m1000_mean_df.seconds,\n",
    "        marker=dict(color=\"#30ADE5\"),showlegend=False,\n",
    "        error_y=dict(type='data', array=ipsec_scp_m1000_std_df.seconds, visible=True, thickness=1.5, color='#000000')\n",
    "    ), row=3, col=2\n",
    ")\n",
    "\n",
    "# 1000M IPsec netcat\n",
    "fig.add_trace(\n",
    "    go.Bar(\n",
    "        name='IPsec nc',\n",
    "#         x=ipsec_nc_m1000_mean_df['size'],\n",
    "        x=['IPsec nc'],\n",
    "        y=ipsec_nc_m1000_mean_df.seconds,\n",
    "        marker=dict(color=\"#1373C7\"),showlegend=False,\n",
    "        error_y=dict(type='data', array=ipsec_nc_m1000_std_df.seconds, visible=True, thickness=1.5, color='#000000')\n",
    "    ), row=3, col=2\n",
    ")\n",
    "# 1000M Nebula rsync\n",
    "fig.add_trace(\n",
    "    go.Bar(\n",
    "        name='Nebula rsync',\n",
    "#         x=nebula_rsync_m1000_mean_df['size'],\n",
    "        x=['Nebula rsync'],\n",
    "        y=nebula_rsync_m1000_mean_df.seconds,\n",
    "        marker=dict(color=\"#FFD0C2\"),showlegend=False,\n",
    "        error_y=dict(type='data', array=nebula_rsync_m1000_std_df.seconds, visible=True, thickness=1.5, color='#000000'),\n",
    "    ), row=3, col=2\n",
    ")\n",
    "# 1000M Nebula scp\n",
    "fig.add_trace(\n",
    "    go.Bar(\n",
    "        name='Nebula scp',\n",
    "#         x=nebula_scp_m1000_mean_df['size'],\n",
    "        x=['Nebula scp'],\n",
    "        y=nebula_scp_m1000_mean_df.seconds,\n",
    "        marker=dict(color=\"#FF8A83\"),showlegend=False,\n",
    "        error_y=dict(type='data', array=nebula_scp_m1000_std_df.seconds, visible=True, thickness=1.5, color='#000000'),\n",
    "    ), row=3, col=2\n",
    ")\n",
    "# 1000M Nebula netcat\n",
    "fig.add_trace(\n",
    "    go.Bar(\n",
    "        name='Nebula nc',\n",
    "#         x=nebula_nc_m1000_mean_df['size'],\n",
    "        x=['Nebula nc'],\n",
    "        y=nebula_nc_m1000_mean_df.seconds,      \n",
    "#         text=\"Nebula nc\", textposition='inside',\n",
    "        marker=dict(color=\"#C23210\"),showlegend=False,\n",
    "        error_y=dict(type='data', array=nebula_nc_m1000_std_df.seconds, visible=True, thickness=1.5, color='#000000'),\n",
    "    ), row=3, col=2\n",
    ")\n",
    "\n",
    "\n",
    "\n",
    "# Update xaxis properties\n",
    "# fig.update_xaxes(title_text=\"File size in megabytes\", row=1, col=1)\n",
    "# fig.update_xaxes(title_text=\"File size in megabytes\", row=1, col=2)\n",
    "# fig.update_xaxes(title_text=\"File size in megabytes\", row=2, col=1)\n",
    "# fig.update_xaxes(title_text=\"File size in megabytes\", row=2, col=2)\n",
    "# fig.update_xaxes(title_text=\"File size in megabytes\", row=3, col=1)\n",
    "# fig.update_xaxes(title_text=\"File size in megabytes\", row=3, col=2)\n",
    "# Update yaxis properties\n",
    "# fig.update_yaxes(title_text=\"Time (seconds) <br> Log scale\", row=1, col=1)\n",
    "fig.update_yaxes(title_text=\"Time (seconds)\", row=1, col=1)\n",
    "# fig.update_yaxes(title_text=\"Time (seconds)\", row=1, col=2)\n",
    "# fig.update_yaxes(title_text=\"Time (seconds)\", row=1, col=3)\n",
    "fig.update_yaxes(title_text=\"Time (seconds)\", row=2, col=1)\n",
    "fig.update_yaxes(title_text=\"Time (seconds)\", row=3, col=1)\n",
    "# fig.update_yaxes(title_text=\"Time (seconds)\", row=2, col=2)\n",
    "# fig.update_yaxes(title_text=\"Time (seconds)\", row=2, col=3)\n",
    "# fig['layout']['yaxis1'].update(range=[0, 1.5], constrain=\"domain\", dtick=0.25, autorange=False)\n",
    "fig['layout']['yaxis1'].update(dtick=1, type=\"log\")\n",
    "fig['layout']['yaxis2'].update(dtick=1, type=\"log\")\n",
    "fig['layout']['yaxis3'].update( dtick=2, autorange=True)\n",
    "fig['layout']['yaxis4'].update( dtick=2, autorange=True)\n",
    "fig['layout']['yaxis5'].update( dtick=10, autorange=True)\n",
    "fig['layout']['yaxis6'].update( dtick=20, autorange=True)\n",
    "\n",
    "fig['layout']['xaxis1'].update(tickangle=45)\n",
    "fig['layout']['xaxis2'].update(tickangle=45)\n",
    "fig['layout']['xaxis3'].update(tickangle=45)\n",
    "fig['layout']['xaxis4'].update(tickangle=45)\n",
    "fig['layout']['xaxis5'].update(tickangle=45)\n",
    "fig['layout']['xaxis6'].update(tickangle=45)\n",
    "\n",
    "\n",
    "# fig['layout']['xaxis6'].update(tick0=2, dtick=1,\n",
    "#     ticktext=[\"Plain rsync\", \"Plain scp\", \"Plain nc\", \"IPsec rsync\", \"IPsec scp\", \"IPsec nc\", \"Nebula rsync\", \"Nebula scp\", \"Nebula nc\"],\n",
    "#                                   tickvals=[\"1000M\",\"1000M\",\"1000M\",\"1000M\",\"1000M\",\"1000M\",\"1000M\",\"1000M\",\"1000M\"],\n",
    "#                               )\n",
    "\n",
    "# fig.update_yaxes(type=\"log\")\n",
    "# fig.update_xaxes(tickangle=45, tickfont=dict(family='Rockwell', color='crimson', size=14))\n",
    "\n",
    "# fig.update_layout(\n",
    "#      legend_title_text='Method'  )\n",
    "\n",
    "fig.update_layout(legend=dict(    \n",
    "    orientation=\"h\",\n",
    "    yanchor=\"bottom\",\n",
    "    y=1.05,\n",
    "    xanchor=\"right\",\n",
    "    x=1\n",
    "))\n",
    "\n",
    "fig.show()"
   ]
  },
  {
   "cell_type": "code",
   "execution_count": 35,
   "metadata": {},
   "outputs": [],
   "source": [
    "# fig.write_image(\"nebula_vs_ipsec_netcat_multiplot_test.png\", width=1000, scale=1.5)\n",
    "fig.write_image(\"nebula_vs_ipsec_vs_plain_vs_rsync2.png\", width=740, height=900, scale=1.2)"
   ]
  },
  {
   "cell_type": "code",
   "execution_count": null,
   "metadata": {},
   "outputs": [],
   "source": []
  }
 ],
 "metadata": {
  "kernelspec": {
   "display_name": "Python 3",
   "language": "python",
   "name": "python3"
  },
  "language_info": {
   "codemirror_mode": {
    "name": "ipython",
    "version": 3
   },
   "file_extension": ".py",
   "mimetype": "text/x-python",
   "name": "python",
   "nbconvert_exporter": "python",
   "pygments_lexer": "ipython3",
   "version": "3.8.3"
  }
 },
 "nbformat": 4,
 "nbformat_minor": 4
}
