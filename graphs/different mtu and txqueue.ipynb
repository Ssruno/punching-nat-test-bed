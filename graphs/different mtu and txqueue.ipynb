{
 "cells": [
  {
   "cell_type": "code",
   "execution_count": 1,
   "metadata": {},
   "outputs": [],
   "source": [
    "from plotly.subplots import make_subplots\n",
    "import pandas as pd\n",
    "import plotly.graph_objects as go\n",
    "import plotly"
   ]
  },
  {
   "cell_type": "code",
   "execution_count": 2,
   "metadata": {},
   "outputs": [],
   "source": [
    "cols = plotly.colors.DEFAULT_PLOTLY_COLORS\n"
   ]
  },
  {
   "cell_type": "code",
   "execution_count": 3,
   "metadata": {},
   "outputs": [],
   "source": [
    "small_filter=['1M','10M','50M']\n",
    "big_filter=['100M','500M','1000M']\n",
    "#print(small_filter)"
   ]
  },
  {
   "cell_type": "code",
   "execution_count": 25,
   "metadata": {},
   "outputs": [],
   "source": [
    "i_df = pd.read_csv('../benchmark-ipsec/experiments/03_ipsec_delay/results/03_ipsec_delay_results.csv', sep=';')\n",
    "n_df = pd.read_csv('../benchmark-nebula/experiments/01_nebula_delay/results/01_nebula_delay_results.csv')\n",
    "m_df = pd.read_csv('../benchmark-ipsec/experiments/03_ipsec_delay/results/03_ipsec_delay_MTU_results_real.csv', sep=';')\n",
    "\n",
    "#n_df.head()"
   ]
  },
  {
   "cell_type": "code",
   "execution_count": 26,
   "metadata": {},
   "outputs": [],
   "source": [
    "i_df['size'] = i_df['size'].str.strip()\n",
    "n_df['size'] = n_df['size'].str.strip()\n",
    "m_df['size'] = m_df['size'].str.strip()\n",
    "# i_df['size'].unique()"
   ]
  },
  {
   "cell_type": "code",
   "execution_count": 27,
   "metadata": {},
   "outputs": [],
   "source": [
    "ipsec_small_df =i_df[i_df['size'].isin(small_filter)]\n",
    "ipsec_big_df   =i_df[i_df['size'].isin(big_filter)]\n",
    "nebula_small_df=n_df[n_df['size'].isin(small_filter)]\n",
    "nebula_big_df  =n_df[n_df['size'].isin(big_filter)]\n",
    "\n",
    "ipmtu_small_df =m_df[m_df['size'].isin(small_filter)]\n",
    "ipmtu_big_df   =m_df[m_df['size'].isin(big_filter)]\n",
    "#nebula_small_df.head()"
   ]
  },
  {
   "cell_type": "code",
   "execution_count": 28,
   "metadata": {},
   "outputs": [],
   "source": [
    "# IPsec small segment\n",
    "ipsec_small_mean_df = ipsec_small_df[['seconds', 'filename', 'size']].groupby(['size', 'filename']).agg({'seconds': 'mean'}).reset_index().sort_values('filename', ascending=True)\n",
    "ipsec_small_std_df  = ipsec_small_df[['seconds', 'filename', 'size']].groupby(['size', 'filename']).agg({'seconds': 'std'}).reset_index().sort_values('filename', ascending=True)\n",
    "\n",
    "# IPsec big segment\n",
    "ipsec_big_mean_df = ipsec_big_df[['seconds', 'filename', 'size']].groupby(['size', 'filename']).agg({'seconds': 'mean'}).reset_index().sort_values('filename', ascending=True)\n",
    "ipsec_big_std_df  = ipsec_big_df[['seconds', 'filename', 'size']].groupby(['size', 'filename']).agg({'seconds': 'std'}).reset_index().sort_values('filename', ascending=True)\n"
   ]
  },
  {
   "cell_type": "code",
   "execution_count": 29,
   "metadata": {},
   "outputs": [],
   "source": [
    "# Nebula small segment\n",
    "nebula_small_mean_df = nebula_small_df[['seconds', 'filename', 'size']].groupby(['size', 'filename']).agg({'seconds': 'mean'}).reset_index().sort_values('filename', ascending=True)\n",
    "nebula_small_std_df  = nebula_small_df[['seconds', 'filename', 'size']].groupby(['size', 'filename']).agg({'seconds': 'std'}).reset_index().sort_values('filename', ascending=True)\n",
    "\n",
    "# Nebula big segment\n",
    "nebula_big_mean_df = nebula_big_df[['seconds', 'filename', 'size']].groupby(['size', 'filename']).agg({'seconds': 'mean'}).reset_index().sort_values('filename', ascending=True)\n",
    "nebula_big_std_df  = nebula_big_df[['seconds', 'filename', 'size']].groupby(['size', 'filename']).agg({'seconds': 'std'}).reset_index().sort_values('filename', ascending=True)\n"
   ]
  },
  {
   "cell_type": "code",
   "execution_count": 30,
   "metadata": {},
   "outputs": [],
   "source": [
    "# IPsec MTU small segment\n",
    "ipmtu_small_mean_df = ipmtu_small_df[['seconds', 'filename', 'size']].groupby(['size', 'filename']).agg({'seconds': 'mean'}).reset_index().sort_values('filename', ascending=True)\n",
    "ipmtu_small_std_df  = ipmtu_small_df[['seconds', 'filename', 'size']].groupby(['size', 'filename']).agg({'seconds': 'std'}).reset_index().sort_values('filename', ascending=True)\n",
    "\n",
    "# IPsec MTU big segment\n",
    "ipmtu_big_mean_df = ipmtu_big_df[['seconds', 'filename', 'size']].groupby(['size', 'filename']).agg({'seconds': 'mean'}).reset_index().sort_values('filename', ascending=True)\n",
    "ipmtu_big_std_df  = ipmtu_big_df[['seconds', 'filename', 'size']].groupby(['size', 'filename']).agg({'seconds': 'std'}).reset_index().sort_values('filename', ascending=True)\n"
   ]
  },
  {
   "cell_type": "code",
   "execution_count": 31,
   "metadata": {},
   "outputs": [
    {
     "data": {
      "application/vnd.plotly.v1+json": {
       "config": {
        "plotlyServerURL": "https://plot.ly"
       },
       "data": [
        {
         "error_y": {
          "array": [
           0.09463845297557014,
           0.32259169595457743,
           0.21933258218786228
          ],
          "color": "rgb(31, 119, 180)",
          "thickness": 1.5,
          "type": "data",
          "visible": true
         },
         "line": {
          "color": "rgb(31, 119, 180)",
          "width": 1.5
         },
         "marker": {
          "color": "rgb(31, 119, 180)"
         },
         "name": "IPsec",
         "type": "scatter",
         "x": [
          "1M",
          "10M",
          "50M"
         ],
         "xaxis": "x",
         "y": [
          1.2076666666666667,
          1.8963333333333332,
          4.999666666666667
         ],
         "yaxis": "y"
        },
        {
         "error_y": {
          "array": [
           0.03964787539059951,
           0.07679274989725007,
           0.23764771570879703
          ],
          "color": "rgb(214, 39, 40)",
          "thickness": 1.5,
          "type": "data",
          "visible": true
         },
         "line": {
          "color": "rgb(214, 39, 40)",
          "width": 1.5
         },
         "marker": {
          "color": "rgb(214, 39, 40)"
         },
         "name": "Nebula",
         "type": "scatter",
         "x": [
          "1M",
          "10M",
          "50M"
         ],
         "xaxis": "x",
         "y": [
          0.4873333333333332,
          1.3883333333333332,
          5.298333333333334
         ],
         "yaxis": "y"
        },
        {
         "error_y": {
          "array": [
           0.17361636926903212,
           0.18255183486832766,
           0.18289781079991713
          ],
          "color": "rgb(44, 160, 44)",
          "thickness": 1.5,
          "type": "data",
          "visible": true
         },
         "line": {
          "color": "rgb(44, 160, 44)",
          "width": 1.5
         },
         "marker": {
          "color": "rgb(44, 160, 44)"
         },
         "name": "IPsec MTU",
         "type": "scatter",
         "x": [
          "1M",
          "10M",
          "50M"
         ],
         "xaxis": "x",
         "y": [
          1.5843333333333331,
          2.5469999999999997,
          6.323666666666668
         ],
         "yaxis": "y"
        },
        {
         "error_y": {
          "array": [
           0.43901404685195844,
           3.0954688612978107,
           4.871431626529722
          ],
          "color": "rgb(31, 119, 180)",
          "thickness": 1.5,
          "type": "data",
          "visible": true
         },
         "line": {
          "color": "rgb(31, 119, 180)",
          "width": 1.5
         },
         "marker": {
          "color": "rgb(31, 119, 180)"
         },
         "name": "IPsec",
         "showlegend": false,
         "type": "scatter",
         "x": [
          "100M",
          "500M",
          "1000M"
         ],
         "xaxis": "x2",
         "y": [
          8.503333333333334,
          36.083666666666666,
          70.95766666666668
         ],
         "yaxis": "y2"
        },
        {
         "error_y": {
          "array": [
           2.5536550321036917,
           3.715408255595488,
           6.480996269376969
          ],
          "color": "rgb(214, 39, 40)",
          "thickness": 1.5,
          "type": "data",
          "visible": true
         },
         "line": {
          "color": "rgb(214, 39, 40)",
          "width": 1.5
         },
         "marker": {
          "color": "rgb(214, 39, 40)"
         },
         "name": "Nebula",
         "showlegend": false,
         "type": "scatter",
         "x": [
          "100M",
          "500M",
          "1000M"
         ],
         "xaxis": "x2",
         "y": [
          11.123333333333333,
          53.10966666666666,
          110.15333333333334
         ],
         "yaxis": "y2"
        },
        {
         "error_y": {
          "array": [
           0.3526777696359698,
           1.9829370994133615,
           2.362323422824016
          ],
          "color": "rgb(44, 160, 44)",
          "thickness": 1.5,
          "type": "data",
          "visible": true
         },
         "line": {
          "color": "rgb(44, 160, 44)",
          "width": 1.5
         },
         "marker": {
          "color": "rgb(44, 160, 44)"
         },
         "name": "IPsec",
         "showlegend": false,
         "type": "scatter",
         "x": [
          "100M",
          "500M",
          "1000M"
         ],
         "xaxis": "x2",
         "y": [
          11.363333333333337,
          47.75533333333335,
          93.41933333333331
         ],
         "yaxis": "y2"
        }
       ],
       "layout": {
        "annotations": [
         {
          "font": {
           "size": 16
          },
          "showarrow": false,
          "text": "Files from 1M to 50M",
          "x": 0.225,
          "xanchor": "center",
          "xref": "paper",
          "y": 1,
          "yanchor": "bottom",
          "yref": "paper"
         },
         {
          "font": {
           "size": 16
          },
          "showarrow": false,
          "text": "Files from 100M to 1000M",
          "x": 0.775,
          "xanchor": "center",
          "xref": "paper",
          "y": 1,
          "yanchor": "bottom",
          "yref": "paper"
         }
        ],
        "legend": {
         "title": {
          "text": "Trend"
         }
        },
        "template": {
         "data": {
          "bar": [
           {
            "error_x": {
             "color": "#2a3f5f"
            },
            "error_y": {
             "color": "#2a3f5f"
            },
            "marker": {
             "line": {
              "color": "#E5ECF6",
              "width": 0.5
             }
            },
            "type": "bar"
           }
          ],
          "barpolar": [
           {
            "marker": {
             "line": {
              "color": "#E5ECF6",
              "width": 0.5
             }
            },
            "type": "barpolar"
           }
          ],
          "carpet": [
           {
            "aaxis": {
             "endlinecolor": "#2a3f5f",
             "gridcolor": "white",
             "linecolor": "white",
             "minorgridcolor": "white",
             "startlinecolor": "#2a3f5f"
            },
            "baxis": {
             "endlinecolor": "#2a3f5f",
             "gridcolor": "white",
             "linecolor": "white",
             "minorgridcolor": "white",
             "startlinecolor": "#2a3f5f"
            },
            "type": "carpet"
           }
          ],
          "choropleth": [
           {
            "colorbar": {
             "outlinewidth": 0,
             "ticks": ""
            },
            "type": "choropleth"
           }
          ],
          "contour": [
           {
            "colorbar": {
             "outlinewidth": 0,
             "ticks": ""
            },
            "colorscale": [
             [
              0,
              "#0d0887"
             ],
             [
              0.1111111111111111,
              "#46039f"
             ],
             [
              0.2222222222222222,
              "#7201a8"
             ],
             [
              0.3333333333333333,
              "#9c179e"
             ],
             [
              0.4444444444444444,
              "#bd3786"
             ],
             [
              0.5555555555555556,
              "#d8576b"
             ],
             [
              0.6666666666666666,
              "#ed7953"
             ],
             [
              0.7777777777777778,
              "#fb9f3a"
             ],
             [
              0.8888888888888888,
              "#fdca26"
             ],
             [
              1,
              "#f0f921"
             ]
            ],
            "type": "contour"
           }
          ],
          "contourcarpet": [
           {
            "colorbar": {
             "outlinewidth": 0,
             "ticks": ""
            },
            "type": "contourcarpet"
           }
          ],
          "heatmap": [
           {
            "colorbar": {
             "outlinewidth": 0,
             "ticks": ""
            },
            "colorscale": [
             [
              0,
              "#0d0887"
             ],
             [
              0.1111111111111111,
              "#46039f"
             ],
             [
              0.2222222222222222,
              "#7201a8"
             ],
             [
              0.3333333333333333,
              "#9c179e"
             ],
             [
              0.4444444444444444,
              "#bd3786"
             ],
             [
              0.5555555555555556,
              "#d8576b"
             ],
             [
              0.6666666666666666,
              "#ed7953"
             ],
             [
              0.7777777777777778,
              "#fb9f3a"
             ],
             [
              0.8888888888888888,
              "#fdca26"
             ],
             [
              1,
              "#f0f921"
             ]
            ],
            "type": "heatmap"
           }
          ],
          "heatmapgl": [
           {
            "colorbar": {
             "outlinewidth": 0,
             "ticks": ""
            },
            "colorscale": [
             [
              0,
              "#0d0887"
             ],
             [
              0.1111111111111111,
              "#46039f"
             ],
             [
              0.2222222222222222,
              "#7201a8"
             ],
             [
              0.3333333333333333,
              "#9c179e"
             ],
             [
              0.4444444444444444,
              "#bd3786"
             ],
             [
              0.5555555555555556,
              "#d8576b"
             ],
             [
              0.6666666666666666,
              "#ed7953"
             ],
             [
              0.7777777777777778,
              "#fb9f3a"
             ],
             [
              0.8888888888888888,
              "#fdca26"
             ],
             [
              1,
              "#f0f921"
             ]
            ],
            "type": "heatmapgl"
           }
          ],
          "histogram": [
           {
            "marker": {
             "colorbar": {
              "outlinewidth": 0,
              "ticks": ""
             }
            },
            "type": "histogram"
           }
          ],
          "histogram2d": [
           {
            "colorbar": {
             "outlinewidth": 0,
             "ticks": ""
            },
            "colorscale": [
             [
              0,
              "#0d0887"
             ],
             [
              0.1111111111111111,
              "#46039f"
             ],
             [
              0.2222222222222222,
              "#7201a8"
             ],
             [
              0.3333333333333333,
              "#9c179e"
             ],
             [
              0.4444444444444444,
              "#bd3786"
             ],
             [
              0.5555555555555556,
              "#d8576b"
             ],
             [
              0.6666666666666666,
              "#ed7953"
             ],
             [
              0.7777777777777778,
              "#fb9f3a"
             ],
             [
              0.8888888888888888,
              "#fdca26"
             ],
             [
              1,
              "#f0f921"
             ]
            ],
            "type": "histogram2d"
           }
          ],
          "histogram2dcontour": [
           {
            "colorbar": {
             "outlinewidth": 0,
             "ticks": ""
            },
            "colorscale": [
             [
              0,
              "#0d0887"
             ],
             [
              0.1111111111111111,
              "#46039f"
             ],
             [
              0.2222222222222222,
              "#7201a8"
             ],
             [
              0.3333333333333333,
              "#9c179e"
             ],
             [
              0.4444444444444444,
              "#bd3786"
             ],
             [
              0.5555555555555556,
              "#d8576b"
             ],
             [
              0.6666666666666666,
              "#ed7953"
             ],
             [
              0.7777777777777778,
              "#fb9f3a"
             ],
             [
              0.8888888888888888,
              "#fdca26"
             ],
             [
              1,
              "#f0f921"
             ]
            ],
            "type": "histogram2dcontour"
           }
          ],
          "mesh3d": [
           {
            "colorbar": {
             "outlinewidth": 0,
             "ticks": ""
            },
            "type": "mesh3d"
           }
          ],
          "parcoords": [
           {
            "line": {
             "colorbar": {
              "outlinewidth": 0,
              "ticks": ""
             }
            },
            "type": "parcoords"
           }
          ],
          "pie": [
           {
            "automargin": true,
            "type": "pie"
           }
          ],
          "scatter": [
           {
            "marker": {
             "colorbar": {
              "outlinewidth": 0,
              "ticks": ""
             }
            },
            "type": "scatter"
           }
          ],
          "scatter3d": [
           {
            "line": {
             "colorbar": {
              "outlinewidth": 0,
              "ticks": ""
             }
            },
            "marker": {
             "colorbar": {
              "outlinewidth": 0,
              "ticks": ""
             }
            },
            "type": "scatter3d"
           }
          ],
          "scattercarpet": [
           {
            "marker": {
             "colorbar": {
              "outlinewidth": 0,
              "ticks": ""
             }
            },
            "type": "scattercarpet"
           }
          ],
          "scattergeo": [
           {
            "marker": {
             "colorbar": {
              "outlinewidth": 0,
              "ticks": ""
             }
            },
            "type": "scattergeo"
           }
          ],
          "scattergl": [
           {
            "marker": {
             "colorbar": {
              "outlinewidth": 0,
              "ticks": ""
             }
            },
            "type": "scattergl"
           }
          ],
          "scattermapbox": [
           {
            "marker": {
             "colorbar": {
              "outlinewidth": 0,
              "ticks": ""
             }
            },
            "type": "scattermapbox"
           }
          ],
          "scatterpolar": [
           {
            "marker": {
             "colorbar": {
              "outlinewidth": 0,
              "ticks": ""
             }
            },
            "type": "scatterpolar"
           }
          ],
          "scatterpolargl": [
           {
            "marker": {
             "colorbar": {
              "outlinewidth": 0,
              "ticks": ""
             }
            },
            "type": "scatterpolargl"
           }
          ],
          "scatterternary": [
           {
            "marker": {
             "colorbar": {
              "outlinewidth": 0,
              "ticks": ""
             }
            },
            "type": "scatterternary"
           }
          ],
          "surface": [
           {
            "colorbar": {
             "outlinewidth": 0,
             "ticks": ""
            },
            "colorscale": [
             [
              0,
              "#0d0887"
             ],
             [
              0.1111111111111111,
              "#46039f"
             ],
             [
              0.2222222222222222,
              "#7201a8"
             ],
             [
              0.3333333333333333,
              "#9c179e"
             ],
             [
              0.4444444444444444,
              "#bd3786"
             ],
             [
              0.5555555555555556,
              "#d8576b"
             ],
             [
              0.6666666666666666,
              "#ed7953"
             ],
             [
              0.7777777777777778,
              "#fb9f3a"
             ],
             [
              0.8888888888888888,
              "#fdca26"
             ],
             [
              1,
              "#f0f921"
             ]
            ],
            "type": "surface"
           }
          ],
          "table": [
           {
            "cells": {
             "fill": {
              "color": "#EBF0F8"
             },
             "line": {
              "color": "white"
             }
            },
            "header": {
             "fill": {
              "color": "#C8D4E3"
             },
             "line": {
              "color": "white"
             }
            },
            "type": "table"
           }
          ]
         },
         "layout": {
          "annotationdefaults": {
           "arrowcolor": "#2a3f5f",
           "arrowhead": 0,
           "arrowwidth": 1
          },
          "coloraxis": {
           "colorbar": {
            "outlinewidth": 0,
            "ticks": ""
           }
          },
          "colorscale": {
           "diverging": [
            [
             0,
             "#8e0152"
            ],
            [
             0.1,
             "#c51b7d"
            ],
            [
             0.2,
             "#de77ae"
            ],
            [
             0.3,
             "#f1b6da"
            ],
            [
             0.4,
             "#fde0ef"
            ],
            [
             0.5,
             "#f7f7f7"
            ],
            [
             0.6,
             "#e6f5d0"
            ],
            [
             0.7,
             "#b8e186"
            ],
            [
             0.8,
             "#7fbc41"
            ],
            [
             0.9,
             "#4d9221"
            ],
            [
             1,
             "#276419"
            ]
           ],
           "sequential": [
            [
             0,
             "#0d0887"
            ],
            [
             0.1111111111111111,
             "#46039f"
            ],
            [
             0.2222222222222222,
             "#7201a8"
            ],
            [
             0.3333333333333333,
             "#9c179e"
            ],
            [
             0.4444444444444444,
             "#bd3786"
            ],
            [
             0.5555555555555556,
             "#d8576b"
            ],
            [
             0.6666666666666666,
             "#ed7953"
            ],
            [
             0.7777777777777778,
             "#fb9f3a"
            ],
            [
             0.8888888888888888,
             "#fdca26"
            ],
            [
             1,
             "#f0f921"
            ]
           ],
           "sequentialminus": [
            [
             0,
             "#0d0887"
            ],
            [
             0.1111111111111111,
             "#46039f"
            ],
            [
             0.2222222222222222,
             "#7201a8"
            ],
            [
             0.3333333333333333,
             "#9c179e"
            ],
            [
             0.4444444444444444,
             "#bd3786"
            ],
            [
             0.5555555555555556,
             "#d8576b"
            ],
            [
             0.6666666666666666,
             "#ed7953"
            ],
            [
             0.7777777777777778,
             "#fb9f3a"
            ],
            [
             0.8888888888888888,
             "#fdca26"
            ],
            [
             1,
             "#f0f921"
            ]
           ]
          },
          "colorway": [
           "#636efa",
           "#EF553B",
           "#00cc96",
           "#ab63fa",
           "#FFA15A",
           "#19d3f3",
           "#FF6692",
           "#B6E880",
           "#FF97FF",
           "#FECB52"
          ],
          "font": {
           "color": "#2a3f5f"
          },
          "geo": {
           "bgcolor": "white",
           "lakecolor": "white",
           "landcolor": "#E5ECF6",
           "showlakes": true,
           "showland": true,
           "subunitcolor": "white"
          },
          "hoverlabel": {
           "align": "left"
          },
          "hovermode": "closest",
          "mapbox": {
           "style": "light"
          },
          "paper_bgcolor": "white",
          "plot_bgcolor": "#E5ECF6",
          "polar": {
           "angularaxis": {
            "gridcolor": "white",
            "linecolor": "white",
            "ticks": ""
           },
           "bgcolor": "#E5ECF6",
           "radialaxis": {
            "gridcolor": "white",
            "linecolor": "white",
            "ticks": ""
           }
          },
          "scene": {
           "xaxis": {
            "backgroundcolor": "#E5ECF6",
            "gridcolor": "white",
            "gridwidth": 2,
            "linecolor": "white",
            "showbackground": true,
            "ticks": "",
            "zerolinecolor": "white"
           },
           "yaxis": {
            "backgroundcolor": "#E5ECF6",
            "gridcolor": "white",
            "gridwidth": 2,
            "linecolor": "white",
            "showbackground": true,
            "ticks": "",
            "zerolinecolor": "white"
           },
           "zaxis": {
            "backgroundcolor": "#E5ECF6",
            "gridcolor": "white",
            "gridwidth": 2,
            "linecolor": "white",
            "showbackground": true,
            "ticks": "",
            "zerolinecolor": "white"
           }
          },
          "shapedefaults": {
           "line": {
            "color": "#2a3f5f"
           }
          },
          "ternary": {
           "aaxis": {
            "gridcolor": "white",
            "linecolor": "white",
            "ticks": ""
           },
           "baxis": {
            "gridcolor": "white",
            "linecolor": "white",
            "ticks": ""
           },
           "bgcolor": "#E5ECF6",
           "caxis": {
            "gridcolor": "white",
            "linecolor": "white",
            "ticks": ""
           }
          },
          "title": {
           "x": 0.05
          },
          "xaxis": {
           "automargin": true,
           "gridcolor": "white",
           "linecolor": "white",
           "ticks": "",
           "title": {
            "standoff": 15
           },
           "zerolinecolor": "white",
           "zerolinewidth": 2
          },
          "yaxis": {
           "automargin": true,
           "gridcolor": "white",
           "linecolor": "white",
           "ticks": "",
           "title": {
            "standoff": 15
           },
           "zerolinecolor": "white",
           "zerolinewidth": 2
          }
         }
        },
        "xaxis": {
         "anchor": "y",
         "domain": [
          0,
          0.45
         ],
         "title": {
          "text": "File size in megabytes"
         }
        },
        "xaxis2": {
         "anchor": "y2",
         "domain": [
          0.55,
          1
         ],
         "title": {
          "text": "File size in megabytes"
         }
        },
        "yaxis": {
         "anchor": "x",
         "domain": [
          0,
          1
         ],
         "title": {
          "text": "Time (seconds)"
         }
        },
        "yaxis2": {
         "anchor": "x2",
         "domain": [
          0,
          1
         ],
         "title": {
          "text": "Time (seconds)"
         }
        }
       }
      },
      "text/html": [
       "<div>\n",
       "        \n",
       "        \n",
       "            <div id=\"f5334858-7bba-4173-be24-557267fad1d7\" class=\"plotly-graph-div\" style=\"height:525px; width:100%;\"></div>\n",
       "            <script type=\"text/javascript\">\n",
       "                require([\"plotly\"], function(Plotly) {\n",
       "                    window.PLOTLYENV=window.PLOTLYENV || {};\n",
       "                    \n",
       "                if (document.getElementById(\"f5334858-7bba-4173-be24-557267fad1d7\")) {\n",
       "                    Plotly.newPlot(\n",
       "                        'f5334858-7bba-4173-be24-557267fad1d7',\n",
       "                        [{\"error_y\": {\"array\": [0.09463845297557014, 0.32259169595457743, 0.21933258218786228], \"color\": \"rgb(31, 119, 180)\", \"thickness\": 1.5, \"type\": \"data\", \"visible\": true}, \"line\": {\"color\": \"rgb(31, 119, 180)\", \"width\": 1.5}, \"marker\": {\"color\": \"rgb(31, 119, 180)\"}, \"name\": \"IPsec\", \"type\": \"scatter\", \"x\": [\"1M\", \"10M\", \"50M\"], \"xaxis\": \"x\", \"y\": [1.2076666666666667, 1.8963333333333332, 4.999666666666667], \"yaxis\": \"y\"}, {\"error_y\": {\"array\": [0.03964787539059951, 0.07679274989725007, 0.23764771570879703], \"color\": \"rgb(214, 39, 40)\", \"thickness\": 1.5, \"type\": \"data\", \"visible\": true}, \"line\": {\"color\": \"rgb(214, 39, 40)\", \"width\": 1.5}, \"marker\": {\"color\": \"rgb(214, 39, 40)\"}, \"name\": \"Nebula\", \"type\": \"scatter\", \"x\": [\"1M\", \"10M\", \"50M\"], \"xaxis\": \"x\", \"y\": [0.4873333333333332, 1.3883333333333332, 5.298333333333334], \"yaxis\": \"y\"}, {\"error_y\": {\"array\": [0.17361636926903212, 0.18255183486832766, 0.18289781079991713], \"color\": \"rgb(44, 160, 44)\", \"thickness\": 1.5, \"type\": \"data\", \"visible\": true}, \"line\": {\"color\": \"rgb(44, 160, 44)\", \"width\": 1.5}, \"marker\": {\"color\": \"rgb(44, 160, 44)\"}, \"name\": \"IPsec MTU\", \"type\": \"scatter\", \"x\": [\"1M\", \"10M\", \"50M\"], \"xaxis\": \"x\", \"y\": [1.5843333333333331, 2.5469999999999997, 6.323666666666668], \"yaxis\": \"y\"}, {\"error_y\": {\"array\": [0.43901404685195844, 3.0954688612978107, 4.871431626529722], \"color\": \"rgb(31, 119, 180)\", \"thickness\": 1.5, \"type\": \"data\", \"visible\": true}, \"line\": {\"color\": \"rgb(31, 119, 180)\", \"width\": 1.5}, \"marker\": {\"color\": \"rgb(31, 119, 180)\"}, \"name\": \"IPsec\", \"showlegend\": false, \"type\": \"scatter\", \"x\": [\"100M\", \"500M\", \"1000M\"], \"xaxis\": \"x2\", \"y\": [8.503333333333334, 36.083666666666666, 70.95766666666668], \"yaxis\": \"y2\"}, {\"error_y\": {\"array\": [2.5536550321036917, 3.715408255595488, 6.480996269376969], \"color\": \"rgb(214, 39, 40)\", \"thickness\": 1.5, \"type\": \"data\", \"visible\": true}, \"line\": {\"color\": \"rgb(214, 39, 40)\", \"width\": 1.5}, \"marker\": {\"color\": \"rgb(214, 39, 40)\"}, \"name\": \"Nebula\", \"showlegend\": false, \"type\": \"scatter\", \"x\": [\"100M\", \"500M\", \"1000M\"], \"xaxis\": \"x2\", \"y\": [11.123333333333333, 53.10966666666666, 110.15333333333334], \"yaxis\": \"y2\"}, {\"error_y\": {\"array\": [0.3526777696359698, 1.9829370994133615, 2.362323422824016], \"color\": \"rgb(44, 160, 44)\", \"thickness\": 1.5, \"type\": \"data\", \"visible\": true}, \"line\": {\"color\": \"rgb(44, 160, 44)\", \"width\": 1.5}, \"marker\": {\"color\": \"rgb(44, 160, 44)\"}, \"name\": \"IPsec\", \"showlegend\": false, \"type\": \"scatter\", \"x\": [\"100M\", \"500M\", \"1000M\"], \"xaxis\": \"x2\", \"y\": [11.363333333333337, 47.75533333333335, 93.41933333333331], \"yaxis\": \"y2\"}],\n",
       "                        {\"annotations\": [{\"font\": {\"size\": 16}, \"showarrow\": false, \"text\": \"Files from 1M to 50M\", \"x\": 0.225, \"xanchor\": \"center\", \"xref\": \"paper\", \"y\": 1.0, \"yanchor\": \"bottom\", \"yref\": \"paper\"}, {\"font\": {\"size\": 16}, \"showarrow\": false, \"text\": \"Files from 100M to 1000M\", \"x\": 0.775, \"xanchor\": \"center\", \"xref\": \"paper\", \"y\": 1.0, \"yanchor\": \"bottom\", \"yref\": \"paper\"}], \"legend\": {\"title\": {\"text\": \"Trend\"}}, \"template\": {\"data\": {\"bar\": [{\"error_x\": {\"color\": \"#2a3f5f\"}, \"error_y\": {\"color\": \"#2a3f5f\"}, \"marker\": {\"line\": {\"color\": \"#E5ECF6\", \"width\": 0.5}}, \"type\": \"bar\"}], \"barpolar\": [{\"marker\": {\"line\": {\"color\": \"#E5ECF6\", \"width\": 0.5}}, \"type\": \"barpolar\"}], \"carpet\": [{\"aaxis\": {\"endlinecolor\": \"#2a3f5f\", \"gridcolor\": \"white\", \"linecolor\": \"white\", \"minorgridcolor\": \"white\", \"startlinecolor\": \"#2a3f5f\"}, \"baxis\": {\"endlinecolor\": \"#2a3f5f\", \"gridcolor\": \"white\", \"linecolor\": \"white\", \"minorgridcolor\": \"white\", \"startlinecolor\": \"#2a3f5f\"}, \"type\": \"carpet\"}], \"choropleth\": [{\"colorbar\": {\"outlinewidth\": 0, \"ticks\": \"\"}, \"type\": \"choropleth\"}], \"contour\": [{\"colorbar\": {\"outlinewidth\": 0, \"ticks\": \"\"}, \"colorscale\": [[0.0, \"#0d0887\"], [0.1111111111111111, \"#46039f\"], [0.2222222222222222, \"#7201a8\"], [0.3333333333333333, \"#9c179e\"], [0.4444444444444444, \"#bd3786\"], [0.5555555555555556, \"#d8576b\"], [0.6666666666666666, \"#ed7953\"], [0.7777777777777778, \"#fb9f3a\"], [0.8888888888888888, \"#fdca26\"], [1.0, \"#f0f921\"]], \"type\": \"contour\"}], \"contourcarpet\": [{\"colorbar\": {\"outlinewidth\": 0, \"ticks\": \"\"}, \"type\": \"contourcarpet\"}], \"heatmap\": [{\"colorbar\": {\"outlinewidth\": 0, \"ticks\": \"\"}, \"colorscale\": [[0.0, \"#0d0887\"], [0.1111111111111111, \"#46039f\"], [0.2222222222222222, \"#7201a8\"], [0.3333333333333333, \"#9c179e\"], [0.4444444444444444, \"#bd3786\"], [0.5555555555555556, \"#d8576b\"], [0.6666666666666666, \"#ed7953\"], [0.7777777777777778, \"#fb9f3a\"], [0.8888888888888888, \"#fdca26\"], [1.0, \"#f0f921\"]], \"type\": \"heatmap\"}], \"heatmapgl\": [{\"colorbar\": {\"outlinewidth\": 0, \"ticks\": \"\"}, \"colorscale\": [[0.0, \"#0d0887\"], [0.1111111111111111, \"#46039f\"], [0.2222222222222222, \"#7201a8\"], [0.3333333333333333, \"#9c179e\"], [0.4444444444444444, \"#bd3786\"], [0.5555555555555556, \"#d8576b\"], [0.6666666666666666, \"#ed7953\"], [0.7777777777777778, \"#fb9f3a\"], [0.8888888888888888, \"#fdca26\"], [1.0, \"#f0f921\"]], \"type\": \"heatmapgl\"}], \"histogram\": [{\"marker\": {\"colorbar\": {\"outlinewidth\": 0, \"ticks\": \"\"}}, \"type\": \"histogram\"}], \"histogram2d\": [{\"colorbar\": {\"outlinewidth\": 0, \"ticks\": \"\"}, \"colorscale\": [[0.0, \"#0d0887\"], [0.1111111111111111, \"#46039f\"], [0.2222222222222222, \"#7201a8\"], [0.3333333333333333, \"#9c179e\"], [0.4444444444444444, \"#bd3786\"], [0.5555555555555556, \"#d8576b\"], [0.6666666666666666, \"#ed7953\"], [0.7777777777777778, \"#fb9f3a\"], [0.8888888888888888, \"#fdca26\"], [1.0, \"#f0f921\"]], \"type\": \"histogram2d\"}], \"histogram2dcontour\": [{\"colorbar\": {\"outlinewidth\": 0, \"ticks\": \"\"}, \"colorscale\": [[0.0, \"#0d0887\"], [0.1111111111111111, \"#46039f\"], [0.2222222222222222, \"#7201a8\"], [0.3333333333333333, \"#9c179e\"], [0.4444444444444444, \"#bd3786\"], [0.5555555555555556, \"#d8576b\"], [0.6666666666666666, \"#ed7953\"], [0.7777777777777778, \"#fb9f3a\"], [0.8888888888888888, \"#fdca26\"], [1.0, \"#f0f921\"]], \"type\": \"histogram2dcontour\"}], \"mesh3d\": [{\"colorbar\": {\"outlinewidth\": 0, \"ticks\": \"\"}, \"type\": \"mesh3d\"}], \"parcoords\": [{\"line\": {\"colorbar\": {\"outlinewidth\": 0, \"ticks\": \"\"}}, \"type\": \"parcoords\"}], \"pie\": [{\"automargin\": true, \"type\": \"pie\"}], \"scatter\": [{\"marker\": {\"colorbar\": {\"outlinewidth\": 0, \"ticks\": \"\"}}, \"type\": \"scatter\"}], \"scatter3d\": [{\"line\": {\"colorbar\": {\"outlinewidth\": 0, \"ticks\": \"\"}}, \"marker\": {\"colorbar\": {\"outlinewidth\": 0, \"ticks\": \"\"}}, \"type\": \"scatter3d\"}], \"scattercarpet\": [{\"marker\": {\"colorbar\": {\"outlinewidth\": 0, \"ticks\": \"\"}}, \"type\": \"scattercarpet\"}], \"scattergeo\": [{\"marker\": {\"colorbar\": {\"outlinewidth\": 0, \"ticks\": \"\"}}, \"type\": \"scattergeo\"}], \"scattergl\": [{\"marker\": {\"colorbar\": {\"outlinewidth\": 0, \"ticks\": \"\"}}, \"type\": \"scattergl\"}], \"scattermapbox\": [{\"marker\": {\"colorbar\": {\"outlinewidth\": 0, \"ticks\": \"\"}}, \"type\": \"scattermapbox\"}], \"scatterpolar\": [{\"marker\": {\"colorbar\": {\"outlinewidth\": 0, \"ticks\": \"\"}}, \"type\": \"scatterpolar\"}], \"scatterpolargl\": [{\"marker\": {\"colorbar\": {\"outlinewidth\": 0, \"ticks\": \"\"}}, \"type\": \"scatterpolargl\"}], \"scatterternary\": [{\"marker\": {\"colorbar\": {\"outlinewidth\": 0, \"ticks\": \"\"}}, \"type\": \"scatterternary\"}], \"surface\": [{\"colorbar\": {\"outlinewidth\": 0, \"ticks\": \"\"}, \"colorscale\": [[0.0, \"#0d0887\"], [0.1111111111111111, \"#46039f\"], [0.2222222222222222, \"#7201a8\"], [0.3333333333333333, \"#9c179e\"], [0.4444444444444444, \"#bd3786\"], [0.5555555555555556, \"#d8576b\"], [0.6666666666666666, \"#ed7953\"], [0.7777777777777778, \"#fb9f3a\"], [0.8888888888888888, \"#fdca26\"], [1.0, \"#f0f921\"]], \"type\": \"surface\"}], \"table\": [{\"cells\": {\"fill\": {\"color\": \"#EBF0F8\"}, \"line\": {\"color\": \"white\"}}, \"header\": {\"fill\": {\"color\": \"#C8D4E3\"}, \"line\": {\"color\": \"white\"}}, \"type\": \"table\"}]}, \"layout\": {\"annotationdefaults\": {\"arrowcolor\": \"#2a3f5f\", \"arrowhead\": 0, \"arrowwidth\": 1}, \"coloraxis\": {\"colorbar\": {\"outlinewidth\": 0, \"ticks\": \"\"}}, \"colorscale\": {\"diverging\": [[0, \"#8e0152\"], [0.1, \"#c51b7d\"], [0.2, \"#de77ae\"], [0.3, \"#f1b6da\"], [0.4, \"#fde0ef\"], [0.5, \"#f7f7f7\"], [0.6, \"#e6f5d0\"], [0.7, \"#b8e186\"], [0.8, \"#7fbc41\"], [0.9, \"#4d9221\"], [1, \"#276419\"]], \"sequential\": [[0.0, \"#0d0887\"], [0.1111111111111111, \"#46039f\"], [0.2222222222222222, \"#7201a8\"], [0.3333333333333333, \"#9c179e\"], [0.4444444444444444, \"#bd3786\"], [0.5555555555555556, \"#d8576b\"], [0.6666666666666666, \"#ed7953\"], [0.7777777777777778, \"#fb9f3a\"], [0.8888888888888888, \"#fdca26\"], [1.0, \"#f0f921\"]], \"sequentialminus\": [[0.0, \"#0d0887\"], [0.1111111111111111, \"#46039f\"], [0.2222222222222222, \"#7201a8\"], [0.3333333333333333, \"#9c179e\"], [0.4444444444444444, \"#bd3786\"], [0.5555555555555556, \"#d8576b\"], [0.6666666666666666, \"#ed7953\"], [0.7777777777777778, \"#fb9f3a\"], [0.8888888888888888, \"#fdca26\"], [1.0, \"#f0f921\"]]}, \"colorway\": [\"#636efa\", \"#EF553B\", \"#00cc96\", \"#ab63fa\", \"#FFA15A\", \"#19d3f3\", \"#FF6692\", \"#B6E880\", \"#FF97FF\", \"#FECB52\"], \"font\": {\"color\": \"#2a3f5f\"}, \"geo\": {\"bgcolor\": \"white\", \"lakecolor\": \"white\", \"landcolor\": \"#E5ECF6\", \"showlakes\": true, \"showland\": true, \"subunitcolor\": \"white\"}, \"hoverlabel\": {\"align\": \"left\"}, \"hovermode\": \"closest\", \"mapbox\": {\"style\": \"light\"}, \"paper_bgcolor\": \"white\", \"plot_bgcolor\": \"#E5ECF6\", \"polar\": {\"angularaxis\": {\"gridcolor\": \"white\", \"linecolor\": \"white\", \"ticks\": \"\"}, \"bgcolor\": \"#E5ECF6\", \"radialaxis\": {\"gridcolor\": \"white\", \"linecolor\": \"white\", \"ticks\": \"\"}}, \"scene\": {\"xaxis\": {\"backgroundcolor\": \"#E5ECF6\", \"gridcolor\": \"white\", \"gridwidth\": 2, \"linecolor\": \"white\", \"showbackground\": true, \"ticks\": \"\", \"zerolinecolor\": \"white\"}, \"yaxis\": {\"backgroundcolor\": \"#E5ECF6\", \"gridcolor\": \"white\", \"gridwidth\": 2, \"linecolor\": \"white\", \"showbackground\": true, \"ticks\": \"\", \"zerolinecolor\": \"white\"}, \"zaxis\": {\"backgroundcolor\": \"#E5ECF6\", \"gridcolor\": \"white\", \"gridwidth\": 2, \"linecolor\": \"white\", \"showbackground\": true, \"ticks\": \"\", \"zerolinecolor\": \"white\"}}, \"shapedefaults\": {\"line\": {\"color\": \"#2a3f5f\"}}, \"ternary\": {\"aaxis\": {\"gridcolor\": \"white\", \"linecolor\": \"white\", \"ticks\": \"\"}, \"baxis\": {\"gridcolor\": \"white\", \"linecolor\": \"white\", \"ticks\": \"\"}, \"bgcolor\": \"#E5ECF6\", \"caxis\": {\"gridcolor\": \"white\", \"linecolor\": \"white\", \"ticks\": \"\"}}, \"title\": {\"x\": 0.05}, \"xaxis\": {\"automargin\": true, \"gridcolor\": \"white\", \"linecolor\": \"white\", \"ticks\": \"\", \"title\": {\"standoff\": 15}, \"zerolinecolor\": \"white\", \"zerolinewidth\": 2}, \"yaxis\": {\"automargin\": true, \"gridcolor\": \"white\", \"linecolor\": \"white\", \"ticks\": \"\", \"title\": {\"standoff\": 15}, \"zerolinecolor\": \"white\", \"zerolinewidth\": 2}}}, \"xaxis\": {\"anchor\": \"y\", \"domain\": [0.0, 0.45], \"title\": {\"text\": \"File size in megabytes\"}}, \"xaxis2\": {\"anchor\": \"y2\", \"domain\": [0.55, 1.0], \"title\": {\"text\": \"File size in megabytes\"}}, \"yaxis\": {\"anchor\": \"x\", \"domain\": [0.0, 1.0], \"title\": {\"text\": \"Time (seconds)\"}}, \"yaxis2\": {\"anchor\": \"x2\", \"domain\": [0.0, 1.0], \"title\": {\"text\": \"Time (seconds)\"}}},\n",
       "                        {\"responsive\": true}\n",
       "                    ).then(function(){\n",
       "                            \n",
       "var gd = document.getElementById('f5334858-7bba-4173-be24-557267fad1d7');\n",
       "var x = new MutationObserver(function (mutations, observer) {{\n",
       "        var display = window.getComputedStyle(gd).display;\n",
       "        if (!display || display === 'none') {{\n",
       "            console.log([gd, 'removed!']);\n",
       "            Plotly.purge(gd);\n",
       "            observer.disconnect();\n",
       "        }}\n",
       "}});\n",
       "\n",
       "// Listen for the removal of the full notebook cells\n",
       "var notebookContainer = gd.closest('#notebook-container');\n",
       "if (notebookContainer) {{\n",
       "    x.observe(notebookContainer, {childList: true});\n",
       "}}\n",
       "\n",
       "// Listen for the clearing of the current output cell\n",
       "var outputEl = gd.closest('.output');\n",
       "if (outputEl) {{\n",
       "    x.observe(outputEl, {childList: true});\n",
       "}}\n",
       "\n",
       "                        })\n",
       "                };\n",
       "                });\n",
       "            </script>\n",
       "        </div>"
      ]
     },
     "metadata": {},
     "output_type": "display_data"
    }
   ],
   "source": [
    "# fig = go.Figure()\n",
    "\n",
    "fig = make_subplots(rows=1, cols=2,\n",
    "                   subplot_titles=(\"Files from 1M to 50M\", \"Files from 100M to 1000M\")\n",
    "#                    x_title=\"File size in megabytes\",\n",
    "#                     y_title=\"Time (seconds)\"\n",
    "                   )\n",
    "\n",
    "# IPsec small\n",
    "fig.add_trace(\n",
    "    go.Scatter(\n",
    "        name='IPsec',\n",
    "        x=ipsec_small_mean_df['size'],\n",
    "        y=ipsec_small_mean_df.seconds,\n",
    "                         line=dict(width=1.5, color=cols[0]), marker=dict(color=cols[0]),\n",
    "        error_y=dict(type='data', array=ipsec_small_std_df.seconds, visible=True, thickness=1.5, color=cols[0])\n",
    "#         showlegend=False\n",
    "    ), row=1, col=1\n",
    ")\n",
    "\n",
    "# Nebula small\n",
    "fig.add_trace(\n",
    "    go.Scatter(\n",
    "        name='Nebula',\n",
    "        x=nebula_small_mean_df['size'],\n",
    "        y=nebula_small_mean_df.seconds,\n",
    "                        line=dict(width=1.5, color=cols[3]), marker=dict(color=cols[3]),\n",
    "        error_y=dict(type='data', array=nebula_small_std_df.seconds, visible=True, thickness=1.5, color=cols[3]),\n",
    "#         showlegend=False\n",
    "    ), row=1, col=1\n",
    ")\n",
    "\n",
    "# MTU IPsec small\n",
    "fig.add_trace(\n",
    "    go.Scatter(\n",
    "        name='IPsec MTU',\n",
    "        x=ipmtu_small_mean_df['size'],\n",
    "        y=ipmtu_small_mean_df.seconds,\n",
    "                         line=dict(width=1.5, color=cols[2]), marker=dict(color=cols[2]),\n",
    "        error_y=dict(type='data', array=ipmtu_small_std_df.seconds, visible=True, thickness=1.5, color=cols[2])\n",
    "#         showlegend=False\n",
    "    ), row=1, col=1\n",
    ")\n",
    "\n",
    "\n",
    "\n",
    "# IPsec big\n",
    "\n",
    "fig.add_trace(\n",
    "    go.Scatter(\n",
    "        name='IPsec',\n",
    "        x=ipsec_big_mean_df['size'],\n",
    "        y=ipsec_big_mean_df.seconds,\n",
    "                         line=dict(width=1.5, color=cols[0]), marker=dict(color=cols[0]),\n",
    "        error_y=dict(type='data', array=ipsec_big_std_df.seconds, visible=True,thickness=1.5, color=cols[0]),\n",
    "         showlegend=False\n",
    "    ), row=1, col=2\n",
    ")\n",
    "\n",
    "# NEbula big\n",
    "\n",
    "fig.add_trace(\n",
    "    go.Scatter(\n",
    "        name='Nebula',\n",
    "        x=nebula_big_mean_df['size'],\n",
    "        y=nebula_big_mean_df.seconds,\n",
    "                    line=dict(width=1.5, color=cols[3]), marker=dict(color=cols[3]),\n",
    "        error_y=dict(type='data', array=nebula_big_std_df.seconds, visible=True, thickness=1.5, color=cols[3]),\n",
    "         showlegend=False\n",
    "    ), row=1, col=2\n",
    ")\n",
    "\n",
    "# MTU IPsec big\n",
    "\n",
    "fig.add_trace(\n",
    "    go.Scatter(\n",
    "        name='IPsec',\n",
    "        x=ipmtu_big_mean_df['size'],\n",
    "        y=ipmtu_big_mean_df.seconds,\n",
    "                         line=dict(width=1.5, color=cols[2]), marker=dict(color=cols[2]),\n",
    "        error_y=dict(type='data', array=ipmtu_big_std_df.seconds, visible=True,thickness=1.5, color=cols[2]),\n",
    "         showlegend=False\n",
    "    ), row=1, col=2\n",
    ")\n",
    "\n",
    "# Update xaxis properties\n",
    "fig.update_xaxes(title_text=\"File size in megabytes\", row=1, col=1)\n",
    "fig.update_xaxes(title_text=\"File size in megabytes\", row=1, col=2)\n",
    "\n",
    "# Update yaxis properties\n",
    "fig.update_yaxes(title_text=\"Time (seconds)\", row=1, col=1)\n",
    "fig.update_yaxes(title_text=\"Time (seconds)\", row=1, col=2)\n",
    "\n",
    "fig.update_layout(\n",
    "     legend_title_text='Trend'  )\n",
    "\n",
    "\n",
    "fig.show()"
   ]
  },
  {
   "cell_type": "code",
   "execution_count": null,
   "metadata": {},
   "outputs": [],
   "source": [
    "fig.write_image(\"fig1_mtu.png\", width=1000, scale=1.5)\n"
   ]
  }
 ],
 "metadata": {
  "kernelspec": {
   "display_name": "Python 3",
   "language": "python",
   "name": "python3"
  },
  "language_info": {
   "codemirror_mode": {
    "name": "ipython",
    "version": 3
   },
   "file_extension": ".py",
   "mimetype": "text/x-python",
   "name": "python",
   "nbconvert_exporter": "python",
   "pygments_lexer": "ipython3",
   "version": "3.8.3"
  }
 },
 "nbformat": 4,
 "nbformat_minor": 4
}
